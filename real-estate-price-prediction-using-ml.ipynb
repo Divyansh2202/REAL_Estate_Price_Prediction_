{
 "cells": [
  {
   "cell_type": "markdown",
   "id": "22dd48fa",
   "metadata": {
    "papermill": {
     "duration": 0.10414,
     "end_time": "2023-01-15T17:54:44.519126",
     "exception": false,
     "start_time": "2023-01-15T17:54:44.414986",
     "status": "completed"
    },
    "tags": []
   },
   "source": [
    "# Real estate price prediction using ML "
   ]
  },
  {
   "cell_type": "markdown",
   "id": "e94224a7",
   "metadata": {
    "papermill": {
     "duration": 0.100341,
     "end_time": "2023-01-15T17:54:44.723749",
     "exception": false,
     "start_time": "2023-01-15T17:54:44.623408",
     "status": "completed"
    },
    "tags": []
   },
   "source": [
    "This project aims to correctly predict real estate prices in Madrid based on a publicly available dataset, after doing some data cleaning and exploration. In particular, the project is meant more as a learning experience for the author, evaluating 4 different ML techniques to make predictions - linear regression using ordinary least squares (OLS), RandomForest Regressor, Catboost Regressor and LightGBM Regressor. Clarifying comments have been made throughout the report and there is also a conclusion at the end. "
   ]
  },
  {
   "cell_type": "markdown",
   "id": "f84f979d",
   "metadata": {
    "papermill": {
     "duration": 0.098873,
     "end_time": "2023-01-15T17:54:44.924385",
     "exception": false,
     "start_time": "2023-01-15T17:54:44.825512",
     "status": "completed"
    },
    "tags": []
   },
   "source": [
    "**Best result: 91% R-squared score using tuned LGBM** "
   ]
  },
  {
   "cell_type": "code",
   "execution_count": 1,
   "id": "b0a646d0",
   "metadata": {
    "execution": {
     "iopub.execute_input": "2023-01-15T17:54:45.127839Z",
     "iopub.status.busy": "2023-01-15T17:54:45.127320Z",
     "iopub.status.idle": "2023-01-15T17:54:46.786267Z",
     "shell.execute_reply": "2023-01-15T17:54:46.785116Z"
    },
    "papermill": {
     "duration": 1.762584,
     "end_time": "2023-01-15T17:54:46.789095",
     "exception": false,
     "start_time": "2023-01-15T17:54:45.026511",
     "status": "completed"
    },
    "tags": []
   },
   "outputs": [],
   "source": [
    "import numpy as np\n",
    "import pandas as pd\n",
    "import matplotlib.pyplot as plt\n",
    "from sklearn.linear_model import LinearRegression\n",
    "import seaborn as sns\n",
    "sns.set()"
   ]
  },
  {
   "cell_type": "code",
   "execution_count": 2,
   "id": "c709570e",
   "metadata": {
    "execution": {
     "iopub.execute_input": "2023-01-15T17:54:46.993078Z",
     "iopub.status.busy": "2023-01-15T17:54:46.992780Z",
     "iopub.status.idle": "2023-01-15T17:54:47.410518Z",
     "shell.execute_reply": "2023-01-15T17:54:47.409682Z"
    },
    "papermill": {
     "duration": 0.523295,
     "end_time": "2023-01-15T17:54:47.414055",
     "exception": false,
     "start_time": "2023-01-15T17:54:46.890760",
     "status": "completed"
    },
    "scrolled": true,
    "tags": []
   },
   "outputs": [
    {
     "data": {
      "text/html": [
       "<div>\n",
       "<style scoped>\n",
       "    .dataframe tbody tr th:only-of-type {\n",
       "        vertical-align: middle;\n",
       "    }\n",
       "\n",
       "    .dataframe tbody tr th {\n",
       "        vertical-align: top;\n",
       "    }\n",
       "\n",
       "    .dataframe thead th {\n",
       "        text-align: right;\n",
       "    }\n",
       "</style>\n",
       "<table border=\"1\" class=\"dataframe\">\n",
       "  <thead>\n",
       "    <tr style=\"text-align: right;\">\n",
       "      <th></th>\n",
       "      <th>Unnamed: 0</th>\n",
       "      <th>id</th>\n",
       "      <th>title</th>\n",
       "      <th>subtitle</th>\n",
       "      <th>sq_mt_built</th>\n",
       "      <th>sq_mt_useful</th>\n",
       "      <th>n_rooms</th>\n",
       "      <th>n_bathrooms</th>\n",
       "      <th>n_floors</th>\n",
       "      <th>sq_mt_allotment</th>\n",
       "      <th>latitude</th>\n",
       "      <th>longitude</th>\n",
       "      <th>raw_address</th>\n",
       "      <th>is_exact_address_hidden</th>\n",
       "      <th>street_name</th>\n",
       "      <th>street_number</th>\n",
       "      <th>portal</th>\n",
       "      <th>floor</th>\n",
       "      <th>is_floor_under</th>\n",
       "      <th>door</th>\n",
       "      <th>neighborhood_id</th>\n",
       "      <th>operation</th>\n",
       "      <th>rent_price</th>\n",
       "      <th>rent_price_by_area</th>\n",
       "      <th>is_rent_price_known</th>\n",
       "      <th>buy_price</th>\n",
       "      <th>buy_price_by_area</th>\n",
       "      <th>is_buy_price_known</th>\n",
       "      <th>house_type_id</th>\n",
       "      <th>is_renewal_needed</th>\n",
       "      <th>is_new_development</th>\n",
       "      <th>built_year</th>\n",
       "      <th>has_central_heating</th>\n",
       "      <th>has_individual_heating</th>\n",
       "      <th>are_pets_allowed</th>\n",
       "      <th>has_ac</th>\n",
       "      <th>has_fitted_wardrobes</th>\n",
       "      <th>has_lift</th>\n",
       "      <th>is_exterior</th>\n",
       "      <th>has_garden</th>\n",
       "      <th>has_pool</th>\n",
       "      <th>has_terrace</th>\n",
       "      <th>has_balcony</th>\n",
       "      <th>has_storage_room</th>\n",
       "      <th>is_furnished</th>\n",
       "      <th>is_kitchen_equipped</th>\n",
       "      <th>is_accessible</th>\n",
       "      <th>has_green_zones</th>\n",
       "      <th>energy_certificate</th>\n",
       "      <th>has_parking</th>\n",
       "      <th>has_private_parking</th>\n",
       "      <th>has_public_parking</th>\n",
       "      <th>is_parking_included_in_price</th>\n",
       "      <th>parking_price</th>\n",
       "      <th>is_orientation_north</th>\n",
       "      <th>is_orientation_west</th>\n",
       "      <th>is_orientation_south</th>\n",
       "      <th>is_orientation_east</th>\n",
       "    </tr>\n",
       "  </thead>\n",
       "  <tbody>\n",
       "    <tr>\n",
       "      <th>0</th>\n",
       "      <td>0</td>\n",
       "      <td>21742</td>\n",
       "      <td>Piso en venta en calle de Godella, 64</td>\n",
       "      <td>San Cristóbal, Madrid</td>\n",
       "      <td>64.0</td>\n",
       "      <td>60.0</td>\n",
       "      <td>2</td>\n",
       "      <td>1.0</td>\n",
       "      <td>NaN</td>\n",
       "      <td>NaN</td>\n",
       "      <td>NaN</td>\n",
       "      <td>NaN</td>\n",
       "      <td>Calle de Godella, 64</td>\n",
       "      <td>False</td>\n",
       "      <td>Calle de Godella</td>\n",
       "      <td>64</td>\n",
       "      <td>NaN</td>\n",
       "      <td>3</td>\n",
       "      <td>False</td>\n",
       "      <td>NaN</td>\n",
       "      <td>Neighborhood 135: San Cristóbal (1308.89 €/m2)...</td>\n",
       "      <td>sale</td>\n",
       "      <td>471</td>\n",
       "      <td>NaN</td>\n",
       "      <td>False</td>\n",
       "      <td>85000</td>\n",
       "      <td>1328</td>\n",
       "      <td>True</td>\n",
       "      <td>HouseType 1: Pisos</td>\n",
       "      <td>False</td>\n",
       "      <td>False</td>\n",
       "      <td>1960.0</td>\n",
       "      <td>NaN</td>\n",
       "      <td>NaN</td>\n",
       "      <td>NaN</td>\n",
       "      <td>True</td>\n",
       "      <td>NaN</td>\n",
       "      <td>False</td>\n",
       "      <td>True</td>\n",
       "      <td>NaN</td>\n",
       "      <td>NaN</td>\n",
       "      <td>NaN</td>\n",
       "      <td>NaN</td>\n",
       "      <td>NaN</td>\n",
       "      <td>NaN</td>\n",
       "      <td>NaN</td>\n",
       "      <td>NaN</td>\n",
       "      <td>NaN</td>\n",
       "      <td>D</td>\n",
       "      <td>False</td>\n",
       "      <td>NaN</td>\n",
       "      <td>NaN</td>\n",
       "      <td>NaN</td>\n",
       "      <td>NaN</td>\n",
       "      <td>False</td>\n",
       "      <td>True</td>\n",
       "      <td>False</td>\n",
       "      <td>False</td>\n",
       "    </tr>\n",
       "    <tr>\n",
       "      <th>1</th>\n",
       "      <td>1</td>\n",
       "      <td>21741</td>\n",
       "      <td>Piso en venta en calle de la del Manojo de Rosas</td>\n",
       "      <td>Los Ángeles, Madrid</td>\n",
       "      <td>70.0</td>\n",
       "      <td>NaN</td>\n",
       "      <td>3</td>\n",
       "      <td>1.0</td>\n",
       "      <td>NaN</td>\n",
       "      <td>NaN</td>\n",
       "      <td>NaN</td>\n",
       "      <td>NaN</td>\n",
       "      <td>Calle de la del Manojo de Rosas</td>\n",
       "      <td>True</td>\n",
       "      <td>Calle de la del Manojo de Rosas</td>\n",
       "      <td>NaN</td>\n",
       "      <td>NaN</td>\n",
       "      <td>4</td>\n",
       "      <td>False</td>\n",
       "      <td>NaN</td>\n",
       "      <td>Neighborhood 132: Los Ángeles (1796.68 €/m2) -...</td>\n",
       "      <td>sale</td>\n",
       "      <td>666</td>\n",
       "      <td>NaN</td>\n",
       "      <td>False</td>\n",
       "      <td>129900</td>\n",
       "      <td>1856</td>\n",
       "      <td>True</td>\n",
       "      <td>HouseType 1: Pisos</td>\n",
       "      <td>True</td>\n",
       "      <td>False</td>\n",
       "      <td>NaN</td>\n",
       "      <td>NaN</td>\n",
       "      <td>NaN</td>\n",
       "      <td>NaN</td>\n",
       "      <td>NaN</td>\n",
       "      <td>True</td>\n",
       "      <td>True</td>\n",
       "      <td>True</td>\n",
       "      <td>NaN</td>\n",
       "      <td>NaN</td>\n",
       "      <td>True</td>\n",
       "      <td>NaN</td>\n",
       "      <td>NaN</td>\n",
       "      <td>NaN</td>\n",
       "      <td>NaN</td>\n",
       "      <td>NaN</td>\n",
       "      <td>NaN</td>\n",
       "      <td>en trámite</td>\n",
       "      <td>False</td>\n",
       "      <td>NaN</td>\n",
       "      <td>NaN</td>\n",
       "      <td>NaN</td>\n",
       "      <td>NaN</td>\n",
       "      <td>NaN</td>\n",
       "      <td>NaN</td>\n",
       "      <td>NaN</td>\n",
       "      <td>NaN</td>\n",
       "    </tr>\n",
       "    <tr>\n",
       "      <th>2</th>\n",
       "      <td>2</td>\n",
       "      <td>21740</td>\n",
       "      <td>Piso en venta en calle del Talco, 68</td>\n",
       "      <td>San Andrés, Madrid</td>\n",
       "      <td>94.0</td>\n",
       "      <td>54.0</td>\n",
       "      <td>2</td>\n",
       "      <td>2.0</td>\n",
       "      <td>NaN</td>\n",
       "      <td>NaN</td>\n",
       "      <td>NaN</td>\n",
       "      <td>NaN</td>\n",
       "      <td>Calle del Talco, 68</td>\n",
       "      <td>False</td>\n",
       "      <td>Calle del Talco</td>\n",
       "      <td>68</td>\n",
       "      <td>NaN</td>\n",
       "      <td>1</td>\n",
       "      <td>False</td>\n",
       "      <td>NaN</td>\n",
       "      <td>Neighborhood 134: San Andrés (1617.18 €/m2) - ...</td>\n",
       "      <td>sale</td>\n",
       "      <td>722</td>\n",
       "      <td>NaN</td>\n",
       "      <td>False</td>\n",
       "      <td>144247</td>\n",
       "      <td>1535</td>\n",
       "      <td>True</td>\n",
       "      <td>HouseType 1: Pisos</td>\n",
       "      <td>False</td>\n",
       "      <td>False</td>\n",
       "      <td>NaN</td>\n",
       "      <td>False</td>\n",
       "      <td>True</td>\n",
       "      <td>NaN</td>\n",
       "      <td>NaN</td>\n",
       "      <td>True</td>\n",
       "      <td>True</td>\n",
       "      <td>True</td>\n",
       "      <td>NaN</td>\n",
       "      <td>NaN</td>\n",
       "      <td>NaN</td>\n",
       "      <td>NaN</td>\n",
       "      <td>True</td>\n",
       "      <td>NaN</td>\n",
       "      <td>NaN</td>\n",
       "      <td>NaN</td>\n",
       "      <td>NaN</td>\n",
       "      <td>no indicado</td>\n",
       "      <td>False</td>\n",
       "      <td>NaN</td>\n",
       "      <td>NaN</td>\n",
       "      <td>NaN</td>\n",
       "      <td>NaN</td>\n",
       "      <td>NaN</td>\n",
       "      <td>NaN</td>\n",
       "      <td>NaN</td>\n",
       "      <td>NaN</td>\n",
       "    </tr>\n",
       "    <tr>\n",
       "      <th>3</th>\n",
       "      <td>3</td>\n",
       "      <td>21739</td>\n",
       "      <td>Piso en venta en calle Pedro Jiménez</td>\n",
       "      <td>San Andrés, Madrid</td>\n",
       "      <td>64.0</td>\n",
       "      <td>NaN</td>\n",
       "      <td>2</td>\n",
       "      <td>1.0</td>\n",
       "      <td>NaN</td>\n",
       "      <td>NaN</td>\n",
       "      <td>NaN</td>\n",
       "      <td>NaN</td>\n",
       "      <td>Calle Pedro Jiménez</td>\n",
       "      <td>True</td>\n",
       "      <td>Calle Pedro Jiménez</td>\n",
       "      <td>NaN</td>\n",
       "      <td>NaN</td>\n",
       "      <td>Bajo</td>\n",
       "      <td>True</td>\n",
       "      <td>NaN</td>\n",
       "      <td>Neighborhood 134: San Andrés (1617.18 €/m2) - ...</td>\n",
       "      <td>sale</td>\n",
       "      <td>583</td>\n",
       "      <td>NaN</td>\n",
       "      <td>False</td>\n",
       "      <td>109900</td>\n",
       "      <td>1717</td>\n",
       "      <td>True</td>\n",
       "      <td>HouseType 1: Pisos</td>\n",
       "      <td>False</td>\n",
       "      <td>False</td>\n",
       "      <td>1955.0</td>\n",
       "      <td>NaN</td>\n",
       "      <td>NaN</td>\n",
       "      <td>NaN</td>\n",
       "      <td>NaN</td>\n",
       "      <td>NaN</td>\n",
       "      <td>True</td>\n",
       "      <td>True</td>\n",
       "      <td>NaN</td>\n",
       "      <td>NaN</td>\n",
       "      <td>NaN</td>\n",
       "      <td>NaN</td>\n",
       "      <td>True</td>\n",
       "      <td>NaN</td>\n",
       "      <td>NaN</td>\n",
       "      <td>True</td>\n",
       "      <td>NaN</td>\n",
       "      <td>en trámite</td>\n",
       "      <td>False</td>\n",
       "      <td>NaN</td>\n",
       "      <td>NaN</td>\n",
       "      <td>NaN</td>\n",
       "      <td>NaN</td>\n",
       "      <td>False</td>\n",
       "      <td>False</td>\n",
       "      <td>True</td>\n",
       "      <td>False</td>\n",
       "    </tr>\n",
       "    <tr>\n",
       "      <th>4</th>\n",
       "      <td>4</td>\n",
       "      <td>21738</td>\n",
       "      <td>Piso en venta en carretera de Villaverde a Val...</td>\n",
       "      <td>Los Rosales, Madrid</td>\n",
       "      <td>108.0</td>\n",
       "      <td>90.0</td>\n",
       "      <td>2</td>\n",
       "      <td>2.0</td>\n",
       "      <td>NaN</td>\n",
       "      <td>NaN</td>\n",
       "      <td>NaN</td>\n",
       "      <td>NaN</td>\n",
       "      <td>Carretera de Villaverde a Vallecas</td>\n",
       "      <td>True</td>\n",
       "      <td>Carretera de Villaverde a Vallecas</td>\n",
       "      <td>NaN</td>\n",
       "      <td>NaN</td>\n",
       "      <td>4</td>\n",
       "      <td>False</td>\n",
       "      <td>NaN</td>\n",
       "      <td>Neighborhood 133: Los Rosales (1827.79 €/m2) -...</td>\n",
       "      <td>sale</td>\n",
       "      <td>1094</td>\n",
       "      <td>NaN</td>\n",
       "      <td>False</td>\n",
       "      <td>260000</td>\n",
       "      <td>2407</td>\n",
       "      <td>True</td>\n",
       "      <td>HouseType 1: Pisos</td>\n",
       "      <td>False</td>\n",
       "      <td>False</td>\n",
       "      <td>2003.0</td>\n",
       "      <td>NaN</td>\n",
       "      <td>NaN</td>\n",
       "      <td>NaN</td>\n",
       "      <td>True</td>\n",
       "      <td>True</td>\n",
       "      <td>True</td>\n",
       "      <td>True</td>\n",
       "      <td>NaN</td>\n",
       "      <td>True</td>\n",
       "      <td>NaN</td>\n",
       "      <td>NaN</td>\n",
       "      <td>True</td>\n",
       "      <td>NaN</td>\n",
       "      <td>NaN</td>\n",
       "      <td>NaN</td>\n",
       "      <td>True</td>\n",
       "      <td>en trámite</td>\n",
       "      <td>True</td>\n",
       "      <td>NaN</td>\n",
       "      <td>NaN</td>\n",
       "      <td>True</td>\n",
       "      <td>0.0</td>\n",
       "      <td>True</td>\n",
       "      <td>True</td>\n",
       "      <td>True</td>\n",
       "      <td>True</td>\n",
       "    </tr>\n",
       "  </tbody>\n",
       "</table>\n",
       "</div>"
      ],
      "text/plain": [
       "   Unnamed: 0     id                                              title  \\\n",
       "0           0  21742              Piso en venta en calle de Godella, 64   \n",
       "1           1  21741   Piso en venta en calle de la del Manojo de Rosas   \n",
       "2           2  21740               Piso en venta en calle del Talco, 68   \n",
       "3           3  21739               Piso en venta en calle Pedro Jiménez   \n",
       "4           4  21738  Piso en venta en carretera de Villaverde a Val...   \n",
       "\n",
       "                subtitle  sq_mt_built  sq_mt_useful  n_rooms  n_bathrooms  \\\n",
       "0  San Cristóbal, Madrid         64.0          60.0        2          1.0   \n",
       "1    Los Ángeles, Madrid         70.0           NaN        3          1.0   \n",
       "2     San Andrés, Madrid         94.0          54.0        2          2.0   \n",
       "3     San Andrés, Madrid         64.0           NaN        2          1.0   \n",
       "4    Los Rosales, Madrid        108.0          90.0        2          2.0   \n",
       "\n",
       "   n_floors  sq_mt_allotment  latitude  longitude  \\\n",
       "0       NaN              NaN       NaN        NaN   \n",
       "1       NaN              NaN       NaN        NaN   \n",
       "2       NaN              NaN       NaN        NaN   \n",
       "3       NaN              NaN       NaN        NaN   \n",
       "4       NaN              NaN       NaN        NaN   \n",
       "\n",
       "                          raw_address  is_exact_address_hidden  \\\n",
       "0                Calle de Godella, 64                    False   \n",
       "1     Calle de la del Manojo de Rosas                     True   \n",
       "2                 Calle del Talco, 68                    False   \n",
       "3                 Calle Pedro Jiménez                     True   \n",
       "4  Carretera de Villaverde a Vallecas                     True   \n",
       "\n",
       "                          street_name street_number  portal floor  \\\n",
       "0                    Calle de Godella            64     NaN     3   \n",
       "1     Calle de la del Manojo de Rosas           NaN     NaN     4   \n",
       "2                     Calle del Talco            68     NaN     1   \n",
       "3                 Calle Pedro Jiménez           NaN     NaN  Bajo   \n",
       "4  Carretera de Villaverde a Vallecas           NaN     NaN     4   \n",
       "\n",
       "  is_floor_under  door                                    neighborhood_id  \\\n",
       "0          False   NaN  Neighborhood 135: San Cristóbal (1308.89 €/m2)...   \n",
       "1          False   NaN  Neighborhood 132: Los Ángeles (1796.68 €/m2) -...   \n",
       "2          False   NaN  Neighborhood 134: San Andrés (1617.18 €/m2) - ...   \n",
       "3           True   NaN  Neighborhood 134: San Andrés (1617.18 €/m2) - ...   \n",
       "4          False   NaN  Neighborhood 133: Los Rosales (1827.79 €/m2) -...   \n",
       "\n",
       "  operation  rent_price  rent_price_by_area  is_rent_price_known  buy_price  \\\n",
       "0      sale         471                 NaN                False      85000   \n",
       "1      sale         666                 NaN                False     129900   \n",
       "2      sale         722                 NaN                False     144247   \n",
       "3      sale         583                 NaN                False     109900   \n",
       "4      sale        1094                 NaN                False     260000   \n",
       "\n",
       "   buy_price_by_area  is_buy_price_known       house_type_id  \\\n",
       "0               1328                True  HouseType 1: Pisos   \n",
       "1               1856                True  HouseType 1: Pisos   \n",
       "2               1535                True  HouseType 1: Pisos   \n",
       "3               1717                True  HouseType 1: Pisos   \n",
       "4               2407                True  HouseType 1: Pisos   \n",
       "\n",
       "   is_renewal_needed is_new_development  built_year has_central_heating  \\\n",
       "0              False              False      1960.0                 NaN   \n",
       "1               True              False         NaN                 NaN   \n",
       "2              False              False         NaN               False   \n",
       "3              False              False      1955.0                 NaN   \n",
       "4              False              False      2003.0                 NaN   \n",
       "\n",
       "  has_individual_heating  are_pets_allowed has_ac has_fitted_wardrobes  \\\n",
       "0                    NaN               NaN   True                  NaN   \n",
       "1                    NaN               NaN    NaN                 True   \n",
       "2                   True               NaN    NaN                 True   \n",
       "3                    NaN               NaN    NaN                  NaN   \n",
       "4                    NaN               NaN   True                 True   \n",
       "\n",
       "  has_lift is_exterior has_garden has_pool has_terrace has_balcony  \\\n",
       "0    False        True        NaN      NaN         NaN         NaN   \n",
       "1     True        True        NaN      NaN        True         NaN   \n",
       "2     True        True        NaN      NaN         NaN         NaN   \n",
       "3     True        True        NaN      NaN         NaN         NaN   \n",
       "4     True        True        NaN     True         NaN         NaN   \n",
       "\n",
       "  has_storage_room  is_furnished  is_kitchen_equipped is_accessible  \\\n",
       "0              NaN           NaN                  NaN           NaN   \n",
       "1              NaN           NaN                  NaN           NaN   \n",
       "2             True           NaN                  NaN           NaN   \n",
       "3             True           NaN                  NaN          True   \n",
       "4             True           NaN                  NaN           NaN   \n",
       "\n",
       "  has_green_zones energy_certificate  has_parking  has_private_parking  \\\n",
       "0             NaN                  D        False                  NaN   \n",
       "1             NaN         en trámite        False                  NaN   \n",
       "2             NaN        no indicado        False                  NaN   \n",
       "3             NaN         en trámite        False                  NaN   \n",
       "4            True         en trámite         True                  NaN   \n",
       "\n",
       "   has_public_parking is_parking_included_in_price  parking_price  \\\n",
       "0                 NaN                          NaN            NaN   \n",
       "1                 NaN                          NaN            NaN   \n",
       "2                 NaN                          NaN            NaN   \n",
       "3                 NaN                          NaN            NaN   \n",
       "4                 NaN                         True            0.0   \n",
       "\n",
       "  is_orientation_north is_orientation_west is_orientation_south  \\\n",
       "0                False                True                False   \n",
       "1                  NaN                 NaN                  NaN   \n",
       "2                  NaN                 NaN                  NaN   \n",
       "3                False               False                 True   \n",
       "4                 True                True                 True   \n",
       "\n",
       "  is_orientation_east  \n",
       "0               False  \n",
       "1                 NaN  \n",
       "2                 NaN  \n",
       "3               False  \n",
       "4                True  "
      ]
     },
     "execution_count": 2,
     "metadata": {},
     "output_type": "execute_result"
    }
   ],
   "source": [
    "#importing data from csv file\n",
    "raw_data = pd.read_csv('/kaggle/input/madrid-real-estate-market/houses_Madrid.csv')\n",
    "\n",
    "pd.set_option(\"display.max_columns\", None)\n",
    "# exploring the top 5 rows of the data\n",
    "raw_data.head()"
   ]
  },
  {
   "cell_type": "code",
   "execution_count": 3,
   "id": "bb710c98",
   "metadata": {
    "execution": {
     "iopub.execute_input": "2023-01-15T17:54:47.625129Z",
     "iopub.status.busy": "2023-01-15T17:54:47.624829Z",
     "iopub.status.idle": "2023-01-15T17:54:47.909642Z",
     "shell.execute_reply": "2023-01-15T17:54:47.908653Z"
    },
    "papermill": {
     "duration": 0.394307,
     "end_time": "2023-01-15T17:54:47.912443",
     "exception": false,
     "start_time": "2023-01-15T17:54:47.518136",
     "status": "completed"
    },
    "scrolled": true,
    "tags": []
   },
   "outputs": [
    {
     "data": {
      "text/html": [
       "<div>\n",
       "<style scoped>\n",
       "    .dataframe tbody tr th:only-of-type {\n",
       "        vertical-align: middle;\n",
       "    }\n",
       "\n",
       "    .dataframe tbody tr th {\n",
       "        vertical-align: top;\n",
       "    }\n",
       "\n",
       "    .dataframe thead th {\n",
       "        text-align: right;\n",
       "    }\n",
       "</style>\n",
       "<table border=\"1\" class=\"dataframe\">\n",
       "  <thead>\n",
       "    <tr style=\"text-align: right;\">\n",
       "      <th></th>\n",
       "      <th>Unnamed: 0</th>\n",
       "      <th>id</th>\n",
       "      <th>title</th>\n",
       "      <th>subtitle</th>\n",
       "      <th>sq_mt_built</th>\n",
       "      <th>sq_mt_useful</th>\n",
       "      <th>n_rooms</th>\n",
       "      <th>n_bathrooms</th>\n",
       "      <th>n_floors</th>\n",
       "      <th>sq_mt_allotment</th>\n",
       "      <th>latitude</th>\n",
       "      <th>longitude</th>\n",
       "      <th>raw_address</th>\n",
       "      <th>is_exact_address_hidden</th>\n",
       "      <th>street_name</th>\n",
       "      <th>street_number</th>\n",
       "      <th>portal</th>\n",
       "      <th>floor</th>\n",
       "      <th>is_floor_under</th>\n",
       "      <th>door</th>\n",
       "      <th>neighborhood_id</th>\n",
       "      <th>operation</th>\n",
       "      <th>rent_price</th>\n",
       "      <th>rent_price_by_area</th>\n",
       "      <th>is_rent_price_known</th>\n",
       "      <th>buy_price</th>\n",
       "      <th>buy_price_by_area</th>\n",
       "      <th>is_buy_price_known</th>\n",
       "      <th>house_type_id</th>\n",
       "      <th>is_renewal_needed</th>\n",
       "      <th>is_new_development</th>\n",
       "      <th>built_year</th>\n",
       "      <th>has_central_heating</th>\n",
       "      <th>has_individual_heating</th>\n",
       "      <th>are_pets_allowed</th>\n",
       "      <th>has_ac</th>\n",
       "      <th>has_fitted_wardrobes</th>\n",
       "      <th>has_lift</th>\n",
       "      <th>is_exterior</th>\n",
       "      <th>has_garden</th>\n",
       "      <th>has_pool</th>\n",
       "      <th>has_terrace</th>\n",
       "      <th>has_balcony</th>\n",
       "      <th>has_storage_room</th>\n",
       "      <th>is_furnished</th>\n",
       "      <th>is_kitchen_equipped</th>\n",
       "      <th>is_accessible</th>\n",
       "      <th>has_green_zones</th>\n",
       "      <th>energy_certificate</th>\n",
       "      <th>has_parking</th>\n",
       "      <th>has_private_parking</th>\n",
       "      <th>has_public_parking</th>\n",
       "      <th>is_parking_included_in_price</th>\n",
       "      <th>parking_price</th>\n",
       "      <th>is_orientation_north</th>\n",
       "      <th>is_orientation_west</th>\n",
       "      <th>is_orientation_south</th>\n",
       "      <th>is_orientation_east</th>\n",
       "    </tr>\n",
       "  </thead>\n",
       "  <tbody>\n",
       "    <tr>\n",
       "      <th>count</th>\n",
       "      <td>21742.000000</td>\n",
       "      <td>21742.000000</td>\n",
       "      <td>21742</td>\n",
       "      <td>21742</td>\n",
       "      <td>21616.000000</td>\n",
       "      <td>8228.000000</td>\n",
       "      <td>21742.000000</td>\n",
       "      <td>21726.000000</td>\n",
       "      <td>1437.000000</td>\n",
       "      <td>1432.000000</td>\n",
       "      <td>0.0</td>\n",
       "      <td>0.0</td>\n",
       "      <td>16277</td>\n",
       "      <td>21742</td>\n",
       "      <td>15837</td>\n",
       "      <td>6300</td>\n",
       "      <td>0.0</td>\n",
       "      <td>19135</td>\n",
       "      <td>20572</td>\n",
       "      <td>0.0</td>\n",
       "      <td>21742</td>\n",
       "      <td>21742</td>\n",
       "      <td>2.174200e+04</td>\n",
       "      <td>0.0</td>\n",
       "      <td>21742</td>\n",
       "      <td>2.174200e+04</td>\n",
       "      <td>21742.000000</td>\n",
       "      <td>21742</td>\n",
       "      <td>21351</td>\n",
       "      <td>21742</td>\n",
       "      <td>20750</td>\n",
       "      <td>10000.000000</td>\n",
       "      <td>13608</td>\n",
       "      <td>13608</td>\n",
       "      <td>0.0</td>\n",
       "      <td>11211</td>\n",
       "      <td>13399</td>\n",
       "      <td>19356</td>\n",
       "      <td>18699</td>\n",
       "      <td>1556</td>\n",
       "      <td>5171</td>\n",
       "      <td>9548</td>\n",
       "      <td>3321</td>\n",
       "      <td>7698</td>\n",
       "      <td>0.0</td>\n",
       "      <td>0.0</td>\n",
       "      <td>4074</td>\n",
       "      <td>4057</td>\n",
       "      <td>21742</td>\n",
       "      <td>21742</td>\n",
       "      <td>0.0</td>\n",
       "      <td>0.0</td>\n",
       "      <td>7719</td>\n",
       "      <td>7719.000000</td>\n",
       "      <td>11358</td>\n",
       "      <td>11358</td>\n",
       "      <td>11358</td>\n",
       "      <td>11358</td>\n",
       "    </tr>\n",
       "    <tr>\n",
       "      <th>unique</th>\n",
       "      <td>NaN</td>\n",
       "      <td>NaN</td>\n",
       "      <td>10736</td>\n",
       "      <td>146</td>\n",
       "      <td>NaN</td>\n",
       "      <td>NaN</td>\n",
       "      <td>NaN</td>\n",
       "      <td>NaN</td>\n",
       "      <td>NaN</td>\n",
       "      <td>NaN</td>\n",
       "      <td>NaN</td>\n",
       "      <td>NaN</td>\n",
       "      <td>9666</td>\n",
       "      <td>2</td>\n",
       "      <td>6177</td>\n",
       "      <td>420</td>\n",
       "      <td>NaN</td>\n",
       "      <td>19</td>\n",
       "      <td>2</td>\n",
       "      <td>NaN</td>\n",
       "      <td>126</td>\n",
       "      <td>1</td>\n",
       "      <td>NaN</td>\n",
       "      <td>NaN</td>\n",
       "      <td>1</td>\n",
       "      <td>NaN</td>\n",
       "      <td>NaN</td>\n",
       "      <td>1</td>\n",
       "      <td>4</td>\n",
       "      <td>2</td>\n",
       "      <td>2</td>\n",
       "      <td>NaN</td>\n",
       "      <td>2</td>\n",
       "      <td>2</td>\n",
       "      <td>NaN</td>\n",
       "      <td>1</td>\n",
       "      <td>1</td>\n",
       "      <td>2</td>\n",
       "      <td>2</td>\n",
       "      <td>1</td>\n",
       "      <td>1</td>\n",
       "      <td>1</td>\n",
       "      <td>1</td>\n",
       "      <td>1</td>\n",
       "      <td>NaN</td>\n",
       "      <td>NaN</td>\n",
       "      <td>1</td>\n",
       "      <td>1</td>\n",
       "      <td>10</td>\n",
       "      <td>2</td>\n",
       "      <td>NaN</td>\n",
       "      <td>NaN</td>\n",
       "      <td>2</td>\n",
       "      <td>NaN</td>\n",
       "      <td>2</td>\n",
       "      <td>2</td>\n",
       "      <td>2</td>\n",
       "      <td>2</td>\n",
       "    </tr>\n",
       "    <tr>\n",
       "      <th>top</th>\n",
       "      <td>NaN</td>\n",
       "      <td>NaN</td>\n",
       "      <td>Piso en venta en El Viso</td>\n",
       "      <td>Chamartín, Madrid</td>\n",
       "      <td>NaN</td>\n",
       "      <td>NaN</td>\n",
       "      <td>NaN</td>\n",
       "      <td>NaN</td>\n",
       "      <td>NaN</td>\n",
       "      <td>NaN</td>\n",
       "      <td>NaN</td>\n",
       "      <td>NaN</td>\n",
       "      <td>Paseo de la Castellana</td>\n",
       "      <td>True</td>\n",
       "      <td>Paseo de la Castellana</td>\n",
       "      <td>4</td>\n",
       "      <td>NaN</td>\n",
       "      <td>1</td>\n",
       "      <td>False</td>\n",
       "      <td>NaN</td>\n",
       "      <td>Neighborhood 23: Malasaña-Universidad (5196.25...</td>\n",
       "      <td>sale</td>\n",
       "      <td>NaN</td>\n",
       "      <td>NaN</td>\n",
       "      <td>False</td>\n",
       "      <td>NaN</td>\n",
       "      <td>NaN</td>\n",
       "      <td>True</td>\n",
       "      <td>HouseType 1: Pisos</td>\n",
       "      <td>False</td>\n",
       "      <td>False</td>\n",
       "      <td>NaN</td>\n",
       "      <td>False</td>\n",
       "      <td>True</td>\n",
       "      <td>NaN</td>\n",
       "      <td>True</td>\n",
       "      <td>True</td>\n",
       "      <td>True</td>\n",
       "      <td>True</td>\n",
       "      <td>True</td>\n",
       "      <td>True</td>\n",
       "      <td>True</td>\n",
       "      <td>True</td>\n",
       "      <td>True</td>\n",
       "      <td>NaN</td>\n",
       "      <td>NaN</td>\n",
       "      <td>True</td>\n",
       "      <td>True</td>\n",
       "      <td>en trámite</td>\n",
       "      <td>False</td>\n",
       "      <td>NaN</td>\n",
       "      <td>NaN</td>\n",
       "      <td>True</td>\n",
       "      <td>NaN</td>\n",
       "      <td>False</td>\n",
       "      <td>False</td>\n",
       "      <td>True</td>\n",
       "      <td>False</td>\n",
       "    </tr>\n",
       "    <tr>\n",
       "      <th>freq</th>\n",
       "      <td>NaN</td>\n",
       "      <td>NaN</td>\n",
       "      <td>193</td>\n",
       "      <td>851</td>\n",
       "      <td>NaN</td>\n",
       "      <td>NaN</td>\n",
       "      <td>NaN</td>\n",
       "      <td>NaN</td>\n",
       "      <td>NaN</td>\n",
       "      <td>NaN</td>\n",
       "      <td>NaN</td>\n",
       "      <td>NaN</td>\n",
       "      <td>94</td>\n",
       "      <td>15002</td>\n",
       "      <td>116</td>\n",
       "      <td>210</td>\n",
       "      <td>NaN</td>\n",
       "      <td>4440</td>\n",
       "      <td>18033</td>\n",
       "      <td>NaN</td>\n",
       "      <td>485</td>\n",
       "      <td>21742</td>\n",
       "      <td>NaN</td>\n",
       "      <td>NaN</td>\n",
       "      <td>21742</td>\n",
       "      <td>NaN</td>\n",
       "      <td>NaN</td>\n",
       "      <td>21742</td>\n",
       "      <td>17705</td>\n",
       "      <td>17747</td>\n",
       "      <td>19281</td>\n",
       "      <td>NaN</td>\n",
       "      <td>9516</td>\n",
       "      <td>9516</td>\n",
       "      <td>NaN</td>\n",
       "      <td>11211</td>\n",
       "      <td>13399</td>\n",
       "      <td>14895</td>\n",
       "      <td>16922</td>\n",
       "      <td>1556</td>\n",
       "      <td>5171</td>\n",
       "      <td>9548</td>\n",
       "      <td>3321</td>\n",
       "      <td>7698</td>\n",
       "      <td>NaN</td>\n",
       "      <td>NaN</td>\n",
       "      <td>4074</td>\n",
       "      <td>4057</td>\n",
       "      <td>10937</td>\n",
       "      <td>14023</td>\n",
       "      <td>NaN</td>\n",
       "      <td>NaN</td>\n",
       "      <td>7115</td>\n",
       "      <td>NaN</td>\n",
       "      <td>8567</td>\n",
       "      <td>7287</td>\n",
       "      <td>5823</td>\n",
       "      <td>6302</td>\n",
       "    </tr>\n",
       "    <tr>\n",
       "      <th>mean</th>\n",
       "      <td>10870.500000</td>\n",
       "      <td>10871.500000</td>\n",
       "      <td>NaN</td>\n",
       "      <td>NaN</td>\n",
       "      <td>146.920892</td>\n",
       "      <td>103.458192</td>\n",
       "      <td>3.005749</td>\n",
       "      <td>2.091687</td>\n",
       "      <td>3.128740</td>\n",
       "      <td>241.692737</td>\n",
       "      <td>NaN</td>\n",
       "      <td>NaN</td>\n",
       "      <td>NaN</td>\n",
       "      <td>NaN</td>\n",
       "      <td>NaN</td>\n",
       "      <td>NaN</td>\n",
       "      <td>NaN</td>\n",
       "      <td>NaN</td>\n",
       "      <td>NaN</td>\n",
       "      <td>NaN</td>\n",
       "      <td>NaN</td>\n",
       "      <td>NaN</td>\n",
       "      <td>-5.917031e+04</td>\n",
       "      <td>NaN</td>\n",
       "      <td>NaN</td>\n",
       "      <td>6.537356e+05</td>\n",
       "      <td>4020.523871</td>\n",
       "      <td>NaN</td>\n",
       "      <td>NaN</td>\n",
       "      <td>NaN</td>\n",
       "      <td>NaN</td>\n",
       "      <td>1970.046400</td>\n",
       "      <td>NaN</td>\n",
       "      <td>NaN</td>\n",
       "      <td>NaN</td>\n",
       "      <td>NaN</td>\n",
       "      <td>NaN</td>\n",
       "      <td>NaN</td>\n",
       "      <td>NaN</td>\n",
       "      <td>NaN</td>\n",
       "      <td>NaN</td>\n",
       "      <td>NaN</td>\n",
       "      <td>NaN</td>\n",
       "      <td>NaN</td>\n",
       "      <td>NaN</td>\n",
       "      <td>NaN</td>\n",
       "      <td>NaN</td>\n",
       "      <td>NaN</td>\n",
       "      <td>NaN</td>\n",
       "      <td>NaN</td>\n",
       "      <td>NaN</td>\n",
       "      <td>NaN</td>\n",
       "      <td>NaN</td>\n",
       "      <td>2658.000518</td>\n",
       "      <td>NaN</td>\n",
       "      <td>NaN</td>\n",
       "      <td>NaN</td>\n",
       "      <td>NaN</td>\n",
       "    </tr>\n",
       "    <tr>\n",
       "      <th>std</th>\n",
       "      <td>6276.519112</td>\n",
       "      <td>6276.519112</td>\n",
       "      <td>NaN</td>\n",
       "      <td>NaN</td>\n",
       "      <td>134.181865</td>\n",
       "      <td>88.259192</td>\n",
       "      <td>1.510497</td>\n",
       "      <td>1.406992</td>\n",
       "      <td>0.907713</td>\n",
       "      <td>247.484853</td>\n",
       "      <td>NaN</td>\n",
       "      <td>NaN</td>\n",
       "      <td>NaN</td>\n",
       "      <td>NaN</td>\n",
       "      <td>NaN</td>\n",
       "      <td>NaN</td>\n",
       "      <td>NaN</td>\n",
       "      <td>NaN</td>\n",
       "      <td>NaN</td>\n",
       "      <td>NaN</td>\n",
       "      <td>NaN</td>\n",
       "      <td>NaN</td>\n",
       "      <td>9.171162e+05</td>\n",
       "      <td>NaN</td>\n",
       "      <td>NaN</td>\n",
       "      <td>7.820821e+05</td>\n",
       "      <td>1908.418774</td>\n",
       "      <td>NaN</td>\n",
       "      <td>NaN</td>\n",
       "      <td>NaN</td>\n",
       "      <td>NaN</td>\n",
       "      <td>69.386705</td>\n",
       "      <td>NaN</td>\n",
       "      <td>NaN</td>\n",
       "      <td>NaN</td>\n",
       "      <td>NaN</td>\n",
       "      <td>NaN</td>\n",
       "      <td>NaN</td>\n",
       "      <td>NaN</td>\n",
       "      <td>NaN</td>\n",
       "      <td>NaN</td>\n",
       "      <td>NaN</td>\n",
       "      <td>NaN</td>\n",
       "      <td>NaN</td>\n",
       "      <td>NaN</td>\n",
       "      <td>NaN</td>\n",
       "      <td>NaN</td>\n",
       "      <td>NaN</td>\n",
       "      <td>NaN</td>\n",
       "      <td>NaN</td>\n",
       "      <td>NaN</td>\n",
       "      <td>NaN</td>\n",
       "      <td>NaN</td>\n",
       "      <td>13360.966258</td>\n",
       "      <td>NaN</td>\n",
       "      <td>NaN</td>\n",
       "      <td>NaN</td>\n",
       "      <td>NaN</td>\n",
       "    </tr>\n",
       "    <tr>\n",
       "      <th>min</th>\n",
       "      <td>0.000000</td>\n",
       "      <td>1.000000</td>\n",
       "      <td>NaN</td>\n",
       "      <td>NaN</td>\n",
       "      <td>13.000000</td>\n",
       "      <td>1.000000</td>\n",
       "      <td>0.000000</td>\n",
       "      <td>1.000000</td>\n",
       "      <td>1.000000</td>\n",
       "      <td>1.000000</td>\n",
       "      <td>NaN</td>\n",
       "      <td>NaN</td>\n",
       "      <td>NaN</td>\n",
       "      <td>NaN</td>\n",
       "      <td>NaN</td>\n",
       "      <td>NaN</td>\n",
       "      <td>NaN</td>\n",
       "      <td>NaN</td>\n",
       "      <td>NaN</td>\n",
       "      <td>NaN</td>\n",
       "      <td>NaN</td>\n",
       "      <td>NaN</td>\n",
       "      <td>-3.459028e+07</td>\n",
       "      <td>NaN</td>\n",
       "      <td>NaN</td>\n",
       "      <td>3.600000e+04</td>\n",
       "      <td>447.000000</td>\n",
       "      <td>NaN</td>\n",
       "      <td>NaN</td>\n",
       "      <td>NaN</td>\n",
       "      <td>NaN</td>\n",
       "      <td>1723.000000</td>\n",
       "      <td>NaN</td>\n",
       "      <td>NaN</td>\n",
       "      <td>NaN</td>\n",
       "      <td>NaN</td>\n",
       "      <td>NaN</td>\n",
       "      <td>NaN</td>\n",
       "      <td>NaN</td>\n",
       "      <td>NaN</td>\n",
       "      <td>NaN</td>\n",
       "      <td>NaN</td>\n",
       "      <td>NaN</td>\n",
       "      <td>NaN</td>\n",
       "      <td>NaN</td>\n",
       "      <td>NaN</td>\n",
       "      <td>NaN</td>\n",
       "      <td>NaN</td>\n",
       "      <td>NaN</td>\n",
       "      <td>NaN</td>\n",
       "      <td>NaN</td>\n",
       "      <td>NaN</td>\n",
       "      <td>NaN</td>\n",
       "      <td>0.000000</td>\n",
       "      <td>NaN</td>\n",
       "      <td>NaN</td>\n",
       "      <td>NaN</td>\n",
       "      <td>NaN</td>\n",
       "    </tr>\n",
       "    <tr>\n",
       "      <th>25%</th>\n",
       "      <td>5435.250000</td>\n",
       "      <td>5436.250000</td>\n",
       "      <td>NaN</td>\n",
       "      <td>NaN</td>\n",
       "      <td>70.000000</td>\n",
       "      <td>59.000000</td>\n",
       "      <td>2.000000</td>\n",
       "      <td>1.000000</td>\n",
       "      <td>2.000000</td>\n",
       "      <td>2.000000</td>\n",
       "      <td>NaN</td>\n",
       "      <td>NaN</td>\n",
       "      <td>NaN</td>\n",
       "      <td>NaN</td>\n",
       "      <td>NaN</td>\n",
       "      <td>NaN</td>\n",
       "      <td>NaN</td>\n",
       "      <td>NaN</td>\n",
       "      <td>NaN</td>\n",
       "      <td>NaN</td>\n",
       "      <td>NaN</td>\n",
       "      <td>NaN</td>\n",
       "      <td>7.250000e+02</td>\n",
       "      <td>NaN</td>\n",
       "      <td>NaN</td>\n",
       "      <td>1.980000e+05</td>\n",
       "      <td>2551.000000</td>\n",
       "      <td>NaN</td>\n",
       "      <td>NaN</td>\n",
       "      <td>NaN</td>\n",
       "      <td>NaN</td>\n",
       "      <td>1957.000000</td>\n",
       "      <td>NaN</td>\n",
       "      <td>NaN</td>\n",
       "      <td>NaN</td>\n",
       "      <td>NaN</td>\n",
       "      <td>NaN</td>\n",
       "      <td>NaN</td>\n",
       "      <td>NaN</td>\n",
       "      <td>NaN</td>\n",
       "      <td>NaN</td>\n",
       "      <td>NaN</td>\n",
       "      <td>NaN</td>\n",
       "      <td>NaN</td>\n",
       "      <td>NaN</td>\n",
       "      <td>NaN</td>\n",
       "      <td>NaN</td>\n",
       "      <td>NaN</td>\n",
       "      <td>NaN</td>\n",
       "      <td>NaN</td>\n",
       "      <td>NaN</td>\n",
       "      <td>NaN</td>\n",
       "      <td>NaN</td>\n",
       "      <td>0.000000</td>\n",
       "      <td>NaN</td>\n",
       "      <td>NaN</td>\n",
       "      <td>NaN</td>\n",
       "      <td>NaN</td>\n",
       "    </tr>\n",
       "    <tr>\n",
       "      <th>50%</th>\n",
       "      <td>10870.500000</td>\n",
       "      <td>10871.500000</td>\n",
       "      <td>NaN</td>\n",
       "      <td>NaN</td>\n",
       "      <td>100.000000</td>\n",
       "      <td>79.000000</td>\n",
       "      <td>3.000000</td>\n",
       "      <td>2.000000</td>\n",
       "      <td>3.000000</td>\n",
       "      <td>232.000000</td>\n",
       "      <td>NaN</td>\n",
       "      <td>NaN</td>\n",
       "      <td>NaN</td>\n",
       "      <td>NaN</td>\n",
       "      <td>NaN</td>\n",
       "      <td>NaN</td>\n",
       "      <td>NaN</td>\n",
       "      <td>NaN</td>\n",
       "      <td>NaN</td>\n",
       "      <td>NaN</td>\n",
       "      <td>NaN</td>\n",
       "      <td>NaN</td>\n",
       "      <td>1.116000e+03</td>\n",
       "      <td>NaN</td>\n",
       "      <td>NaN</td>\n",
       "      <td>3.750000e+05</td>\n",
       "      <td>3720.000000</td>\n",
       "      <td>NaN</td>\n",
       "      <td>NaN</td>\n",
       "      <td>NaN</td>\n",
       "      <td>NaN</td>\n",
       "      <td>1970.000000</td>\n",
       "      <td>NaN</td>\n",
       "      <td>NaN</td>\n",
       "      <td>NaN</td>\n",
       "      <td>NaN</td>\n",
       "      <td>NaN</td>\n",
       "      <td>NaN</td>\n",
       "      <td>NaN</td>\n",
       "      <td>NaN</td>\n",
       "      <td>NaN</td>\n",
       "      <td>NaN</td>\n",
       "      <td>NaN</td>\n",
       "      <td>NaN</td>\n",
       "      <td>NaN</td>\n",
       "      <td>NaN</td>\n",
       "      <td>NaN</td>\n",
       "      <td>NaN</td>\n",
       "      <td>NaN</td>\n",
       "      <td>NaN</td>\n",
       "      <td>NaN</td>\n",
       "      <td>NaN</td>\n",
       "      <td>NaN</td>\n",
       "      <td>0.000000</td>\n",
       "      <td>NaN</td>\n",
       "      <td>NaN</td>\n",
       "      <td>NaN</td>\n",
       "      <td>NaN</td>\n",
       "    </tr>\n",
       "    <tr>\n",
       "      <th>75%</th>\n",
       "      <td>16305.750000</td>\n",
       "      <td>16306.750000</td>\n",
       "      <td>NaN</td>\n",
       "      <td>NaN</td>\n",
       "      <td>162.000000</td>\n",
       "      <td>113.000000</td>\n",
       "      <td>4.000000</td>\n",
       "      <td>2.000000</td>\n",
       "      <td>4.000000</td>\n",
       "      <td>354.000000</td>\n",
       "      <td>NaN</td>\n",
       "      <td>NaN</td>\n",
       "      <td>NaN</td>\n",
       "      <td>NaN</td>\n",
       "      <td>NaN</td>\n",
       "      <td>NaN</td>\n",
       "      <td>NaN</td>\n",
       "      <td>NaN</td>\n",
       "      <td>NaN</td>\n",
       "      <td>NaN</td>\n",
       "      <td>NaN</td>\n",
       "      <td>NaN</td>\n",
       "      <td>1.687000e+03</td>\n",
       "      <td>NaN</td>\n",
       "      <td>NaN</td>\n",
       "      <td>7.636000e+05</td>\n",
       "      <td>5000.000000</td>\n",
       "      <td>NaN</td>\n",
       "      <td>NaN</td>\n",
       "      <td>NaN</td>\n",
       "      <td>NaN</td>\n",
       "      <td>1994.000000</td>\n",
       "      <td>NaN</td>\n",
       "      <td>NaN</td>\n",
       "      <td>NaN</td>\n",
       "      <td>NaN</td>\n",
       "      <td>NaN</td>\n",
       "      <td>NaN</td>\n",
       "      <td>NaN</td>\n",
       "      <td>NaN</td>\n",
       "      <td>NaN</td>\n",
       "      <td>NaN</td>\n",
       "      <td>NaN</td>\n",
       "      <td>NaN</td>\n",
       "      <td>NaN</td>\n",
       "      <td>NaN</td>\n",
       "      <td>NaN</td>\n",
       "      <td>NaN</td>\n",
       "      <td>NaN</td>\n",
       "      <td>NaN</td>\n",
       "      <td>NaN</td>\n",
       "      <td>NaN</td>\n",
       "      <td>NaN</td>\n",
       "      <td>0.000000</td>\n",
       "      <td>NaN</td>\n",
       "      <td>NaN</td>\n",
       "      <td>NaN</td>\n",
       "      <td>NaN</td>\n",
       "    </tr>\n",
       "    <tr>\n",
       "      <th>max</th>\n",
       "      <td>21741.000000</td>\n",
       "      <td>21742.000000</td>\n",
       "      <td>NaN</td>\n",
       "      <td>NaN</td>\n",
       "      <td>999.000000</td>\n",
       "      <td>998.000000</td>\n",
       "      <td>24.000000</td>\n",
       "      <td>16.000000</td>\n",
       "      <td>7.000000</td>\n",
       "      <td>997.000000</td>\n",
       "      <td>NaN</td>\n",
       "      <td>NaN</td>\n",
       "      <td>NaN</td>\n",
       "      <td>NaN</td>\n",
       "      <td>NaN</td>\n",
       "      <td>NaN</td>\n",
       "      <td>NaN</td>\n",
       "      <td>NaN</td>\n",
       "      <td>NaN</td>\n",
       "      <td>NaN</td>\n",
       "      <td>NaN</td>\n",
       "      <td>NaN</td>\n",
       "      <td>2.517000e+03</td>\n",
       "      <td>NaN</td>\n",
       "      <td>NaN</td>\n",
       "      <td>8.800000e+06</td>\n",
       "      <td>18889.000000</td>\n",
       "      <td>NaN</td>\n",
       "      <td>NaN</td>\n",
       "      <td>NaN</td>\n",
       "      <td>NaN</td>\n",
       "      <td>8170.000000</td>\n",
       "      <td>NaN</td>\n",
       "      <td>NaN</td>\n",
       "      <td>NaN</td>\n",
       "      <td>NaN</td>\n",
       "      <td>NaN</td>\n",
       "      <td>NaN</td>\n",
       "      <td>NaN</td>\n",
       "      <td>NaN</td>\n",
       "      <td>NaN</td>\n",
       "      <td>NaN</td>\n",
       "      <td>NaN</td>\n",
       "      <td>NaN</td>\n",
       "      <td>NaN</td>\n",
       "      <td>NaN</td>\n",
       "      <td>NaN</td>\n",
       "      <td>NaN</td>\n",
       "      <td>NaN</td>\n",
       "      <td>NaN</td>\n",
       "      <td>NaN</td>\n",
       "      <td>NaN</td>\n",
       "      <td>NaN</td>\n",
       "      <td>600000.000000</td>\n",
       "      <td>NaN</td>\n",
       "      <td>NaN</td>\n",
       "      <td>NaN</td>\n",
       "      <td>NaN</td>\n",
       "    </tr>\n",
       "  </tbody>\n",
       "</table>\n",
       "</div>"
      ],
      "text/plain": [
       "          Unnamed: 0            id                     title  \\\n",
       "count   21742.000000  21742.000000                     21742   \n",
       "unique           NaN           NaN                     10736   \n",
       "top              NaN           NaN  Piso en venta en El Viso   \n",
       "freq             NaN           NaN                       193   \n",
       "mean    10870.500000  10871.500000                       NaN   \n",
       "std      6276.519112   6276.519112                       NaN   \n",
       "min         0.000000      1.000000                       NaN   \n",
       "25%      5435.250000   5436.250000                       NaN   \n",
       "50%     10870.500000  10871.500000                       NaN   \n",
       "75%     16305.750000  16306.750000                       NaN   \n",
       "max     21741.000000  21742.000000                       NaN   \n",
       "\n",
       "                 subtitle   sq_mt_built  sq_mt_useful       n_rooms  \\\n",
       "count               21742  21616.000000   8228.000000  21742.000000   \n",
       "unique                146           NaN           NaN           NaN   \n",
       "top     Chamartín, Madrid           NaN           NaN           NaN   \n",
       "freq                  851           NaN           NaN           NaN   \n",
       "mean                  NaN    146.920892    103.458192      3.005749   \n",
       "std                   NaN    134.181865     88.259192      1.510497   \n",
       "min                   NaN     13.000000      1.000000      0.000000   \n",
       "25%                   NaN     70.000000     59.000000      2.000000   \n",
       "50%                   NaN    100.000000     79.000000      3.000000   \n",
       "75%                   NaN    162.000000    113.000000      4.000000   \n",
       "max                   NaN    999.000000    998.000000     24.000000   \n",
       "\n",
       "         n_bathrooms     n_floors  sq_mt_allotment  latitude  longitude  \\\n",
       "count   21726.000000  1437.000000      1432.000000       0.0        0.0   \n",
       "unique           NaN          NaN              NaN       NaN        NaN   \n",
       "top              NaN          NaN              NaN       NaN        NaN   \n",
       "freq             NaN          NaN              NaN       NaN        NaN   \n",
       "mean        2.091687     3.128740       241.692737       NaN        NaN   \n",
       "std         1.406992     0.907713       247.484853       NaN        NaN   \n",
       "min         1.000000     1.000000         1.000000       NaN        NaN   \n",
       "25%         1.000000     2.000000         2.000000       NaN        NaN   \n",
       "50%         2.000000     3.000000       232.000000       NaN        NaN   \n",
       "75%         2.000000     4.000000       354.000000       NaN        NaN   \n",
       "max        16.000000     7.000000       997.000000       NaN        NaN   \n",
       "\n",
       "                   raw_address is_exact_address_hidden  \\\n",
       "count                    16277                   21742   \n",
       "unique                    9666                       2   \n",
       "top     Paseo de la Castellana                    True   \n",
       "freq                        94                   15002   \n",
       "mean                       NaN                     NaN   \n",
       "std                        NaN                     NaN   \n",
       "min                        NaN                     NaN   \n",
       "25%                        NaN                     NaN   \n",
       "50%                        NaN                     NaN   \n",
       "75%                        NaN                     NaN   \n",
       "max                        NaN                     NaN   \n",
       "\n",
       "                   street_name street_number  portal  floor is_floor_under  \\\n",
       "count                    15837          6300     0.0  19135          20572   \n",
       "unique                    6177           420     NaN     19              2   \n",
       "top     Paseo de la Castellana             4     NaN      1          False   \n",
       "freq                       116           210     NaN   4440          18033   \n",
       "mean                       NaN           NaN     NaN    NaN            NaN   \n",
       "std                        NaN           NaN     NaN    NaN            NaN   \n",
       "min                        NaN           NaN     NaN    NaN            NaN   \n",
       "25%                        NaN           NaN     NaN    NaN            NaN   \n",
       "50%                        NaN           NaN     NaN    NaN            NaN   \n",
       "75%                        NaN           NaN     NaN    NaN            NaN   \n",
       "max                        NaN           NaN     NaN    NaN            NaN   \n",
       "\n",
       "        door                                    neighborhood_id operation  \\\n",
       "count    0.0                                              21742     21742   \n",
       "unique   NaN                                                126         1   \n",
       "top      NaN  Neighborhood 23: Malasaña-Universidad (5196.25...      sale   \n",
       "freq     NaN                                                485     21742   \n",
       "mean     NaN                                                NaN       NaN   \n",
       "std      NaN                                                NaN       NaN   \n",
       "min      NaN                                                NaN       NaN   \n",
       "25%      NaN                                                NaN       NaN   \n",
       "50%      NaN                                                NaN       NaN   \n",
       "75%      NaN                                                NaN       NaN   \n",
       "max      NaN                                                NaN       NaN   \n",
       "\n",
       "          rent_price  rent_price_by_area is_rent_price_known     buy_price  \\\n",
       "count   2.174200e+04                 0.0               21742  2.174200e+04   \n",
       "unique           NaN                 NaN                   1           NaN   \n",
       "top              NaN                 NaN               False           NaN   \n",
       "freq             NaN                 NaN               21742           NaN   \n",
       "mean   -5.917031e+04                 NaN                 NaN  6.537356e+05   \n",
       "std     9.171162e+05                 NaN                 NaN  7.820821e+05   \n",
       "min    -3.459028e+07                 NaN                 NaN  3.600000e+04   \n",
       "25%     7.250000e+02                 NaN                 NaN  1.980000e+05   \n",
       "50%     1.116000e+03                 NaN                 NaN  3.750000e+05   \n",
       "75%     1.687000e+03                 NaN                 NaN  7.636000e+05   \n",
       "max     2.517000e+03                 NaN                 NaN  8.800000e+06   \n",
       "\n",
       "        buy_price_by_area is_buy_price_known       house_type_id  \\\n",
       "count        21742.000000              21742               21351   \n",
       "unique                NaN                  1                   4   \n",
       "top                   NaN               True  HouseType 1: Pisos   \n",
       "freq                  NaN              21742               17705   \n",
       "mean          4020.523871                NaN                 NaN   \n",
       "std           1908.418774                NaN                 NaN   \n",
       "min            447.000000                NaN                 NaN   \n",
       "25%           2551.000000                NaN                 NaN   \n",
       "50%           3720.000000                NaN                 NaN   \n",
       "75%           5000.000000                NaN                 NaN   \n",
       "max          18889.000000                NaN                 NaN   \n",
       "\n",
       "       is_renewal_needed is_new_development    built_year has_central_heating  \\\n",
       "count              21742              20750  10000.000000               13608   \n",
       "unique                 2                  2           NaN                   2   \n",
       "top                False              False           NaN               False   \n",
       "freq               17747              19281           NaN                9516   \n",
       "mean                 NaN                NaN   1970.046400                 NaN   \n",
       "std                  NaN                NaN     69.386705                 NaN   \n",
       "min                  NaN                NaN   1723.000000                 NaN   \n",
       "25%                  NaN                NaN   1957.000000                 NaN   \n",
       "50%                  NaN                NaN   1970.000000                 NaN   \n",
       "75%                  NaN                NaN   1994.000000                 NaN   \n",
       "max                  NaN                NaN   8170.000000                 NaN   \n",
       "\n",
       "       has_individual_heating  are_pets_allowed has_ac has_fitted_wardrobes  \\\n",
       "count                   13608               0.0  11211                13399   \n",
       "unique                      2               NaN      1                    1   \n",
       "top                      True               NaN   True                 True   \n",
       "freq                     9516               NaN  11211                13399   \n",
       "mean                      NaN               NaN    NaN                  NaN   \n",
       "std                       NaN               NaN    NaN                  NaN   \n",
       "min                       NaN               NaN    NaN                  NaN   \n",
       "25%                       NaN               NaN    NaN                  NaN   \n",
       "50%                       NaN               NaN    NaN                  NaN   \n",
       "75%                       NaN               NaN    NaN                  NaN   \n",
       "max                       NaN               NaN    NaN                  NaN   \n",
       "\n",
       "       has_lift is_exterior has_garden has_pool has_terrace has_balcony  \\\n",
       "count     19356       18699       1556     5171        9548        3321   \n",
       "unique        2           2          1        1           1           1   \n",
       "top        True        True       True     True        True        True   \n",
       "freq      14895       16922       1556     5171        9548        3321   \n",
       "mean        NaN         NaN        NaN      NaN         NaN         NaN   \n",
       "std         NaN         NaN        NaN      NaN         NaN         NaN   \n",
       "min         NaN         NaN        NaN      NaN         NaN         NaN   \n",
       "25%         NaN         NaN        NaN      NaN         NaN         NaN   \n",
       "50%         NaN         NaN        NaN      NaN         NaN         NaN   \n",
       "75%         NaN         NaN        NaN      NaN         NaN         NaN   \n",
       "max         NaN         NaN        NaN      NaN         NaN         NaN   \n",
       "\n",
       "       has_storage_room  is_furnished  is_kitchen_equipped is_accessible  \\\n",
       "count              7698           0.0                  0.0          4074   \n",
       "unique                1           NaN                  NaN             1   \n",
       "top                True           NaN                  NaN          True   \n",
       "freq               7698           NaN                  NaN          4074   \n",
       "mean                NaN           NaN                  NaN           NaN   \n",
       "std                 NaN           NaN                  NaN           NaN   \n",
       "min                 NaN           NaN                  NaN           NaN   \n",
       "25%                 NaN           NaN                  NaN           NaN   \n",
       "50%                 NaN           NaN                  NaN           NaN   \n",
       "75%                 NaN           NaN                  NaN           NaN   \n",
       "max                 NaN           NaN                  NaN           NaN   \n",
       "\n",
       "       has_green_zones energy_certificate has_parking  has_private_parking  \\\n",
       "count             4057              21742       21742                  0.0   \n",
       "unique               1                 10           2                  NaN   \n",
       "top               True         en trámite       False                  NaN   \n",
       "freq              4057              10937       14023                  NaN   \n",
       "mean               NaN                NaN         NaN                  NaN   \n",
       "std                NaN                NaN         NaN                  NaN   \n",
       "min                NaN                NaN         NaN                  NaN   \n",
       "25%                NaN                NaN         NaN                  NaN   \n",
       "50%                NaN                NaN         NaN                  NaN   \n",
       "75%                NaN                NaN         NaN                  NaN   \n",
       "max                NaN                NaN         NaN                  NaN   \n",
       "\n",
       "        has_public_parking is_parking_included_in_price  parking_price  \\\n",
       "count                  0.0                         7719    7719.000000   \n",
       "unique                 NaN                            2            NaN   \n",
       "top                    NaN                         True            NaN   \n",
       "freq                   NaN                         7115            NaN   \n",
       "mean                   NaN                          NaN    2658.000518   \n",
       "std                    NaN                          NaN   13360.966258   \n",
       "min                    NaN                          NaN       0.000000   \n",
       "25%                    NaN                          NaN       0.000000   \n",
       "50%                    NaN                          NaN       0.000000   \n",
       "75%                    NaN                          NaN       0.000000   \n",
       "max                    NaN                          NaN  600000.000000   \n",
       "\n",
       "       is_orientation_north is_orientation_west is_orientation_south  \\\n",
       "count                 11358               11358                11358   \n",
       "unique                    2                   2                    2   \n",
       "top                   False               False                 True   \n",
       "freq                   8567                7287                 5823   \n",
       "mean                    NaN                 NaN                  NaN   \n",
       "std                     NaN                 NaN                  NaN   \n",
       "min                     NaN                 NaN                  NaN   \n",
       "25%                     NaN                 NaN                  NaN   \n",
       "50%                     NaN                 NaN                  NaN   \n",
       "75%                     NaN                 NaN                  NaN   \n",
       "max                     NaN                 NaN                  NaN   \n",
       "\n",
       "       is_orientation_east  \n",
       "count                11358  \n",
       "unique                   2  \n",
       "top                  False  \n",
       "freq                  6302  \n",
       "mean                   NaN  \n",
       "std                    NaN  \n",
       "min                    NaN  \n",
       "25%                    NaN  \n",
       "50%                    NaN  \n",
       "75%                    NaN  \n",
       "max                    NaN  "
      ]
     },
     "execution_count": 3,
     "metadata": {},
     "output_type": "execute_result"
    }
   ],
   "source": [
    "raw_data.describe(include='all')"
   ]
  },
  {
   "cell_type": "markdown",
   "id": "b61fae59",
   "metadata": {
    "papermill": {
     "duration": 0.108069,
     "end_time": "2023-01-15T17:54:48.127821",
     "exception": false,
     "start_time": "2023-01-15T17:54:48.019752",
     "status": "completed"
    },
    "tags": []
   },
   "source": [
    "There is lots of data, some features including 21742 counts of data and\n",
    "58 columns as outlined above. The features with the highest correlation with buy_price will be explored, as well as features logically would increase a given real estate's price. It makes sense that with the parameters below, the price would increase\n",
    "e.g. more space (sq_mt_built) would increase the price, a newer house would be more expensive, south orientation is also very valuable, etc."
   ]
  },
  {
   "cell_type": "code",
   "execution_count": 4,
   "id": "07d2a1c2",
   "metadata": {
    "execution": {
     "iopub.execute_input": "2023-01-15T17:54:48.342189Z",
     "iopub.status.busy": "2023-01-15T17:54:48.341902Z",
     "iopub.status.idle": "2023-01-15T17:54:48.379735Z",
     "shell.execute_reply": "2023-01-15T17:54:48.378852Z"
    },
    "papermill": {
     "duration": 0.143808,
     "end_time": "2023-01-15T17:54:48.381786",
     "exception": false,
     "start_time": "2023-01-15T17:54:48.237978",
     "status": "completed"
    },
    "tags": []
   },
   "outputs": [
    {
     "data": {
      "text/plain": [
       "buy_price                  1.000000\n",
       "sq_mt_built                0.832039\n",
       "sq_mt_useful               0.809959\n",
       "n_bathrooms                0.772218\n",
       "n_rooms                    0.608893\n",
       "buy_price_by_area          0.519645\n",
       "has_parking                0.330515\n",
       "is_exact_address_hidden    0.166835\n",
       "Unnamed: 0                 0.165192\n",
       "n_floors                   0.046492\n",
       "is_renewal_needed          0.044302\n",
       "parking_price              0.020581\n",
       "built_year                 0.008514\n",
       "sq_mt_allotment           -0.025751\n",
       "id                        -0.165192\n",
       "rent_price                -0.468449\n",
       "latitude                        NaN\n",
       "longitude                       NaN\n",
       "portal                          NaN\n",
       "door                            NaN\n",
       "rent_price_by_area              NaN\n",
       "is_rent_price_known             NaN\n",
       "is_buy_price_known              NaN\n",
       "are_pets_allowed                NaN\n",
       "is_furnished                    NaN\n",
       "is_kitchen_equipped             NaN\n",
       "has_private_parking             NaN\n",
       "has_public_parking              NaN\n",
       "Name: buy_price, dtype: float64"
      ]
     },
     "execution_count": 4,
     "metadata": {},
     "output_type": "execute_result"
    }
   ],
   "source": [
    "raw_data.corr()['buy_price'].sort_values(ascending=False)"
   ]
  },
  {
   "cell_type": "code",
   "execution_count": 5,
   "id": "1a819a7f",
   "metadata": {
    "execution": {
     "iopub.execute_input": "2023-01-15T17:54:48.591817Z",
     "iopub.status.busy": "2023-01-15T17:54:48.591488Z",
     "iopub.status.idle": "2023-01-15T17:54:48.611899Z",
     "shell.execute_reply": "2023-01-15T17:54:48.611017Z"
    },
    "papermill": {
     "duration": 0.128425,
     "end_time": "2023-01-15T17:54:48.614105",
     "exception": false,
     "start_time": "2023-01-15T17:54:48.485680",
     "status": "completed"
    },
    "scrolled": true,
    "tags": []
   },
   "outputs": [
    {
     "data": {
      "text/html": [
       "<div>\n",
       "<style scoped>\n",
       "    .dataframe tbody tr th:only-of-type {\n",
       "        vertical-align: middle;\n",
       "    }\n",
       "\n",
       "    .dataframe tbody tr th {\n",
       "        vertical-align: top;\n",
       "    }\n",
       "\n",
       "    .dataframe thead th {\n",
       "        text-align: right;\n",
       "    }\n",
       "</style>\n",
       "<table border=\"1\" class=\"dataframe\">\n",
       "  <thead>\n",
       "    <tr style=\"text-align: right;\">\n",
       "      <th></th>\n",
       "      <th>sq_mt_built</th>\n",
       "      <th>n_rooms</th>\n",
       "      <th>n_bathrooms</th>\n",
       "      <th>buy_price</th>\n",
       "      <th>buy_price_by_area</th>\n",
       "      <th>built_year</th>\n",
       "      <th>has_parking</th>\n",
       "      <th>is_orientation_south</th>\n",
       "      <th>has_lift</th>\n",
       "      <th>has_central_heating</th>\n",
       "      <th>subtitle</th>\n",
       "    </tr>\n",
       "  </thead>\n",
       "  <tbody>\n",
       "    <tr>\n",
       "      <th>0</th>\n",
       "      <td>64.0</td>\n",
       "      <td>2</td>\n",
       "      <td>1.0</td>\n",
       "      <td>85000</td>\n",
       "      <td>1328</td>\n",
       "      <td>1960.0</td>\n",
       "      <td>False</td>\n",
       "      <td>False</td>\n",
       "      <td>False</td>\n",
       "      <td>NaN</td>\n",
       "      <td>San Cristóbal, Madrid</td>\n",
       "    </tr>\n",
       "    <tr>\n",
       "      <th>1</th>\n",
       "      <td>70.0</td>\n",
       "      <td>3</td>\n",
       "      <td>1.0</td>\n",
       "      <td>129900</td>\n",
       "      <td>1856</td>\n",
       "      <td>NaN</td>\n",
       "      <td>False</td>\n",
       "      <td>NaN</td>\n",
       "      <td>True</td>\n",
       "      <td>NaN</td>\n",
       "      <td>Los Ángeles, Madrid</td>\n",
       "    </tr>\n",
       "    <tr>\n",
       "      <th>2</th>\n",
       "      <td>94.0</td>\n",
       "      <td>2</td>\n",
       "      <td>2.0</td>\n",
       "      <td>144247</td>\n",
       "      <td>1535</td>\n",
       "      <td>NaN</td>\n",
       "      <td>False</td>\n",
       "      <td>NaN</td>\n",
       "      <td>True</td>\n",
       "      <td>False</td>\n",
       "      <td>San Andrés, Madrid</td>\n",
       "    </tr>\n",
       "    <tr>\n",
       "      <th>3</th>\n",
       "      <td>64.0</td>\n",
       "      <td>2</td>\n",
       "      <td>1.0</td>\n",
       "      <td>109900</td>\n",
       "      <td>1717</td>\n",
       "      <td>1955.0</td>\n",
       "      <td>False</td>\n",
       "      <td>True</td>\n",
       "      <td>True</td>\n",
       "      <td>NaN</td>\n",
       "      <td>San Andrés, Madrid</td>\n",
       "    </tr>\n",
       "    <tr>\n",
       "      <th>4</th>\n",
       "      <td>108.0</td>\n",
       "      <td>2</td>\n",
       "      <td>2.0</td>\n",
       "      <td>260000</td>\n",
       "      <td>2407</td>\n",
       "      <td>2003.0</td>\n",
       "      <td>True</td>\n",
       "      <td>True</td>\n",
       "      <td>True</td>\n",
       "      <td>NaN</td>\n",
       "      <td>Los Rosales, Madrid</td>\n",
       "    </tr>\n",
       "  </tbody>\n",
       "</table>\n",
       "</div>"
      ],
      "text/plain": [
       "   sq_mt_built  n_rooms  n_bathrooms  buy_price  buy_price_by_area  \\\n",
       "0         64.0        2          1.0      85000               1328   \n",
       "1         70.0        3          1.0     129900               1856   \n",
       "2         94.0        2          2.0     144247               1535   \n",
       "3         64.0        2          1.0     109900               1717   \n",
       "4        108.0        2          2.0     260000               2407   \n",
       "\n",
       "   built_year  has_parking is_orientation_south has_lift has_central_heating  \\\n",
       "0      1960.0        False                False    False                 NaN   \n",
       "1         NaN        False                  NaN     True                 NaN   \n",
       "2         NaN        False                  NaN     True               False   \n",
       "3      1955.0        False                 True     True                 NaN   \n",
       "4      2003.0         True                 True     True                 NaN   \n",
       "\n",
       "                subtitle  \n",
       "0  San Cristóbal, Madrid  \n",
       "1    Los Ángeles, Madrid  \n",
       "2     San Andrés, Madrid  \n",
       "3     San Andrés, Madrid  \n",
       "4    Los Rosales, Madrid  "
      ]
     },
     "execution_count": 5,
     "metadata": {},
     "output_type": "execute_result"
    }
   ],
   "source": [
    "#removing unnecessary data from the model\n",
    "data = raw_data.filter(['sq_mt_built','n_rooms','n_bathrooms', 'buy_price','buy_price_by_area','built_year',\n",
    "                        'has_parking','is_orientation_south', 'has_lift','has_central_heating', 'subtitle'])\n",
    "\n",
    "#checking what's left:\n",
    "data.head()"
   ]
  },
  {
   "cell_type": "code",
   "execution_count": 6,
   "id": "b36f8808",
   "metadata": {
    "execution": {
     "iopub.execute_input": "2023-01-15T17:54:48.829425Z",
     "iopub.status.busy": "2023-01-15T17:54:48.828847Z",
     "iopub.status.idle": "2023-01-15T17:54:48.881510Z",
     "shell.execute_reply": "2023-01-15T17:54:48.880609Z"
    },
    "papermill": {
     "duration": 0.163533,
     "end_time": "2023-01-15T17:54:48.883912",
     "exception": false,
     "start_time": "2023-01-15T17:54:48.720379",
     "status": "completed"
    },
    "scrolled": true,
    "tags": []
   },
   "outputs": [
    {
     "data": {
      "text/html": [
       "<div>\n",
       "<style scoped>\n",
       "    .dataframe tbody tr th:only-of-type {\n",
       "        vertical-align: middle;\n",
       "    }\n",
       "\n",
       "    .dataframe tbody tr th {\n",
       "        vertical-align: top;\n",
       "    }\n",
       "\n",
       "    .dataframe thead th {\n",
       "        text-align: right;\n",
       "    }\n",
       "</style>\n",
       "<table border=\"1\" class=\"dataframe\">\n",
       "  <thead>\n",
       "    <tr style=\"text-align: right;\">\n",
       "      <th></th>\n",
       "      <th>sq_mt_built</th>\n",
       "      <th>n_rooms</th>\n",
       "      <th>n_bathrooms</th>\n",
       "      <th>buy_price</th>\n",
       "      <th>buy_price_by_area</th>\n",
       "      <th>built_year</th>\n",
       "      <th>has_parking</th>\n",
       "      <th>is_orientation_south</th>\n",
       "      <th>has_lift</th>\n",
       "      <th>has_central_heating</th>\n",
       "      <th>subtitle</th>\n",
       "    </tr>\n",
       "  </thead>\n",
       "  <tbody>\n",
       "    <tr>\n",
       "      <th>count</th>\n",
       "      <td>21616.000000</td>\n",
       "      <td>21742.000000</td>\n",
       "      <td>21726.000000</td>\n",
       "      <td>2.174200e+04</td>\n",
       "      <td>21742.000000</td>\n",
       "      <td>10000.000000</td>\n",
       "      <td>21742</td>\n",
       "      <td>11358</td>\n",
       "      <td>19356</td>\n",
       "      <td>13608</td>\n",
       "      <td>21742</td>\n",
       "    </tr>\n",
       "    <tr>\n",
       "      <th>unique</th>\n",
       "      <td>NaN</td>\n",
       "      <td>NaN</td>\n",
       "      <td>NaN</td>\n",
       "      <td>NaN</td>\n",
       "      <td>NaN</td>\n",
       "      <td>NaN</td>\n",
       "      <td>2</td>\n",
       "      <td>2</td>\n",
       "      <td>2</td>\n",
       "      <td>2</td>\n",
       "      <td>146</td>\n",
       "    </tr>\n",
       "    <tr>\n",
       "      <th>top</th>\n",
       "      <td>NaN</td>\n",
       "      <td>NaN</td>\n",
       "      <td>NaN</td>\n",
       "      <td>NaN</td>\n",
       "      <td>NaN</td>\n",
       "      <td>NaN</td>\n",
       "      <td>False</td>\n",
       "      <td>True</td>\n",
       "      <td>True</td>\n",
       "      <td>False</td>\n",
       "      <td>Chamartín, Madrid</td>\n",
       "    </tr>\n",
       "    <tr>\n",
       "      <th>freq</th>\n",
       "      <td>NaN</td>\n",
       "      <td>NaN</td>\n",
       "      <td>NaN</td>\n",
       "      <td>NaN</td>\n",
       "      <td>NaN</td>\n",
       "      <td>NaN</td>\n",
       "      <td>14023</td>\n",
       "      <td>5823</td>\n",
       "      <td>14895</td>\n",
       "      <td>9516</td>\n",
       "      <td>851</td>\n",
       "    </tr>\n",
       "    <tr>\n",
       "      <th>mean</th>\n",
       "      <td>146.920892</td>\n",
       "      <td>3.005749</td>\n",
       "      <td>2.091687</td>\n",
       "      <td>6.537356e+05</td>\n",
       "      <td>4020.523871</td>\n",
       "      <td>1970.046400</td>\n",
       "      <td>NaN</td>\n",
       "      <td>NaN</td>\n",
       "      <td>NaN</td>\n",
       "      <td>NaN</td>\n",
       "      <td>NaN</td>\n",
       "    </tr>\n",
       "    <tr>\n",
       "      <th>std</th>\n",
       "      <td>134.181865</td>\n",
       "      <td>1.510497</td>\n",
       "      <td>1.406992</td>\n",
       "      <td>7.820821e+05</td>\n",
       "      <td>1908.418774</td>\n",
       "      <td>69.386705</td>\n",
       "      <td>NaN</td>\n",
       "      <td>NaN</td>\n",
       "      <td>NaN</td>\n",
       "      <td>NaN</td>\n",
       "      <td>NaN</td>\n",
       "    </tr>\n",
       "    <tr>\n",
       "      <th>min</th>\n",
       "      <td>13.000000</td>\n",
       "      <td>0.000000</td>\n",
       "      <td>1.000000</td>\n",
       "      <td>3.600000e+04</td>\n",
       "      <td>447.000000</td>\n",
       "      <td>1723.000000</td>\n",
       "      <td>NaN</td>\n",
       "      <td>NaN</td>\n",
       "      <td>NaN</td>\n",
       "      <td>NaN</td>\n",
       "      <td>NaN</td>\n",
       "    </tr>\n",
       "    <tr>\n",
       "      <th>25%</th>\n",
       "      <td>70.000000</td>\n",
       "      <td>2.000000</td>\n",
       "      <td>1.000000</td>\n",
       "      <td>1.980000e+05</td>\n",
       "      <td>2551.000000</td>\n",
       "      <td>1957.000000</td>\n",
       "      <td>NaN</td>\n",
       "      <td>NaN</td>\n",
       "      <td>NaN</td>\n",
       "      <td>NaN</td>\n",
       "      <td>NaN</td>\n",
       "    </tr>\n",
       "    <tr>\n",
       "      <th>50%</th>\n",
       "      <td>100.000000</td>\n",
       "      <td>3.000000</td>\n",
       "      <td>2.000000</td>\n",
       "      <td>3.750000e+05</td>\n",
       "      <td>3720.000000</td>\n",
       "      <td>1970.000000</td>\n",
       "      <td>NaN</td>\n",
       "      <td>NaN</td>\n",
       "      <td>NaN</td>\n",
       "      <td>NaN</td>\n",
       "      <td>NaN</td>\n",
       "    </tr>\n",
       "    <tr>\n",
       "      <th>75%</th>\n",
       "      <td>162.000000</td>\n",
       "      <td>4.000000</td>\n",
       "      <td>2.000000</td>\n",
       "      <td>7.636000e+05</td>\n",
       "      <td>5000.000000</td>\n",
       "      <td>1994.000000</td>\n",
       "      <td>NaN</td>\n",
       "      <td>NaN</td>\n",
       "      <td>NaN</td>\n",
       "      <td>NaN</td>\n",
       "      <td>NaN</td>\n",
       "    </tr>\n",
       "    <tr>\n",
       "      <th>max</th>\n",
       "      <td>999.000000</td>\n",
       "      <td>24.000000</td>\n",
       "      <td>16.000000</td>\n",
       "      <td>8.800000e+06</td>\n",
       "      <td>18889.000000</td>\n",
       "      <td>8170.000000</td>\n",
       "      <td>NaN</td>\n",
       "      <td>NaN</td>\n",
       "      <td>NaN</td>\n",
       "      <td>NaN</td>\n",
       "      <td>NaN</td>\n",
       "    </tr>\n",
       "  </tbody>\n",
       "</table>\n",
       "</div>"
      ],
      "text/plain": [
       "         sq_mt_built       n_rooms   n_bathrooms     buy_price  \\\n",
       "count   21616.000000  21742.000000  21726.000000  2.174200e+04   \n",
       "unique           NaN           NaN           NaN           NaN   \n",
       "top              NaN           NaN           NaN           NaN   \n",
       "freq             NaN           NaN           NaN           NaN   \n",
       "mean      146.920892      3.005749      2.091687  6.537356e+05   \n",
       "std       134.181865      1.510497      1.406992  7.820821e+05   \n",
       "min        13.000000      0.000000      1.000000  3.600000e+04   \n",
       "25%        70.000000      2.000000      1.000000  1.980000e+05   \n",
       "50%       100.000000      3.000000      2.000000  3.750000e+05   \n",
       "75%       162.000000      4.000000      2.000000  7.636000e+05   \n",
       "max       999.000000     24.000000     16.000000  8.800000e+06   \n",
       "\n",
       "        buy_price_by_area    built_year has_parking is_orientation_south  \\\n",
       "count        21742.000000  10000.000000       21742                11358   \n",
       "unique                NaN           NaN           2                    2   \n",
       "top                   NaN           NaN       False                 True   \n",
       "freq                  NaN           NaN       14023                 5823   \n",
       "mean          4020.523871   1970.046400         NaN                  NaN   \n",
       "std           1908.418774     69.386705         NaN                  NaN   \n",
       "min            447.000000   1723.000000         NaN                  NaN   \n",
       "25%           2551.000000   1957.000000         NaN                  NaN   \n",
       "50%           3720.000000   1970.000000         NaN                  NaN   \n",
       "75%           5000.000000   1994.000000         NaN                  NaN   \n",
       "max          18889.000000   8170.000000         NaN                  NaN   \n",
       "\n",
       "       has_lift has_central_heating           subtitle  \n",
       "count     19356               13608              21742  \n",
       "unique        2                   2                146  \n",
       "top        True               False  Chamartín, Madrid  \n",
       "freq      14895                9516                851  \n",
       "mean        NaN                 NaN                NaN  \n",
       "std         NaN                 NaN                NaN  \n",
       "min         NaN                 NaN                NaN  \n",
       "25%         NaN                 NaN                NaN  \n",
       "50%         NaN                 NaN                NaN  \n",
       "75%         NaN                 NaN                NaN  \n",
       "max         NaN                 NaN                NaN  "
      ]
     },
     "execution_count": 6,
     "metadata": {},
     "output_type": "execute_result"
    }
   ],
   "source": [
    "data.describe(include='all')"
   ]
  },
  {
   "cell_type": "markdown",
   "id": "221c6572",
   "metadata": {
    "papermill": {
     "duration": 0.108475,
     "end_time": "2023-01-15T17:54:49.098353",
     "exception": false,
     "start_time": "2023-01-15T17:54:48.989878",
     "status": "completed"
    },
    "tags": []
   },
   "source": [
    "The built_year feature will be interesting to explore and its count of data points is only 10000, meaning more than half of the data for this feature is unavailable. We will use the fillna function with the average built_year so that we do not lose this valuable data."
   ]
  },
  {
   "cell_type": "code",
   "execution_count": 7,
   "id": "47e3b612",
   "metadata": {
    "execution": {
     "iopub.execute_input": "2023-01-15T17:54:49.312480Z",
     "iopub.status.busy": "2023-01-15T17:54:49.311959Z",
     "iopub.status.idle": "2023-01-15T17:54:49.325089Z",
     "shell.execute_reply": "2023-01-15T17:54:49.324162Z"
    },
    "papermill": {
     "duration": 0.123745,
     "end_time": "2023-01-15T17:54:49.327283",
     "exception": false,
     "start_time": "2023-01-15T17:54:49.203538",
     "status": "completed"
    },
    "scrolled": true,
    "tags": []
   },
   "outputs": [
    {
     "data": {
      "text/plain": [
       "sq_mt_built               126\n",
       "n_rooms                     0\n",
       "n_bathrooms                16\n",
       "buy_price                   0\n",
       "buy_price_by_area           0\n",
       "built_year              11742\n",
       "has_parking                 0\n",
       "is_orientation_south    10384\n",
       "has_lift                 2386\n",
       "has_central_heating      8134\n",
       "subtitle                    0\n",
       "dtype: int64"
      ]
     },
     "execution_count": 7,
     "metadata": {},
     "output_type": "execute_result"
    }
   ],
   "source": [
    "#there is a disparity on the count of data points between different parameters\n",
    "#summing the missing data points\n",
    "data.isnull().sum()"
   ]
  },
  {
   "cell_type": "code",
   "execution_count": 8,
   "id": "0b4798d6",
   "metadata": {
    "execution": {
     "iopub.execute_input": "2023-01-15T17:54:49.541859Z",
     "iopub.status.busy": "2023-01-15T17:54:49.541376Z",
     "iopub.status.idle": "2023-01-15T17:54:49.758380Z",
     "shell.execute_reply": "2023-01-15T17:54:49.757686Z"
    },
    "papermill": {
     "duration": 0.328008,
     "end_time": "2023-01-15T17:54:49.760774",
     "exception": false,
     "start_time": "2023-01-15T17:54:49.432766",
     "status": "completed"
    },
    "tags": []
   },
   "outputs": [
    {
     "name": "stderr",
     "output_type": "stream",
     "text": [
      "/opt/conda/lib/python3.7/site-packages/ipykernel_launcher.py:1: FutureWarning: Dropping of nuisance columns in DataFrame reductions (with 'numeric_only=None') is deprecated; in a future version this will raise TypeError.  Select only valid columns before calling the reduction.\n",
      "  \"\"\"Entry point for launching an IPython kernel.\n"
     ]
    },
    {
     "data": {
      "text/plain": [
       "sq_mt_built                146.920892\n",
       "n_rooms                      3.005749\n",
       "n_bathrooms                  2.091687\n",
       "buy_price               653735.647503\n",
       "buy_price_by_area         4020.523871\n",
       "built_year                1970.046400\n",
       "has_parking                  0.355027\n",
       "is_orientation_south         0.512678\n",
       "has_lift                     0.769529\n",
       "has_central_heating          0.300705\n",
       "dtype: float64"
      ]
     },
     "execution_count": 8,
     "metadata": {},
     "output_type": "execute_result"
    }
   ],
   "source": [
    "data.mean()"
   ]
  },
  {
   "cell_type": "code",
   "execution_count": 9,
   "id": "b5af092c",
   "metadata": {
    "execution": {
     "iopub.execute_input": "2023-01-15T17:54:49.979479Z",
     "iopub.status.busy": "2023-01-15T17:54:49.978963Z",
     "iopub.status.idle": "2023-01-15T17:54:50.221598Z",
     "shell.execute_reply": "2023-01-15T17:54:50.220484Z"
    },
    "papermill": {
     "duration": 0.355016,
     "end_time": "2023-01-15T17:54:50.224003",
     "exception": false,
     "start_time": "2023-01-15T17:54:49.868987",
     "status": "completed"
    },
    "tags": []
   },
   "outputs": [
    {
     "name": "stderr",
     "output_type": "stream",
     "text": [
      "/opt/conda/lib/python3.7/site-packages/ipykernel_launcher.py:2: FutureWarning: Dropping of nuisance columns in DataFrame reductions (with 'numeric_only=None') is deprecated; in a future version this will raise TypeError.  Select only valid columns before calling the reduction.\n",
      "  \n"
     ]
    },
    {
     "data": {
      "text/plain": [
       "sq_mt_built             0\n",
       "n_rooms                 0\n",
       "n_bathrooms             0\n",
       "buy_price               0\n",
       "buy_price_by_area       0\n",
       "built_year              0\n",
       "has_parking             0\n",
       "is_orientation_south    0\n",
       "has_lift                0\n",
       "has_central_heating     0\n",
       "subtitle                0\n",
       "dtype: int64"
      ]
     },
     "execution_count": 9,
     "metadata": {},
     "output_type": "execute_result"
    }
   ],
   "source": [
    "# Fill missing datapoints with mean\n",
    "data= data.fillna(data.mean())\n",
    "data.isnull().sum()"
   ]
  },
  {
   "cell_type": "markdown",
   "id": "765844e9",
   "metadata": {
    "papermill": {
     "duration": 0.107417,
     "end_time": "2023-01-15T17:54:50.441363",
     "exception": false,
     "start_time": "2023-01-15T17:54:50.333946",
     "status": "completed"
    },
    "tags": []
   },
   "source": [
    "We have thus filled missing data points."
   ]
  },
  {
   "cell_type": "markdown",
   "id": "f25460aa",
   "metadata": {
    "papermill": {
     "duration": 0.107441,
     "end_time": "2023-01-15T17:54:50.658541",
     "exception": false,
     "start_time": "2023-01-15T17:54:50.551100",
     "status": "completed"
    },
    "tags": []
   },
   "source": [
    "# Dealing with outliers"
   ]
  },
  {
   "cell_type": "code",
   "execution_count": 10,
   "id": "1c2d7b96",
   "metadata": {
    "execution": {
     "iopub.execute_input": "2023-01-15T17:54:50.878400Z",
     "iopub.status.busy": "2023-01-15T17:54:50.878112Z",
     "iopub.status.idle": "2023-01-15T17:54:51.790481Z",
     "shell.execute_reply": "2023-01-15T17:54:51.789555Z"
    },
    "papermill": {
     "duration": 1.024825,
     "end_time": "2023-01-15T17:54:51.793110",
     "exception": false,
     "start_time": "2023-01-15T17:54:50.768285",
     "status": "completed"
    },
    "scrolled": true,
    "tags": []
   },
   "outputs": [
    {
     "data": {
      "text/plain": [
       "<AxesSubplot:xlabel='buy_price', ylabel='Density'>"
      ]
     },
     "execution_count": 10,
     "metadata": {},
     "output_type": "execute_result"
    },
    {
     "data": {
      "image/png": "[encoded data removed]",
      "text/plain": [
       "<Figure size 432x288 with 1 Axes>"
      ]
     },
     "metadata": {},
     "output_type": "display_data"
    }
   ],
   "source": [
    "#let's explore the data further to get to know what the price distribution is\n",
    "#this is valuable since we are trying to train the model to predict buy price\n",
    "sns.histplot(data['buy_price'],kde=True, stat=\"density\", linewidth=0)"
   ]
  },
  {
   "cell_type": "markdown",
   "id": "8ebe3eb3",
   "metadata": {
    "papermill": {
     "duration": 0.114467,
     "end_time": "2023-01-15T17:54:52.018334",
     "exception": false,
     "start_time": "2023-01-15T17:54:51.903867",
     "status": "completed"
    },
    "tags": []
   },
   "source": [
    "There are some outliers present. Here, the outliers are situated around the higher prices (right side of the graph) and if the right side is excluded, the prices seem normally distributed. Outliers are a great issue for the model we will first use (ordinary least squares OLS)."
   ]
  },
  {
   "cell_type": "code",
   "execution_count": 11,
   "id": "022bd964",
   "metadata": {
    "execution": {
     "iopub.execute_input": "2023-01-15T17:54:52.251263Z",
     "iopub.status.busy": "2023-01-15T17:54:52.250721Z",
     "iopub.status.idle": "2023-01-15T17:54:52.307253Z",
     "shell.execute_reply": "2023-01-15T17:54:52.306195Z"
    },
    "papermill": {
     "duration": 0.17937,
     "end_time": "2023-01-15T17:54:52.309565",
     "exception": false,
     "start_time": "2023-01-15T17:54:52.130195",
     "status": "completed"
    },
    "scrolled": true,
    "tags": []
   },
   "outputs": [
    {
     "data": {
      "text/html": [
       "<div>\n",
       "<style scoped>\n",
       "    .dataframe tbody tr th:only-of-type {\n",
       "        vertical-align: middle;\n",
       "    }\n",
       "\n",
       "    .dataframe tbody tr th {\n",
       "        vertical-align: top;\n",
       "    }\n",
       "\n",
       "    .dataframe thead th {\n",
       "        text-align: right;\n",
       "    }\n",
       "</style>\n",
       "<table border=\"1\" class=\"dataframe\">\n",
       "  <thead>\n",
       "    <tr style=\"text-align: right;\">\n",
       "      <th></th>\n",
       "      <th>sq_mt_built</th>\n",
       "      <th>n_rooms</th>\n",
       "      <th>n_bathrooms</th>\n",
       "      <th>buy_price</th>\n",
       "      <th>buy_price_by_area</th>\n",
       "      <th>built_year</th>\n",
       "      <th>has_parking</th>\n",
       "      <th>is_orientation_south</th>\n",
       "      <th>has_lift</th>\n",
       "      <th>has_central_heating</th>\n",
       "      <th>subtitle</th>\n",
       "    </tr>\n",
       "  </thead>\n",
       "  <tbody>\n",
       "    <tr>\n",
       "      <th>count</th>\n",
       "      <td>20587.000000</td>\n",
       "      <td>20587.000000</td>\n",
       "      <td>20587.000000</td>\n",
       "      <td>2.058700e+04</td>\n",
       "      <td>20587.000000</td>\n",
       "      <td>20587.000000</td>\n",
       "      <td>20587</td>\n",
       "      <td>20587.000000</td>\n",
       "      <td>20587</td>\n",
       "      <td>20587</td>\n",
       "      <td>20587</td>\n",
       "    </tr>\n",
       "    <tr>\n",
       "      <th>unique</th>\n",
       "      <td>NaN</td>\n",
       "      <td>NaN</td>\n",
       "      <td>NaN</td>\n",
       "      <td>NaN</td>\n",
       "      <td>NaN</td>\n",
       "      <td>NaN</td>\n",
       "      <td>2</td>\n",
       "      <td>3.000000</td>\n",
       "      <td>3</td>\n",
       "      <td>3</td>\n",
       "      <td>146</td>\n",
       "    </tr>\n",
       "    <tr>\n",
       "      <th>top</th>\n",
       "      <td>NaN</td>\n",
       "      <td>NaN</td>\n",
       "      <td>NaN</td>\n",
       "      <td>NaN</td>\n",
       "      <td>NaN</td>\n",
       "      <td>NaN</td>\n",
       "      <td>False</td>\n",
       "      <td>0.512678</td>\n",
       "      <td>True</td>\n",
       "      <td>False</td>\n",
       "      <td>Chamartín, Madrid</td>\n",
       "    </tr>\n",
       "    <tr>\n",
       "      <th>freq</th>\n",
       "      <td>NaN</td>\n",
       "      <td>NaN</td>\n",
       "      <td>NaN</td>\n",
       "      <td>NaN</td>\n",
       "      <td>NaN</td>\n",
       "      <td>NaN</td>\n",
       "      <td>13718</td>\n",
       "      <td>9901.000000</td>\n",
       "      <td>14316</td>\n",
       "      <td>9151</td>\n",
       "      <td>649</td>\n",
       "    </tr>\n",
       "    <tr>\n",
       "      <th>mean</th>\n",
       "      <td>128.659819</td>\n",
       "      <td>2.860640</td>\n",
       "      <td>1.915547</td>\n",
       "      <td>5.118365e+05</td>\n",
       "      <td>3885.937728</td>\n",
       "      <td>1970.007966</td>\n",
       "      <td>NaN</td>\n",
       "      <td>NaN</td>\n",
       "      <td>NaN</td>\n",
       "      <td>NaN</td>\n",
       "      <td>NaN</td>\n",
       "    </tr>\n",
       "    <tr>\n",
       "      <th>std</th>\n",
       "      <td>99.115504</td>\n",
       "      <td>1.336969</td>\n",
       "      <td>1.142888</td>\n",
       "      <td>4.432467e+05</td>\n",
       "      <td>1755.412336</td>\n",
       "      <td>48.092061</td>\n",
       "      <td>NaN</td>\n",
       "      <td>NaN</td>\n",
       "      <td>NaN</td>\n",
       "      <td>NaN</td>\n",
       "      <td>NaN</td>\n",
       "    </tr>\n",
       "    <tr>\n",
       "      <th>min</th>\n",
       "      <td>13.000000</td>\n",
       "      <td>0.000000</td>\n",
       "      <td>1.000000</td>\n",
       "      <td>3.600000e+04</td>\n",
       "      <td>447.000000</td>\n",
       "      <td>1723.000000</td>\n",
       "      <td>NaN</td>\n",
       "      <td>NaN</td>\n",
       "      <td>NaN</td>\n",
       "      <td>NaN</td>\n",
       "      <td>NaN</td>\n",
       "    </tr>\n",
       "    <tr>\n",
       "      <th>25%</th>\n",
       "      <td>70.000000</td>\n",
       "      <td>2.000000</td>\n",
       "      <td>1.000000</td>\n",
       "      <td>1.900000e+05</td>\n",
       "      <td>2500.000000</td>\n",
       "      <td>1970.046400</td>\n",
       "      <td>NaN</td>\n",
       "      <td>NaN</td>\n",
       "      <td>NaN</td>\n",
       "      <td>NaN</td>\n",
       "      <td>NaN</td>\n",
       "    </tr>\n",
       "    <tr>\n",
       "      <th>50%</th>\n",
       "      <td>96.000000</td>\n",
       "      <td>3.000000</td>\n",
       "      <td>2.000000</td>\n",
       "      <td>3.500000e+05</td>\n",
       "      <td>3638.000000</td>\n",
       "      <td>1970.046400</td>\n",
       "      <td>NaN</td>\n",
       "      <td>NaN</td>\n",
       "      <td>NaN</td>\n",
       "      <td>NaN</td>\n",
       "      <td>NaN</td>\n",
       "    </tr>\n",
       "    <tr>\n",
       "      <th>75%</th>\n",
       "      <td>148.000000</td>\n",
       "      <td>4.000000</td>\n",
       "      <td>2.000000</td>\n",
       "      <td>6.700000e+05</td>\n",
       "      <td>4867.000000</td>\n",
       "      <td>1970.046400</td>\n",
       "      <td>NaN</td>\n",
       "      <td>NaN</td>\n",
       "      <td>NaN</td>\n",
       "      <td>NaN</td>\n",
       "      <td>NaN</td>\n",
       "    </tr>\n",
       "    <tr>\n",
       "      <th>max</th>\n",
       "      <td>998.000000</td>\n",
       "      <td>15.000000</td>\n",
       "      <td>14.000000</td>\n",
       "      <td>2.195000e+06</td>\n",
       "      <td>18462.000000</td>\n",
       "      <td>8170.000000</td>\n",
       "      <td>NaN</td>\n",
       "      <td>NaN</td>\n",
       "      <td>NaN</td>\n",
       "      <td>NaN</td>\n",
       "      <td>NaN</td>\n",
       "    </tr>\n",
       "  </tbody>\n",
       "</table>\n",
       "</div>"
      ],
      "text/plain": [
       "         sq_mt_built       n_rooms   n_bathrooms     buy_price  \\\n",
       "count   20587.000000  20587.000000  20587.000000  2.058700e+04   \n",
       "unique           NaN           NaN           NaN           NaN   \n",
       "top              NaN           NaN           NaN           NaN   \n",
       "freq             NaN           NaN           NaN           NaN   \n",
       "mean      128.659819      2.860640      1.915547  5.118365e+05   \n",
       "std        99.115504      1.336969      1.142888  4.432467e+05   \n",
       "min        13.000000      0.000000      1.000000  3.600000e+04   \n",
       "25%        70.000000      2.000000      1.000000  1.900000e+05   \n",
       "50%        96.000000      3.000000      2.000000  3.500000e+05   \n",
       "75%       148.000000      4.000000      2.000000  6.700000e+05   \n",
       "max       998.000000     15.000000     14.000000  2.195000e+06   \n",
       "\n",
       "        buy_price_by_area    built_year has_parking  is_orientation_south  \\\n",
       "count        20587.000000  20587.000000       20587          20587.000000   \n",
       "unique                NaN           NaN           2              3.000000   \n",
       "top                   NaN           NaN       False              0.512678   \n",
       "freq                  NaN           NaN       13718           9901.000000   \n",
       "mean          3885.937728   1970.007966         NaN                   NaN   \n",
       "std           1755.412336     48.092061         NaN                   NaN   \n",
       "min            447.000000   1723.000000         NaN                   NaN   \n",
       "25%           2500.000000   1970.046400         NaN                   NaN   \n",
       "50%           3638.000000   1970.046400         NaN                   NaN   \n",
       "75%           4867.000000   1970.046400         NaN                   NaN   \n",
       "max          18462.000000   8170.000000         NaN                   NaN   \n",
       "\n",
       "       has_lift has_central_heating           subtitle  \n",
       "count     20587               20587              20587  \n",
       "unique        3                   3                146  \n",
       "top        True               False  Chamartín, Madrid  \n",
       "freq      14316                9151                649  \n",
       "mean        NaN                 NaN                NaN  \n",
       "std         NaN                 NaN                NaN  \n",
       "min         NaN                 NaN                NaN  \n",
       "25%         NaN                 NaN                NaN  \n",
       "50%         NaN                 NaN                NaN  \n",
       "75%         NaN                 NaN                NaN  \n",
       "max         NaN                 NaN                NaN  "
      ]
     },
     "execution_count": 11,
     "metadata": {},
     "output_type": "execute_result"
    }
   ],
   "source": [
    "# Let's declare a variable that will be equal to the 95th percentile of the 'buy_price' variable\n",
    "q = data['buy_price'].quantile(0.95)\n",
    "\n",
    "# Then we can create a new dataframe (df), with the condition that all prices must be below \n",
    "#the 95th percentile \n",
    "data = data[data['buy_price']<q]\n",
    "\n",
    "data.describe(include='all')\n"
   ]
  },
  {
   "cell_type": "markdown",
   "id": "20571022",
   "metadata": {
    "papermill": {
     "duration": 0.110738,
     "end_time": "2023-01-15T17:54:52.532448",
     "exception": false,
     "start_time": "2023-01-15T17:54:52.421710",
     "status": "completed"
    },
    "tags": []
   },
   "source": [
    "We can check the Probability Density Function (PDF) once again to ensure that the result is still distributed in the same way overall. It is, however, there are much fewer outliers:"
   ]
  },
  {
   "cell_type": "code",
   "execution_count": 12,
   "id": "ebaa2cdb",
   "metadata": {
    "execution": {
     "iopub.execute_input": "2023-01-15T17:54:52.766097Z",
     "iopub.status.busy": "2023-01-15T17:54:52.765589Z",
     "iopub.status.idle": "2023-01-15T17:54:53.264312Z",
     "shell.execute_reply": "2023-01-15T17:54:53.263594Z"
    },
    "papermill": {
     "duration": 0.620014,
     "end_time": "2023-01-15T17:54:53.266546",
     "exception": false,
     "start_time": "2023-01-15T17:54:52.646532",
     "status": "completed"
    },
    "tags": []
   },
   "outputs": [
    {
     "data": {
      "text/plain": [
       "<AxesSubplot:xlabel='buy_price', ylabel='Density'>"
      ]
     },
     "execution_count": 12,
     "metadata": {},
     "output_type": "execute_result"
    },
    {
     "data": {
      "image/png": "[encoded data removed]",
      "text/plain": [
       "<Figure size 432x288 with 1 Axes>"
      ]
     },
     "metadata": {},
     "output_type": "display_data"
    }
   ],
   "source": [
    "sns.histplot(data['buy_price'],kde=True, stat=\"density\", linewidth=0)"
   ]
  },
  {
   "cell_type": "markdown",
   "id": "b31e625f",
   "metadata": {
    "papermill": {
     "duration": 0.109755,
     "end_time": "2023-01-15T17:54:53.488319",
     "exception": false,
     "start_time": "2023-01-15T17:54:53.378564",
     "status": "completed"
    },
    "tags": []
   },
   "source": [
    "By removing the outliers, the graph is much more concentrated on the real data points now,\n",
    "it looks more 'normal' as in normally distributed. In general, removing 5% of the dataset should not pose data representativeness issues."
   ]
  },
  {
   "cell_type": "code",
   "execution_count": 13,
   "id": "90dedea6",
   "metadata": {
    "execution": {
     "iopub.execute_input": "2023-01-15T17:54:53.714768Z",
     "iopub.status.busy": "2023-01-15T17:54:53.714449Z",
     "iopub.status.idle": "2023-01-15T17:54:54.186716Z",
     "shell.execute_reply": "2023-01-15T17:54:54.185455Z"
    },
    "papermill": {
     "duration": 0.586372,
     "end_time": "2023-01-15T17:54:54.189023",
     "exception": false,
     "start_time": "2023-01-15T17:54:53.602651",
     "status": "completed"
    },
    "tags": []
   },
   "outputs": [
    {
     "data": {
      "text/plain": [
       "<AxesSubplot:xlabel='built_year', ylabel='Density'>"
      ]
     },
     "execution_count": 13,
     "metadata": {},
     "output_type": "execute_result"
    },
    {
     "data": {
      "image/png": "[encoded data removed]",
      "text/plain": [
       "<Figure size 432x288 with 1 Axes>"
      ]
     },
     "metadata": {},
     "output_type": "display_data"
    }
   ],
   "source": [
    "# The year built graph looks strange\n",
    "sns.histplot(data['built_year'],kde=True, stat=\"density\", linewidth=0)"
   ]
  },
  {
   "cell_type": "code",
   "execution_count": 14,
   "id": "c8ea5128",
   "metadata": {
    "execution": {
     "iopub.execute_input": "2023-01-15T17:54:54.419031Z",
     "iopub.status.busy": "2023-01-15T17:54:54.418364Z",
     "iopub.status.idle": "2023-01-15T17:54:54.920390Z",
     "shell.execute_reply": "2023-01-15T17:54:54.919690Z"
    },
    "papermill": {
     "duration": 0.616587,
     "end_time": "2023-01-15T17:54:54.922471",
     "exception": false,
     "start_time": "2023-01-15T17:54:54.305884",
     "status": "completed"
    },
    "scrolled": true,
    "tags": []
   },
   "outputs": [
    {
     "data": {
      "text/plain": [
       "<AxesSubplot:xlabel='built_year', ylabel='Density'>"
      ]
     },
     "execution_count": 14,
     "metadata": {},
     "output_type": "execute_result"
    },
    {
     "data": {
      "image/png": "[encoded data removed]",
      "text/plain": [
       "<Figure size 432x288 with 1 Axes>"
      ]
     },
     "metadata": {},
     "output_type": "display_data"
    }
   ],
   "source": [
    "# there is an observation for a built_year in 8170, as can be seen above with the .describe() function.\n",
    "# let's remove this observation:\n",
    "data = data[data['built_year'] != 8170]\n",
    "sns.histplot(data['built_year'],kde=True, stat=\"density\", linewidth=0)"
   ]
  },
  {
   "cell_type": "code",
   "execution_count": 15,
   "id": "354312e6",
   "metadata": {
    "execution": {
     "iopub.execute_input": "2023-01-15T17:54:55.154209Z",
     "iopub.status.busy": "2023-01-15T17:54:55.153604Z",
     "iopub.status.idle": "2023-01-15T17:54:55.158687Z",
     "shell.execute_reply": "2023-01-15T17:54:55.157934Z"
    },
    "papermill": {
     "duration": 0.124847,
     "end_time": "2023-01-15T17:54:55.161119",
     "exception": false,
     "start_time": "2023-01-15T17:54:55.036272",
     "status": "completed"
    },
    "tags": []
   },
   "outputs": [],
   "source": [
    "# resetting the index since some observations were dropped. \n",
    "data = data.reset_index(drop=True)"
   ]
  },
  {
   "cell_type": "code",
   "execution_count": 16,
   "id": "d5a6e3e0",
   "metadata": {
    "execution": {
     "iopub.execute_input": "2023-01-15T17:54:55.395531Z",
     "iopub.status.busy": "2023-01-15T17:54:55.395016Z",
     "iopub.status.idle": "2023-01-15T17:54:55.448065Z",
     "shell.execute_reply": "2023-01-15T17:54:55.447164Z"
    },
    "papermill": {
     "duration": 0.170063,
     "end_time": "2023-01-15T17:54:55.450534",
     "exception": false,
     "start_time": "2023-01-15T17:54:55.280471",
     "status": "completed"
    },
    "tags": []
   },
   "outputs": [
    {
     "data": {
      "text/html": [
       "<div>\n",
       "<style scoped>\n",
       "    .dataframe tbody tr th:only-of-type {\n",
       "        vertical-align: middle;\n",
       "    }\n",
       "\n",
       "    .dataframe tbody tr th {\n",
       "        vertical-align: top;\n",
       "    }\n",
       "\n",
       "    .dataframe thead th {\n",
       "        text-align: right;\n",
       "    }\n",
       "</style>\n",
       "<table border=\"1\" class=\"dataframe\">\n",
       "  <thead>\n",
       "    <tr style=\"text-align: right;\">\n",
       "      <th></th>\n",
       "      <th>sq_mt_built</th>\n",
       "      <th>n_rooms</th>\n",
       "      <th>n_bathrooms</th>\n",
       "      <th>buy_price</th>\n",
       "      <th>buy_price_by_area</th>\n",
       "      <th>built_year</th>\n",
       "      <th>has_parking</th>\n",
       "      <th>is_orientation_south</th>\n",
       "      <th>has_lift</th>\n",
       "      <th>has_central_heating</th>\n",
       "      <th>subtitle</th>\n",
       "    </tr>\n",
       "  </thead>\n",
       "  <tbody>\n",
       "    <tr>\n",
       "      <th>count</th>\n",
       "      <td>20586.000000</td>\n",
       "      <td>20586.000000</td>\n",
       "      <td>20586.000000</td>\n",
       "      <td>2.058600e+04</td>\n",
       "      <td>20586.000000</td>\n",
       "      <td>20586.000000</td>\n",
       "      <td>20586</td>\n",
       "      <td>20586.000000</td>\n",
       "      <td>20586</td>\n",
       "      <td>20586</td>\n",
       "      <td>20586</td>\n",
       "    </tr>\n",
       "    <tr>\n",
       "      <th>unique</th>\n",
       "      <td>NaN</td>\n",
       "      <td>NaN</td>\n",
       "      <td>NaN</td>\n",
       "      <td>NaN</td>\n",
       "      <td>NaN</td>\n",
       "      <td>NaN</td>\n",
       "      <td>2</td>\n",
       "      <td>3.000000</td>\n",
       "      <td>3</td>\n",
       "      <td>3</td>\n",
       "      <td>146</td>\n",
       "    </tr>\n",
       "    <tr>\n",
       "      <th>top</th>\n",
       "      <td>NaN</td>\n",
       "      <td>NaN</td>\n",
       "      <td>NaN</td>\n",
       "      <td>NaN</td>\n",
       "      <td>NaN</td>\n",
       "      <td>NaN</td>\n",
       "      <td>False</td>\n",
       "      <td>0.512678</td>\n",
       "      <td>True</td>\n",
       "      <td>False</td>\n",
       "      <td>Chamartín, Madrid</td>\n",
       "    </tr>\n",
       "    <tr>\n",
       "      <th>freq</th>\n",
       "      <td>NaN</td>\n",
       "      <td>NaN</td>\n",
       "      <td>NaN</td>\n",
       "      <td>NaN</td>\n",
       "      <td>NaN</td>\n",
       "      <td>NaN</td>\n",
       "      <td>13717</td>\n",
       "      <td>9900.000000</td>\n",
       "      <td>14315</td>\n",
       "      <td>9151</td>\n",
       "      <td>649</td>\n",
       "    </tr>\n",
       "    <tr>\n",
       "      <th>mean</th>\n",
       "      <td>128.661696</td>\n",
       "      <td>2.860633</td>\n",
       "      <td>1.915592</td>\n",
       "      <td>5.118252e+05</td>\n",
       "      <td>3885.724376</td>\n",
       "      <td>1969.706791</td>\n",
       "      <td>NaN</td>\n",
       "      <td>NaN</td>\n",
       "      <td>NaN</td>\n",
       "      <td>NaN</td>\n",
       "      <td>NaN</td>\n",
       "    </tr>\n",
       "    <tr>\n",
       "      <th>std</th>\n",
       "      <td>99.117545</td>\n",
       "      <td>1.337001</td>\n",
       "      <td>1.142898</td>\n",
       "      <td>4.432545e+05</td>\n",
       "      <td>1755.188029</td>\n",
       "      <td>21.106719</td>\n",
       "      <td>NaN</td>\n",
       "      <td>NaN</td>\n",
       "      <td>NaN</td>\n",
       "      <td>NaN</td>\n",
       "      <td>NaN</td>\n",
       "    </tr>\n",
       "    <tr>\n",
       "      <th>min</th>\n",
       "      <td>13.000000</td>\n",
       "      <td>0.000000</td>\n",
       "      <td>1.000000</td>\n",
       "      <td>3.600000e+04</td>\n",
       "      <td>447.000000</td>\n",
       "      <td>1723.000000</td>\n",
       "      <td>NaN</td>\n",
       "      <td>NaN</td>\n",
       "      <td>NaN</td>\n",
       "      <td>NaN</td>\n",
       "      <td>NaN</td>\n",
       "    </tr>\n",
       "    <tr>\n",
       "      <th>25%</th>\n",
       "      <td>70.000000</td>\n",
       "      <td>2.000000</td>\n",
       "      <td>1.000000</td>\n",
       "      <td>1.900000e+05</td>\n",
       "      <td>2500.000000</td>\n",
       "      <td>1970.046400</td>\n",
       "      <td>NaN</td>\n",
       "      <td>NaN</td>\n",
       "      <td>NaN</td>\n",
       "      <td>NaN</td>\n",
       "      <td>NaN</td>\n",
       "    </tr>\n",
       "    <tr>\n",
       "      <th>50%</th>\n",
       "      <td>96.000000</td>\n",
       "      <td>3.000000</td>\n",
       "      <td>2.000000</td>\n",
       "      <td>3.500000e+05</td>\n",
       "      <td>3638.000000</td>\n",
       "      <td>1970.046400</td>\n",
       "      <td>NaN</td>\n",
       "      <td>NaN</td>\n",
       "      <td>NaN</td>\n",
       "      <td>NaN</td>\n",
       "      <td>NaN</td>\n",
       "    </tr>\n",
       "    <tr>\n",
       "      <th>75%</th>\n",
       "      <td>148.000000</td>\n",
       "      <td>4.000000</td>\n",
       "      <td>2.000000</td>\n",
       "      <td>6.700000e+05</td>\n",
       "      <td>4866.750000</td>\n",
       "      <td>1970.046400</td>\n",
       "      <td>NaN</td>\n",
       "      <td>NaN</td>\n",
       "      <td>NaN</td>\n",
       "      <td>NaN</td>\n",
       "      <td>NaN</td>\n",
       "    </tr>\n",
       "    <tr>\n",
       "      <th>max</th>\n",
       "      <td>998.000000</td>\n",
       "      <td>15.000000</td>\n",
       "      <td>14.000000</td>\n",
       "      <td>2.195000e+06</td>\n",
       "      <td>18462.000000</td>\n",
       "      <td>2022.000000</td>\n",
       "      <td>NaN</td>\n",
       "      <td>NaN</td>\n",
       "      <td>NaN</td>\n",
       "      <td>NaN</td>\n",
       "      <td>NaN</td>\n",
       "    </tr>\n",
       "  </tbody>\n",
       "</table>\n",
       "</div>"
      ],
      "text/plain": [
       "         sq_mt_built       n_rooms   n_bathrooms     buy_price  \\\n",
       "count   20586.000000  20586.000000  20586.000000  2.058600e+04   \n",
       "unique           NaN           NaN           NaN           NaN   \n",
       "top              NaN           NaN           NaN           NaN   \n",
       "freq             NaN           NaN           NaN           NaN   \n",
       "mean      128.661696      2.860633      1.915592  5.118252e+05   \n",
       "std        99.117545      1.337001      1.142898  4.432545e+05   \n",
       "min        13.000000      0.000000      1.000000  3.600000e+04   \n",
       "25%        70.000000      2.000000      1.000000  1.900000e+05   \n",
       "50%        96.000000      3.000000      2.000000  3.500000e+05   \n",
       "75%       148.000000      4.000000      2.000000  6.700000e+05   \n",
       "max       998.000000     15.000000     14.000000  2.195000e+06   \n",
       "\n",
       "        buy_price_by_area    built_year has_parking  is_orientation_south  \\\n",
       "count        20586.000000  20586.000000       20586          20586.000000   \n",
       "unique                NaN           NaN           2              3.000000   \n",
       "top                   NaN           NaN       False              0.512678   \n",
       "freq                  NaN           NaN       13717           9900.000000   \n",
       "mean          3885.724376   1969.706791         NaN                   NaN   \n",
       "std           1755.188029     21.106719         NaN                   NaN   \n",
       "min            447.000000   1723.000000         NaN                   NaN   \n",
       "25%           2500.000000   1970.046400         NaN                   NaN   \n",
       "50%           3638.000000   1970.046400         NaN                   NaN   \n",
       "75%           4866.750000   1970.046400         NaN                   NaN   \n",
       "max          18462.000000   2022.000000         NaN                   NaN   \n",
       "\n",
       "       has_lift has_central_heating           subtitle  \n",
       "count     20586               20586              20586  \n",
       "unique        3                   3                146  \n",
       "top        True               False  Chamartín, Madrid  \n",
       "freq      14315                9151                649  \n",
       "mean        NaN                 NaN                NaN  \n",
       "std         NaN                 NaN                NaN  \n",
       "min         NaN                 NaN                NaN  \n",
       "25%         NaN                 NaN                NaN  \n",
       "50%         NaN                 NaN                NaN  \n",
       "75%         NaN                 NaN                NaN  \n",
       "max         NaN                 NaN                NaN  "
      ]
     },
     "execution_count": 16,
     "metadata": {},
     "output_type": "execute_result"
    }
   ],
   "source": [
    "data.describe(include='all')"
   ]
  },
  {
   "cell_type": "code",
   "execution_count": 17,
   "id": "e2981fb6",
   "metadata": {
    "execution": {
     "iopub.execute_input": "2023-01-15T17:54:55.684583Z",
     "iopub.status.busy": "2023-01-15T17:54:55.684269Z",
     "iopub.status.idle": "2023-01-15T17:54:56.476482Z",
     "shell.execute_reply": "2023-01-15T17:54:56.475304Z"
    },
    "papermill": {
     "duration": 0.912724,
     "end_time": "2023-01-15T17:54:56.478907",
     "exception": false,
     "start_time": "2023-01-15T17:54:55.566183",
     "status": "completed"
    },
    "tags": []
   },
   "outputs": [
    {
     "data": {
      "image/png": "[encoded data removed]",
      "text/plain": [
       "<Figure size 1080x216 with 3 Axes>"
      ]
     },
     "metadata": {},
     "output_type": "display_data"
    }
   ],
   "source": [
    "#plotting some parameters together\n",
    "\n",
    "f, (ax1, ax2, ax3) = plt.subplots(1, 3, sharey=True, figsize =(15,3)) #sharey -> share 'Price' as y\n",
    "ax1.scatter(data['built_year'],data['buy_price'])\n",
    "ax1.set_title('Price and Year Built')\n",
    "ax2.scatter(data['sq_mt_built'],data['buy_price'])\n",
    "ax2.set_title('Price and Space')\n",
    "ax3.scatter(data['n_bathrooms'],data['buy_price'])\n",
    "ax3.set_title('Price and number of Bathrooms')\n",
    "\n",
    "\n",
    "plt.show()"
   ]
  },
  {
   "cell_type": "code",
   "execution_count": 18,
   "id": "ff1b9f95",
   "metadata": {
    "execution": {
     "iopub.execute_input": "2023-01-15T17:54:56.714724Z",
     "iopub.status.busy": "2023-01-15T17:54:56.714406Z",
     "iopub.status.idle": "2023-01-15T17:54:56.733761Z",
     "shell.execute_reply": "2023-01-15T17:54:56.732711Z"
    },
    "papermill": {
     "duration": 0.139906,
     "end_time": "2023-01-15T17:54:56.735854",
     "exception": false,
     "start_time": "2023-01-15T17:54:56.595948",
     "status": "completed"
    },
    "tags": []
   },
   "outputs": [
    {
     "data": {
      "text/html": [
       "<div>\n",
       "<style scoped>\n",
       "    .dataframe tbody tr th:only-of-type {\n",
       "        vertical-align: middle;\n",
       "    }\n",
       "\n",
       "    .dataframe tbody tr th {\n",
       "        vertical-align: top;\n",
       "    }\n",
       "\n",
       "    .dataframe thead th {\n",
       "        text-align: right;\n",
       "    }\n",
       "</style>\n",
       "<table border=\"1\" class=\"dataframe\">\n",
       "  <thead>\n",
       "    <tr style=\"text-align: right;\">\n",
       "      <th></th>\n",
       "      <th>sq_mt_built</th>\n",
       "      <th>n_rooms</th>\n",
       "      <th>n_bathrooms</th>\n",
       "      <th>buy_price</th>\n",
       "      <th>buy_price_by_area</th>\n",
       "      <th>built_year</th>\n",
       "      <th>has_parking</th>\n",
       "      <th>is_orientation_south</th>\n",
       "      <th>has_lift</th>\n",
       "      <th>has_central_heating</th>\n",
       "      <th>subtitle</th>\n",
       "      <th>log_price</th>\n",
       "    </tr>\n",
       "  </thead>\n",
       "  <tbody>\n",
       "    <tr>\n",
       "      <th>0</th>\n",
       "      <td>64.0</td>\n",
       "      <td>2</td>\n",
       "      <td>1.0</td>\n",
       "      <td>85000</td>\n",
       "      <td>1328</td>\n",
       "      <td>1960.0000</td>\n",
       "      <td>False</td>\n",
       "      <td>False</td>\n",
       "      <td>False</td>\n",
       "      <td>0.300705</td>\n",
       "      <td>San Cristóbal, Madrid</td>\n",
       "      <td>11.350407</td>\n",
       "    </tr>\n",
       "    <tr>\n",
       "      <th>1</th>\n",
       "      <td>70.0</td>\n",
       "      <td>3</td>\n",
       "      <td>1.0</td>\n",
       "      <td>129900</td>\n",
       "      <td>1856</td>\n",
       "      <td>1970.0464</td>\n",
       "      <td>False</td>\n",
       "      <td>0.512678</td>\n",
       "      <td>True</td>\n",
       "      <td>0.300705</td>\n",
       "      <td>Los Ángeles, Madrid</td>\n",
       "      <td>11.774520</td>\n",
       "    </tr>\n",
       "    <tr>\n",
       "      <th>2</th>\n",
       "      <td>94.0</td>\n",
       "      <td>2</td>\n",
       "      <td>2.0</td>\n",
       "      <td>144247</td>\n",
       "      <td>1535</td>\n",
       "      <td>1970.0464</td>\n",
       "      <td>False</td>\n",
       "      <td>0.512678</td>\n",
       "      <td>True</td>\n",
       "      <td>False</td>\n",
       "      <td>San Andrés, Madrid</td>\n",
       "      <td>11.879282</td>\n",
       "    </tr>\n",
       "    <tr>\n",
       "      <th>3</th>\n",
       "      <td>64.0</td>\n",
       "      <td>2</td>\n",
       "      <td>1.0</td>\n",
       "      <td>109900</td>\n",
       "      <td>1717</td>\n",
       "      <td>1955.0000</td>\n",
       "      <td>False</td>\n",
       "      <td>True</td>\n",
       "      <td>True</td>\n",
       "      <td>0.300705</td>\n",
       "      <td>San Andrés, Madrid</td>\n",
       "      <td>11.607326</td>\n",
       "    </tr>\n",
       "    <tr>\n",
       "      <th>4</th>\n",
       "      <td>108.0</td>\n",
       "      <td>2</td>\n",
       "      <td>2.0</td>\n",
       "      <td>260000</td>\n",
       "      <td>2407</td>\n",
       "      <td>2003.0000</td>\n",
       "      <td>True</td>\n",
       "      <td>True</td>\n",
       "      <td>True</td>\n",
       "      <td>0.300705</td>\n",
       "      <td>Los Rosales, Madrid</td>\n",
       "      <td>12.468437</td>\n",
       "    </tr>\n",
       "  </tbody>\n",
       "</table>\n",
       "</div>"
      ],
      "text/plain": [
       "   sq_mt_built  n_rooms  n_bathrooms  buy_price  buy_price_by_area  \\\n",
       "0         64.0        2          1.0      85000               1328   \n",
       "1         70.0        3          1.0     129900               1856   \n",
       "2         94.0        2          2.0     144247               1535   \n",
       "3         64.0        2          1.0     109900               1717   \n",
       "4        108.0        2          2.0     260000               2407   \n",
       "\n",
       "   built_year  has_parking is_orientation_south has_lift has_central_heating  \\\n",
       "0   1960.0000        False                False    False            0.300705   \n",
       "1   1970.0464        False             0.512678     True            0.300705   \n",
       "2   1970.0464        False             0.512678     True               False   \n",
       "3   1955.0000        False                 True     True            0.300705   \n",
       "4   2003.0000         True                 True     True            0.300705   \n",
       "\n",
       "                subtitle  log_price  \n",
       "0  San Cristóbal, Madrid  11.350407  \n",
       "1    Los Ángeles, Madrid  11.774520  \n",
       "2     San Andrés, Madrid  11.879282  \n",
       "3     San Andrés, Madrid  11.607326  \n",
       "4    Los Rosales, Madrid  12.468437  "
      ]
     },
     "execution_count": 18,
     "metadata": {},
     "output_type": "execute_result"
    }
   ],
   "source": [
    "# log transforming price\n",
    "log_price = np.log(data['buy_price'])\n",
    "\n",
    "# Then we add it to our data frame\n",
    "data['log_price'] = log_price\n",
    "data.head()"
   ]
  },
  {
   "cell_type": "code",
   "execution_count": 19,
   "id": "3849d86b",
   "metadata": {
    "execution": {
     "iopub.execute_input": "2023-01-15T17:54:56.974475Z",
     "iopub.status.busy": "2023-01-15T17:54:56.974181Z",
     "iopub.status.idle": "2023-01-15T17:54:57.599359Z",
     "shell.execute_reply": "2023-01-15T17:54:57.598439Z"
    },
    "papermill": {
     "duration": 0.748963,
     "end_time": "2023-01-15T17:54:57.601788",
     "exception": false,
     "start_time": "2023-01-15T17:54:56.852825",
     "status": "completed"
    },
    "tags": []
   },
   "outputs": [
    {
     "data": {
      "image/png": "[encoded data removed]",
      "text/plain": [
       "<Figure size 1080x216 with 3 Axes>"
      ]
     },
     "metadata": {},
     "output_type": "display_data"
    }
   ],
   "source": [
    "#log plots\n",
    "f, (ax1, ax2, ax3) = plt.subplots(1, 3, sharey=True, figsize =(15,3)) #sharey -> share 'Price' as y\n",
    "ax1.scatter(data['built_year'],data['log_price'])\n",
    "ax1.set_title('Log Price and Year Built')\n",
    "ax2.scatter(data['sq_mt_built'],data['log_price'])\n",
    "ax2.set_title('Log Price and Space')\n",
    "ax3.scatter(data['n_bathrooms'],data['log_price'])\n",
    "ax3.set_title('Log Price and number of Bathrooms')\n",
    "\n",
    "\n",
    "plt.show()"
   ]
  },
  {
   "cell_type": "code",
   "execution_count": 20,
   "id": "8c196a13",
   "metadata": {
    "execution": {
     "iopub.execute_input": "2023-01-15T17:54:57.841396Z",
     "iopub.status.busy": "2023-01-15T17:54:57.840363Z",
     "iopub.status.idle": "2023-01-15T17:54:57.848120Z",
     "shell.execute_reply": "2023-01-15T17:54:57.847123Z"
    },
    "papermill": {
     "duration": 0.129495,
     "end_time": "2023-01-15T17:54:57.850395",
     "exception": false,
     "start_time": "2023-01-15T17:54:57.720900",
     "status": "completed"
    },
    "tags": []
   },
   "outputs": [],
   "source": [
    "# dropping the old buy price\n",
    "data = data.drop(['buy_price'],axis=1)"
   ]
  },
  {
   "cell_type": "markdown",
   "id": "617e8bc7",
   "metadata": {
    "papermill": {
     "duration": 0.133572,
     "end_time": "2023-01-15T17:54:58.103655",
     "exception": false,
     "start_time": "2023-01-15T17:54:57.970083",
     "status": "completed"
    },
    "tags": []
   },
   "source": [
    "It seems that the year built feature does not have a clear relationship with the buy price."
   ]
  },
  {
   "cell_type": "markdown",
   "id": "ad0ff85c",
   "metadata": {
    "papermill": {
     "duration": 0.132727,
     "end_time": "2023-01-15T17:54:58.373764",
     "exception": false,
     "start_time": "2023-01-15T17:54:58.241037",
     "status": "completed"
    },
    "tags": []
   },
   "source": [
    "# Exploring feature correlation and multicollinearity"
   ]
  },
  {
   "cell_type": "code",
   "execution_count": 21,
   "id": "eaa879c2",
   "metadata": {
    "execution": {
     "iopub.execute_input": "2023-01-15T17:54:58.636608Z",
     "iopub.status.busy": "2023-01-15T17:54:58.635748Z",
     "iopub.status.idle": "2023-01-15T17:54:59.404558Z",
     "shell.execute_reply": "2023-01-15T17:54:59.403483Z"
    },
    "papermill": {
     "duration": 0.900452,
     "end_time": "2023-01-15T17:54:59.407232",
     "exception": false,
     "start_time": "2023-01-15T17:54:58.506780",
     "status": "completed"
    },
    "scrolled": true,
    "tags": []
   },
   "outputs": [
    {
     "data": {
      "image/png": "[encoded data removed]",
      "text/plain": [
       "<Figure size 1440x1440 with 2 Axes>"
      ]
     },
     "metadata": {},
     "output_type": "display_data"
    }
   ],
   "source": [
    "import seaborn as sns\n",
    "corrmat = data.corr()\n",
    "top_corr_features = corrmat.index\n",
    "plt.figure(figsize=(20,20))\n",
    "\n",
    "g=sns.heatmap(data[top_corr_features].corr(),annot=True,cmap=\"RdYlGn\")"
   ]
  },
  {
   "cell_type": "markdown",
   "id": "c0030ce2",
   "metadata": {
    "papermill": {
     "duration": 0.132012,
     "end_time": "2023-01-15T17:54:59.684328",
     "exception": false,
     "start_time": "2023-01-15T17:54:59.552316",
     "status": "completed"
    },
    "tags": []
   },
   "source": [
    "Now it's much more clear what the correlation is between all the datasets. For the green, we have high correlation and for the red, we have little to no correlation between the parameters in the dataset. Most of the parameters have at least some correlation with log price, which is a good indicator that the logic applied at the beginning has some merit."
   ]
  },
  {
   "cell_type": "code",
   "execution_count": 22,
   "id": "9d683c0d",
   "metadata": {
    "execution": {
     "iopub.execute_input": "2023-01-15T17:54:59.944471Z",
     "iopub.status.busy": "2023-01-15T17:54:59.944182Z",
     "iopub.status.idle": "2023-01-15T17:55:00.141191Z",
     "shell.execute_reply": "2023-01-15T17:55:00.139743Z"
    },
    "papermill": {
     "duration": 0.333008,
     "end_time": "2023-01-15T17:55:00.146273",
     "exception": false,
     "start_time": "2023-01-15T17:54:59.813265",
     "status": "completed"
    },
    "scrolled": true,
    "tags": []
   },
   "outputs": [
    {
     "data": {
      "text/html": [
       "<div>\n",
       "<style scoped>\n",
       "    .dataframe tbody tr th:only-of-type {\n",
       "        vertical-align: middle;\n",
       "    }\n",
       "\n",
       "    .dataframe tbody tr th {\n",
       "        vertical-align: top;\n",
       "    }\n",
       "\n",
       "    .dataframe thead th {\n",
       "        text-align: right;\n",
       "    }\n",
       "</style>\n",
       "<table border=\"1\" class=\"dataframe\">\n",
       "  <thead>\n",
       "    <tr style=\"text-align: right;\">\n",
       "      <th></th>\n",
       "      <th>VIF</th>\n",
       "      <th>Features</th>\n",
       "    </tr>\n",
       "  </thead>\n",
       "  <tbody>\n",
       "    <tr>\n",
       "      <th>0</th>\n",
       "      <td>10.101336</td>\n",
       "      <td>sq_mt_built</td>\n",
       "    </tr>\n",
       "    <tr>\n",
       "      <th>1</th>\n",
       "      <td>14.854578</td>\n",
       "      <td>n_bathrooms</td>\n",
       "    </tr>\n",
       "    <tr>\n",
       "      <th>2</th>\n",
       "      <td>11.391233</td>\n",
       "      <td>built_year</td>\n",
       "    </tr>\n",
       "    <tr>\n",
       "      <th>3</th>\n",
       "      <td>6.561685</td>\n",
       "      <td>buy_price_by_area</td>\n",
       "    </tr>\n",
       "    <tr>\n",
       "      <th>4</th>\n",
       "      <td>12.194722</td>\n",
       "      <td>n_rooms</td>\n",
       "    </tr>\n",
       "  </tbody>\n",
       "</table>\n",
       "</div>"
      ],
      "text/plain": [
       "         VIF           Features\n",
       "0  10.101336        sq_mt_built\n",
       "1  14.854578        n_bathrooms\n",
       "2  11.391233         built_year\n",
       "3   6.561685  buy_price_by_area\n",
       "4  12.194722            n_rooms"
      ]
     },
     "execution_count": 22,
     "metadata": {},
     "output_type": "execute_result"
    }
   ],
   "source": [
    "# statsmodels will be used for checking multicollinearity\n",
    "from statsmodels.stats.outliers_influence import variance_inflation_factor\n",
    "\n",
    "# declaring a variable to put all features to check for multicollinearity, \n",
    "# it cannot include categorical data so the features will be typed manually\n",
    "variables = data[['sq_mt_built', 'n_bathrooms', 'built_year', 'buy_price_by_area', 'n_rooms']]\n",
    "\n",
    "#create a new data frame which will include all the VIFs\n",
    "vif = pd.DataFrame()\n",
    "\n",
    "# make use of the variance_inflation_factor, which will basically output the respective VIFs \n",
    "vif[\"VIF\"] = [variance_inflation_factor(variables.values, i) for i in range(variables.shape[1])]\n",
    "# include names to make it easier to explore the result\n",
    "vif[\"Features\"] = variables.columns\n",
    "\n",
    "vif"
   ]
  },
  {
   "cell_type": "markdown",
   "id": "b381a835",
   "metadata": {
    "papermill": {
     "duration": 0.134612,
     "end_time": "2023-01-15T17:55:00.478573",
     "exception": false,
     "start_time": "2023-01-15T17:55:00.343961",
     "status": "completed"
    },
    "tags": []
   },
   "source": [
    "Since number of bathrooms and number of rooms have high VIF, one of them will be removed from the model. This will drive the VIF of other variables down. So even if sq_mt_built seems with a high VIF, too, once the n_bathrooms feature is removed that will no longer be the case."
   ]
  },
  {
   "cell_type": "code",
   "execution_count": 23,
   "id": "f7170706",
   "metadata": {
    "execution": {
     "iopub.execute_input": "2023-01-15T17:55:00.729963Z",
     "iopub.status.busy": "2023-01-15T17:55:00.729583Z",
     "iopub.status.idle": "2023-01-15T17:55:00.786122Z",
     "shell.execute_reply": "2023-01-15T17:55:00.785191Z"
    },
    "papermill": {
     "duration": 0.184531,
     "end_time": "2023-01-15T17:55:00.789739",
     "exception": false,
     "start_time": "2023-01-15T17:55:00.605208",
     "status": "completed"
    },
    "tags": []
   },
   "outputs": [
    {
     "data": {
      "text/html": [
       "<div>\n",
       "<style scoped>\n",
       "    .dataframe tbody tr th:only-of-type {\n",
       "        vertical-align: middle;\n",
       "    }\n",
       "\n",
       "    .dataframe tbody tr th {\n",
       "        vertical-align: top;\n",
       "    }\n",
       "\n",
       "    .dataframe thead th {\n",
       "        text-align: right;\n",
       "    }\n",
       "</style>\n",
       "<table border=\"1\" class=\"dataframe\">\n",
       "  <thead>\n",
       "    <tr style=\"text-align: right;\">\n",
       "      <th></th>\n",
       "      <th>VIF</th>\n",
       "      <th>Features</th>\n",
       "    </tr>\n",
       "  </thead>\n",
       "  <tbody>\n",
       "    <tr>\n",
       "      <th>0</th>\n",
       "      <td>11.390730</td>\n",
       "      <td>built_year</td>\n",
       "    </tr>\n",
       "    <tr>\n",
       "      <th>1</th>\n",
       "      <td>5.378013</td>\n",
       "      <td>sq_mt_built</td>\n",
       "    </tr>\n",
       "    <tr>\n",
       "      <th>2</th>\n",
       "      <td>11.135439</td>\n",
       "      <td>n_rooms</td>\n",
       "    </tr>\n",
       "    <tr>\n",
       "      <th>3</th>\n",
       "      <td>6.005671</td>\n",
       "      <td>buy_price_by_area</td>\n",
       "    </tr>\n",
       "  </tbody>\n",
       "</table>\n",
       "</div>"
      ],
      "text/plain": [
       "         VIF           Features\n",
       "0  11.390730         built_year\n",
       "1   5.378013        sq_mt_built\n",
       "2  11.135439            n_rooms\n",
       "3   6.005671  buy_price_by_area"
      ]
     },
     "execution_count": 23,
     "metadata": {},
     "output_type": "execute_result"
    }
   ],
   "source": [
    "data = data.drop(['n_bathrooms'],axis=1)\n",
    "\n",
    "#let's check vif again\n",
    "variables = data[['built_year','sq_mt_built','n_rooms', 'buy_price_by_area']]\n",
    "\n",
    "vif = pd.DataFrame()\n",
    "\n",
    "vif[\"VIF\"] = [variance_inflation_factor(variables.values, i) for i in range(variables.shape[1])]\n",
    "\n",
    "vif[\"Features\"] = variables.columns\n",
    "\n",
    "vif"
   ]
  },
  {
   "cell_type": "markdown",
   "id": "9b3d5aa4",
   "metadata": {
    "papermill": {
     "duration": 0.126332,
     "end_time": "2023-01-15T17:55:01.100278",
     "exception": false,
     "start_time": "2023-01-15T17:55:00.973946",
     "status": "completed"
    },
    "tags": []
   },
   "source": [
    "The VIF score of n_rooms is above the 5 threshold, so it has to be removed as well."
   ]
  },
  {
   "cell_type": "code",
   "execution_count": 24,
   "id": "38e921aa",
   "metadata": {
    "execution": {
     "iopub.execute_input": "2023-01-15T17:55:01.357550Z",
     "iopub.status.busy": "2023-01-15T17:55:01.357290Z",
     "iopub.status.idle": "2023-01-15T17:55:01.397755Z",
     "shell.execute_reply": "2023-01-15T17:55:01.396571Z"
    },
    "papermill": {
     "duration": 0.172502,
     "end_time": "2023-01-15T17:55:01.401534",
     "exception": false,
     "start_time": "2023-01-15T17:55:01.229032",
     "status": "completed"
    },
    "tags": []
   },
   "outputs": [
    {
     "data": {
      "text/html": [
       "<div>\n",
       "<style scoped>\n",
       "    .dataframe tbody tr th:only-of-type {\n",
       "        vertical-align: middle;\n",
       "    }\n",
       "\n",
       "    .dataframe tbody tr th {\n",
       "        vertical-align: top;\n",
       "    }\n",
       "\n",
       "    .dataframe thead th {\n",
       "        text-align: right;\n",
       "    }\n",
       "</style>\n",
       "<table border=\"1\" class=\"dataframe\">\n",
       "  <thead>\n",
       "    <tr style=\"text-align: right;\">\n",
       "      <th></th>\n",
       "      <th>VIF</th>\n",
       "      <th>Features</th>\n",
       "    </tr>\n",
       "  </thead>\n",
       "  <tbody>\n",
       "    <tr>\n",
       "      <th>0</th>\n",
       "      <td>7.194098</td>\n",
       "      <td>built_year</td>\n",
       "    </tr>\n",
       "    <tr>\n",
       "      <th>1</th>\n",
       "      <td>2.704413</td>\n",
       "      <td>sq_mt_built</td>\n",
       "    </tr>\n",
       "    <tr>\n",
       "      <th>2</th>\n",
       "      <td>5.880915</td>\n",
       "      <td>buy_price_by_area</td>\n",
       "    </tr>\n",
       "  </tbody>\n",
       "</table>\n",
       "</div>"
      ],
      "text/plain": [
       "        VIF           Features\n",
       "0  7.194098         built_year\n",
       "1  2.704413        sq_mt_built\n",
       "2  5.880915  buy_price_by_area"
      ]
     },
     "execution_count": 24,
     "metadata": {},
     "output_type": "execute_result"
    }
   ],
   "source": [
    "data = data.drop(['n_rooms'],axis=1)\n",
    "\n",
    "#let's check vif again\n",
    "variables = data[['built_year','sq_mt_built', 'buy_price_by_area']]\n",
    "\n",
    "vif = pd.DataFrame()\n",
    "\n",
    "vif[\"VIF\"] = [variance_inflation_factor(variables.values, i) for i in range(variables.shape[1])]\n",
    "\n",
    "vif[\"Features\"] = variables.columns\n",
    "\n",
    "vif"
   ]
  },
  {
   "cell_type": "markdown",
   "id": "5f4caa82",
   "metadata": {
    "papermill": {
     "duration": 0.14359,
     "end_time": "2023-01-15T17:55:01.762081",
     "exception": false,
     "start_time": "2023-01-15T17:55:01.618491",
     "status": "completed"
    },
    "tags": []
   },
   "source": [
    "Seeing as the buy_price_by_area variable is quite similar to the variable to be predicted, it will be dropped."
   ]
  },
  {
   "cell_type": "code",
   "execution_count": 25,
   "id": "1a689bd7",
   "metadata": {
    "execution": {
     "iopub.execute_input": "2023-01-15T17:55:02.024303Z",
     "iopub.status.busy": "2023-01-15T17:55:02.024014Z",
     "iopub.status.idle": "2023-01-15T17:55:02.076948Z",
     "shell.execute_reply": "2023-01-15T17:55:02.075722Z"
    },
    "papermill": {
     "duration": 0.186606,
     "end_time": "2023-01-15T17:55:02.080800",
     "exception": false,
     "start_time": "2023-01-15T17:55:01.894194",
     "status": "completed"
    },
    "tags": []
   },
   "outputs": [
    {
     "data": {
      "text/html": [
       "<div>\n",
       "<style scoped>\n",
       "    .dataframe tbody tr th:only-of-type {\n",
       "        vertical-align: middle;\n",
       "    }\n",
       "\n",
       "    .dataframe tbody tr th {\n",
       "        vertical-align: top;\n",
       "    }\n",
       "\n",
       "    .dataframe thead th {\n",
       "        text-align: right;\n",
       "    }\n",
       "</style>\n",
       "<table border=\"1\" class=\"dataframe\">\n",
       "  <thead>\n",
       "    <tr style=\"text-align: right;\">\n",
       "      <th></th>\n",
       "      <th>VIF</th>\n",
       "      <th>Features</th>\n",
       "    </tr>\n",
       "  </thead>\n",
       "  <tbody>\n",
       "    <tr>\n",
       "      <th>0</th>\n",
       "      <td>2.692488</td>\n",
       "      <td>built_year</td>\n",
       "    </tr>\n",
       "    <tr>\n",
       "      <th>1</th>\n",
       "      <td>2.692488</td>\n",
       "      <td>sq_mt_built</td>\n",
       "    </tr>\n",
       "  </tbody>\n",
       "</table>\n",
       "</div>"
      ],
      "text/plain": [
       "        VIF     Features\n",
       "0  2.692488   built_year\n",
       "1  2.692488  sq_mt_built"
      ]
     },
     "execution_count": 25,
     "metadata": {},
     "output_type": "execute_result"
    }
   ],
   "source": [
    "data = data.drop(['buy_price_by_area'],axis=1)\n",
    "#let's check vif again\n",
    "variables = data[['built_year','sq_mt_built']]\n",
    "\n",
    "vif = pd.DataFrame()\n",
    "\n",
    "vif[\"VIF\"] = [variance_inflation_factor(variables.values, i) for i in range(variables.shape[1])]\n",
    "\n",
    "vif[\"Features\"] = variables.columns\n",
    "\n",
    "vif"
   ]
  },
  {
   "cell_type": "markdown",
   "id": "01e31cef",
   "metadata": {
    "papermill": {
     "duration": 0.127366,
     "end_time": "2023-01-15T17:55:02.403492",
     "exception": false,
     "start_time": "2023-01-15T17:55:02.276126",
     "status": "completed"
    },
    "tags": []
   },
   "source": [
    " Creating dummies for real estate location feature, to be used in regression"
   ]
  },
  {
   "cell_type": "code",
   "execution_count": 26,
   "id": "b08bf07f",
   "metadata": {
    "execution": {
     "iopub.execute_input": "2023-01-15T17:55:02.659975Z",
     "iopub.status.busy": "2023-01-15T17:55:02.658960Z",
     "iopub.status.idle": "2023-01-15T17:55:02.692363Z",
     "shell.execute_reply": "2023-01-15T17:55:02.691567Z"
    },
    "papermill": {
     "duration": 0.167216,
     "end_time": "2023-01-15T17:55:02.694694",
     "exception": false,
     "start_time": "2023-01-15T17:55:02.527478",
     "status": "completed"
    },
    "tags": []
   },
   "outputs": [],
   "source": [
    "# The location data seems like a logical feature to include in a real estate prediction model\n",
    "dummies_subtitle = pd.get_dummies(data['subtitle'], drop_first=True)\n",
    "# drop_first makes sure no multicollinearity will occur between first dummy and others\n",
    "\n",
    "data = pd.concat([dummies_subtitle, data],axis=1)\n",
    "#uniting the two datasets"
   ]
  },
  {
   "cell_type": "markdown",
   "id": "5903465d",
   "metadata": {
    "papermill": {
     "duration": 0.122749,
     "end_time": "2023-01-15T17:55:02.939723",
     "exception": false,
     "start_time": "2023-01-15T17:55:02.816974",
     "status": "completed"
    },
    "tags": []
   },
   "source": [
    "Now, the dataframe includes a column for each subtitle (neighbourhood) of Madrid, with binary outcome (e.g. Is the real estate located in X neighhbourhood? -> outcome yes/no, or 1-0). These parameters can be used in the algorithms for real estate price prediction."
   ]
  },
  {
   "cell_type": "markdown",
   "id": "e9684d53",
   "metadata": {
    "papermill": {
     "duration": 0.124451,
     "end_time": "2023-01-15T17:55:03.188768",
     "exception": false,
     "start_time": "2023-01-15T17:55:03.064317",
     "status": "completed"
    },
    "tags": []
   },
   "source": [
    "# Technique 1: Linear regression - Ordinary Least Squares"
   ]
  },
  {
   "cell_type": "code",
   "execution_count": 27,
   "id": "24f92cab",
   "metadata": {
    "execution": {
     "iopub.execute_input": "2023-01-15T17:55:03.440299Z",
     "iopub.status.busy": "2023-01-15T17:55:03.440007Z",
     "iopub.status.idle": "2023-01-15T17:55:03.458174Z",
     "shell.execute_reply": "2023-01-15T17:55:03.457186Z"
    },
    "papermill": {
     "duration": 0.146697,
     "end_time": "2023-01-15T17:55:03.460520",
     "exception": false,
     "start_time": "2023-01-15T17:55:03.313823",
     "status": "completed"
    },
    "tags": []
   },
   "outputs": [],
   "source": [
    "# firstly, let's drop variables with lesser explanatory power\n",
    "data = data.drop(['is_orientation_south', 'has_lift','has_central_heating'],axis=1)\n",
    "# as a final step, we ought to remove the 'subtitle' column as it was already converted to dummies\n",
    "data_preprocessed = data.drop(['subtitle'],axis=1)"
   ]
  },
  {
   "cell_type": "code",
   "execution_count": 28,
   "id": "adc8ca23",
   "metadata": {
    "execution": {
     "iopub.execute_input": "2023-01-15T17:55:03.710039Z",
     "iopub.status.busy": "2023-01-15T17:55:03.709755Z",
     "iopub.status.idle": "2023-01-15T17:55:03.720214Z",
     "shell.execute_reply": "2023-01-15T17:55:03.719224Z"
    },
    "papermill": {
     "duration": 0.137788,
     "end_time": "2023-01-15T17:55:03.722604",
     "exception": false,
     "start_time": "2023-01-15T17:55:03.584816",
     "status": "completed"
    },
    "tags": []
   },
   "outputs": [],
   "source": [
    "# The target (dependent variable) is 'log_price'\n",
    "targets = data_preprocessed['log_price']\n",
    "\n",
    "# The inputs are everything BUT the dependent variable, so we can simply drop it\n",
    "inputs = data_preprocessed.drop(['log_price'],axis=1)"
   ]
  },
  {
   "cell_type": "markdown",
   "id": "e59a85e2",
   "metadata": {
    "papermill": {
     "duration": 0.127983,
     "end_time": "2023-01-15T17:55:03.972787",
     "exception": false,
     "start_time": "2023-01-15T17:55:03.844804",
     "status": "completed"
    },
    "tags": []
   },
   "source": [
    "The data will be scaled for the OLS to make sure the scale of each feature does not negatively impact the model."
   ]
  },
  {
   "cell_type": "code",
   "execution_count": 29,
   "id": "95718b21",
   "metadata": {
    "execution": {
     "iopub.execute_input": "2023-01-15T17:55:04.239801Z",
     "iopub.status.busy": "2023-01-15T17:55:04.239292Z",
     "iopub.status.idle": "2023-01-15T17:55:04.849576Z",
     "shell.execute_reply": "2023-01-15T17:55:04.848597Z"
    },
    "papermill": {
     "duration": 0.749952,
     "end_time": "2023-01-15T17:55:04.851842",
     "exception": false,
     "start_time": "2023-01-15T17:55:04.101890",
     "status": "completed"
    },
    "tags": []
   },
   "outputs": [],
   "source": [
    "from sklearn.preprocessing import StandardScaler\n",
    "\n",
    "scaler = StandardScaler()\n",
    "\n",
    "scaler.fit(inputs)\n",
    "\n",
    "# storing the scaling inputs in a new variable\n",
    "inputs_scaled = scaler.transform(inputs)"
   ]
  },
  {
   "cell_type": "code",
   "execution_count": 30,
   "id": "7c1d689c",
   "metadata": {
    "execution": {
     "iopub.execute_input": "2023-01-15T17:55:05.105232Z",
     "iopub.status.busy": "2023-01-15T17:55:05.104645Z",
     "iopub.status.idle": "2023-01-15T17:55:05.157937Z",
     "shell.execute_reply": "2023-01-15T17:55:05.156547Z"
    },
    "papermill": {
     "duration": 0.184428,
     "end_time": "2023-01-15T17:55:05.160452",
     "exception": false,
     "start_time": "2023-01-15T17:55:04.976024",
     "status": "completed"
    },
    "tags": []
   },
   "outputs": [
    {
     "name": "stdout",
     "output_type": "stream",
     "text": [
      "(16468, 148) (16468,)\n",
      "(4118, 148) (4118,)\n"
     ]
    }
   ],
   "source": [
    "# Import the module for the split\n",
    "from sklearn.model_selection import train_test_split\n",
    "\n",
    "# Split the variables with an 80-20 split and some random state\n",
    "x_train, x_test, y_train, y_test = train_test_split(inputs_scaled, targets, test_size=0.2, random_state=42)\n",
    "\n",
    "#let's check the shapes of inputs and targets\n",
    "print (x_train.shape, y_train.shape)\n",
    "print (x_test.shape, y_test.shape)"
   ]
  },
  {
   "cell_type": "code",
   "execution_count": 31,
   "id": "b8d414d0",
   "metadata": {
    "execution": {
     "iopub.execute_input": "2023-01-15T17:55:05.412046Z",
     "iopub.status.busy": "2023-01-15T17:55:05.411561Z",
     "iopub.status.idle": "2023-01-15T17:55:05.724185Z",
     "shell.execute_reply": "2023-01-15T17:55:05.722074Z"
    },
    "papermill": {
     "duration": 0.441679,
     "end_time": "2023-01-15T17:55:05.728164",
     "exception": false,
     "start_time": "2023-01-15T17:55:05.286485",
     "status": "completed"
    },
    "tags": []
   },
   "outputs": [],
   "source": [
    "#the test-train split is 80-20 as evident from above\n",
    "# Create a linear regression object\n",
    "reg = LinearRegression()\n",
    "# Fit the regression with the scaled train inputs and targets\n",
    "reg.fit(x_train,y_train)\n",
    "\n",
    "# Let's check the outputs of the regression\n",
    "# y_hat = predictions\n",
    "y_hat = reg.predict(x_train)"
   ]
  },
  {
   "cell_type": "code",
   "execution_count": 32,
   "id": "2a846130",
   "metadata": {
    "execution": {
     "iopub.execute_input": "2023-01-15T17:55:06.045413Z",
     "iopub.status.busy": "2023-01-15T17:55:06.045118Z",
     "iopub.status.idle": "2023-01-15T17:55:06.348969Z",
     "shell.execute_reply": "2023-01-15T17:55:06.347994Z"
    },
    "papermill": {
     "duration": 0.428882,
     "end_time": "2023-01-15T17:55:06.351313",
     "exception": false,
     "start_time": "2023-01-15T17:55:05.922431",
     "status": "completed"
    },
    "scrolled": true,
    "tags": []
   },
   "outputs": [
    {
     "data": {
      "image/png": "[encoded data removed]",
      "text/plain": [
       "<Figure size 432x288 with 1 Axes>"
      ]
     },
     "metadata": {},
     "output_type": "display_data"
    }
   ],
   "source": [
    "# The simplest way to compare the targets (y_train) and the predictions (y_hat) is to plot them on a scatter plot\n",
    "# The closer the points to the 45-degree line, the better the prediction\n",
    "plt.scatter(y_train, y_hat)\n",
    "\n",
    "#naming the axes\n",
    "plt.xlabel('Targets (y_train)',size=18)\n",
    "plt.ylabel('Predictions (y_hat)',size=18)\n",
    "\n",
    "plt.xlim(10,17)\n",
    "plt.ylim(10,17)\n",
    "plt.show()"
   ]
  },
  {
   "cell_type": "code",
   "execution_count": 33,
   "id": "70993988",
   "metadata": {
    "execution": {
     "iopub.execute_input": "2023-01-15T17:55:06.604837Z",
     "iopub.status.busy": "2023-01-15T17:55:06.603852Z",
     "iopub.status.idle": "2023-01-15T17:55:07.278499Z",
     "shell.execute_reply": "2023-01-15T17:55:07.277870Z"
    },
    "papermill": {
     "duration": 0.802218,
     "end_time": "2023-01-15T17:55:07.280670",
     "exception": false,
     "start_time": "2023-01-15T17:55:06.478452",
     "status": "completed"
    },
    "tags": []
   },
   "outputs": [
    {
     "data": {
      "text/plain": [
       "Text(0.5, 1.0, 'Residuals PDF')"
      ]
     },
     "execution_count": 33,
     "metadata": {},
     "output_type": "execute_result"
    },
    {
     "data": {
      "image/png": "[encoded data removed]",
      "text/plain": [
       "<Figure size 432x288 with 1 Axes>"
      ]
     },
     "metadata": {},
     "output_type": "display_data"
    }
   ],
   "source": [
    "# We can plot the PDF of the residuals and check for anomalies\n",
    "sns.histplot(y_train - y_hat, kde=True, stat=\"density\", linewidth=0)\n",
    "\n",
    "# Include a title\n",
    "plt.title(\"Residuals PDF\", size=18)\n",
    "\n",
    "# In the best case scenario this plot should be normally distributed\n"
   ]
  },
  {
   "cell_type": "markdown",
   "id": "aefd9f5e",
   "metadata": {
    "papermill": {
     "duration": 0.125649,
     "end_time": "2023-01-15T17:55:07.532475",
     "exception": false,
     "start_time": "2023-01-15T17:55:07.406826",
     "status": "completed"
    },
    "tags": []
   },
   "source": [
    "It seems that the predictions are less accurate at the price outliers, in the lower and upper ranges"
   ]
  },
  {
   "cell_type": "code",
   "execution_count": 34,
   "id": "d721da22",
   "metadata": {
    "execution": {
     "iopub.execute_input": "2023-01-15T17:55:07.789744Z",
     "iopub.status.busy": "2023-01-15T17:55:07.789197Z",
     "iopub.status.idle": "2023-01-15T17:55:07.802727Z",
     "shell.execute_reply": "2023-01-15T17:55:07.801684Z"
    },
    "papermill": {
     "duration": 0.146364,
     "end_time": "2023-01-15T17:55:07.806271",
     "exception": false,
     "start_time": "2023-01-15T17:55:07.659907",
     "status": "completed"
    },
    "tags": []
   },
   "outputs": [
    {
     "data": {
      "text/plain": [
       "0.8425093329036228"
      ]
     },
     "execution_count": 34,
     "metadata": {},
     "output_type": "execute_result"
    }
   ],
   "source": [
    "# Find the R-squared of the model\n",
    "reg.score(x_train,y_train)\n",
    "\n",
    "# Note that this is NOT the adjusted R-squared"
   ]
  },
  {
   "cell_type": "code",
   "execution_count": 35,
   "id": "bedfa2ad",
   "metadata": {
    "execution": {
     "iopub.execute_input": "2023-01-15T17:55:08.129918Z",
     "iopub.status.busy": "2023-01-15T17:55:08.129608Z",
     "iopub.status.idle": "2023-01-15T17:55:08.135276Z",
     "shell.execute_reply": "2023-01-15T17:55:08.134407Z"
    },
    "papermill": {
     "duration": 0.137591,
     "end_time": "2023-01-15T17:55:08.137926",
     "exception": false,
     "start_time": "2023-01-15T17:55:08.000335",
     "status": "completed"
    },
    "tags": []
   },
   "outputs": [
    {
     "data": {
      "text/plain": [
       "12.82125246243013"
      ]
     },
     "execution_count": 35,
     "metadata": {},
     "output_type": "execute_result"
    }
   ],
   "source": [
    "# Obtain the bias (intercept) of the regression\n",
    "reg.intercept_"
   ]
  },
  {
   "cell_type": "code",
   "execution_count": 36,
   "id": "75f230c2",
   "metadata": {
    "execution": {
     "iopub.execute_input": "2023-01-15T17:55:08.401006Z",
     "iopub.status.busy": "2023-01-15T17:55:08.400723Z",
     "iopub.status.idle": "2023-01-15T17:55:08.414725Z",
     "shell.execute_reply": "2023-01-15T17:55:08.413873Z"
    },
    "papermill": {
     "duration": 0.145692,
     "end_time": "2023-01-15T17:55:08.417394",
     "exception": false,
     "start_time": "2023-01-15T17:55:08.271702",
     "status": "completed"
    },
    "scrolled": true,
    "tags": []
   },
   "outputs": [
    {
     "data": {
      "text/html": [
       "<div>\n",
       "<style scoped>\n",
       "    .dataframe tbody tr th:only-of-type {\n",
       "        vertical-align: middle;\n",
       "    }\n",
       "\n",
       "    .dataframe tbody tr th {\n",
       "        vertical-align: top;\n",
       "    }\n",
       "\n",
       "    .dataframe thead th {\n",
       "        text-align: right;\n",
       "    }\n",
       "</style>\n",
       "<table border=\"1\" class=\"dataframe\">\n",
       "  <thead>\n",
       "    <tr style=\"text-align: right;\">\n",
       "      <th></th>\n",
       "      <th>Features</th>\n",
       "      <th>Weights</th>\n",
       "    </tr>\n",
       "  </thead>\n",
       "  <tbody>\n",
       "    <tr>\n",
       "      <th>0</th>\n",
       "      <td>Abrantes, Madrid</td>\n",
       "      <td>-0.004661</td>\n",
       "    </tr>\n",
       "    <tr>\n",
       "      <th>1</th>\n",
       "      <td>Acacias, Madrid</td>\n",
       "      <td>0.060996</td>\n",
       "    </tr>\n",
       "    <tr>\n",
       "      <th>2</th>\n",
       "      <td>Adelfas, Madrid</td>\n",
       "      <td>0.049218</td>\n",
       "    </tr>\n",
       "    <tr>\n",
       "      <th>3</th>\n",
       "      <td>Alameda de Osuna, Madrid</td>\n",
       "      <td>0.013464</td>\n",
       "    </tr>\n",
       "    <tr>\n",
       "      <th>4</th>\n",
       "      <td>Almagro, Madrid</td>\n",
       "      <td>0.122993</td>\n",
       "    </tr>\n",
       "    <tr>\n",
       "      <th>...</th>\n",
       "      <td>...</td>\n",
       "      <td>...</td>\n",
       "    </tr>\n",
       "    <tr>\n",
       "      <th>143</th>\n",
       "      <td>Zofío, Madrid</td>\n",
       "      <td>-0.004637</td>\n",
       "    </tr>\n",
       "    <tr>\n",
       "      <th>144</th>\n",
       "      <td>Águilas, Madrid</td>\n",
       "      <td>-0.003213</td>\n",
       "    </tr>\n",
       "    <tr>\n",
       "      <th>145</th>\n",
       "      <td>sq_mt_built</td>\n",
       "      <td>0.418690</td>\n",
       "    </tr>\n",
       "    <tr>\n",
       "      <th>146</th>\n",
       "      <td>built_year</td>\n",
       "      <td>0.029318</td>\n",
       "    </tr>\n",
       "    <tr>\n",
       "      <th>147</th>\n",
       "      <td>has_parking</td>\n",
       "      <td>0.120531</td>\n",
       "    </tr>\n",
       "  </tbody>\n",
       "</table>\n",
       "<p>148 rows × 2 columns</p>\n",
       "</div>"
      ],
      "text/plain": [
       "                     Features   Weights\n",
       "0            Abrantes, Madrid -0.004661\n",
       "1             Acacias, Madrid  0.060996\n",
       "2             Adelfas, Madrid  0.049218\n",
       "3    Alameda de Osuna, Madrid  0.013464\n",
       "4             Almagro, Madrid  0.122993\n",
       "..                        ...       ...\n",
       "143             Zofío, Madrid -0.004637\n",
       "144           Águilas, Madrid -0.003213\n",
       "145               sq_mt_built  0.418690\n",
       "146                built_year  0.029318\n",
       "147               has_parking  0.120531\n",
       "\n",
       "[148 rows x 2 columns]"
      ]
     },
     "execution_count": 36,
     "metadata": {},
     "output_type": "execute_result"
    }
   ],
   "source": [
    "# Create a regression summary where we can compare the feature weights with one-another\n",
    "reg_summary = pd.DataFrame(inputs.columns.values, columns=['Features'])\n",
    "reg_summary['Weights'] = reg.coef_\n",
    "reg_summary"
   ]
  },
  {
   "cell_type": "markdown",
   "id": "1e4bbef3",
   "metadata": {
    "papermill": {
     "duration": 0.126072,
     "end_time": "2023-01-15T17:55:08.670088",
     "exception": false,
     "start_time": "2023-01-15T17:55:08.544016",
     "status": "completed"
    },
    "tags": []
   },
   "source": [
    "**Testing**"
   ]
  },
  {
   "cell_type": "code",
   "execution_count": 37,
   "id": "b3714346",
   "metadata": {
    "execution": {
     "iopub.execute_input": "2023-01-15T17:55:08.928930Z",
     "iopub.status.busy": "2023-01-15T17:55:08.928555Z",
     "iopub.status.idle": "2023-01-15T17:55:08.938123Z",
     "shell.execute_reply": "2023-01-15T17:55:08.936848Z"
    },
    "papermill": {
     "duration": 0.145079,
     "end_time": "2023-01-15T17:55:08.942588",
     "exception": false,
     "start_time": "2023-01-15T17:55:08.797509",
     "status": "completed"
    },
    "tags": []
   },
   "outputs": [],
   "source": [
    "# Testing is done on a dataset that the algorithm has never seen\n",
    "y_hat_test_OLS = reg.predict(x_test)"
   ]
  },
  {
   "cell_type": "code",
   "execution_count": 38,
   "id": "436432de",
   "metadata": {
    "execution": {
     "iopub.execute_input": "2023-01-15T17:55:09.272206Z",
     "iopub.status.busy": "2023-01-15T17:55:09.271916Z",
     "iopub.status.idle": "2023-01-15T17:55:09.542542Z",
     "shell.execute_reply": "2023-01-15T17:55:09.541542Z"
    },
    "papermill": {
     "duration": 0.405012,
     "end_time": "2023-01-15T17:55:09.544966",
     "exception": false,
     "start_time": "2023-01-15T17:55:09.139954",
     "status": "completed"
    },
    "scrolled": true,
    "tags": []
   },
   "outputs": [
    {
     "data": {
      "image/png": "[encoded data removed]",
      "text/plain": [
       "<Figure size 432x288 with 1 Axes>"
      ]
     },
     "metadata": {},
     "output_type": "display_data"
    }
   ],
   "source": [
    "# Create a scatter plot with the test targets and the test predictions\n",
    "plt.scatter(y_test, y_hat_test_OLS, alpha=0.2)\n",
    "plt.xlabel('Targets (y_test)',size=18)\n",
    "plt.ylabel('Predictions (y_hat_test)',size=18)\n",
    "plt.xlim(10,17)\n",
    "plt.ylim(10,17)\n",
    "plt.show()"
   ]
  },
  {
   "cell_type": "markdown",
   "id": "c03e91ff",
   "metadata": {
    "papermill": {
     "duration": 0.127905,
     "end_time": "2023-01-15T17:55:09.802575",
     "exception": false,
     "start_time": "2023-01-15T17:55:09.674670",
     "status": "completed"
    },
    "tags": []
   },
   "source": [
    "There are some predictions outside the 45 degree line, suggesting that the algorithm struggled to correctly predict prices especially in the lower and upper tertiles of price ranges. The algorithm performed much better for predicting the prices in the middle of the range. This is consistent with OLS's inherent limitation in dealing with outliers."
   ]
  },
  {
   "cell_type": "code",
   "execution_count": 39,
   "id": "cb31b517",
   "metadata": {
    "execution": {
     "iopub.execute_input": "2023-01-15T17:55:10.060305Z",
     "iopub.status.busy": "2023-01-15T17:55:10.060015Z",
     "iopub.status.idle": "2023-01-15T17:55:10.081928Z",
     "shell.execute_reply": "2023-01-15T17:55:10.081038Z"
    },
    "papermill": {
     "duration": 0.154013,
     "end_time": "2023-01-15T17:55:10.084492",
     "exception": false,
     "start_time": "2023-01-15T17:55:09.930479",
     "status": "completed"
    },
    "tags": []
   },
   "outputs": [
    {
     "data": {
      "text/html": [
       "<div>\n",
       "<style scoped>\n",
       "    .dataframe tbody tr th:only-of-type {\n",
       "        vertical-align: middle;\n",
       "    }\n",
       "\n",
       "    .dataframe tbody tr th {\n",
       "        vertical-align: top;\n",
       "    }\n",
       "\n",
       "    .dataframe thead th {\n",
       "        text-align: right;\n",
       "    }\n",
       "</style>\n",
       "<table border=\"1\" class=\"dataframe\">\n",
       "  <thead>\n",
       "    <tr style=\"text-align: right;\">\n",
       "      <th></th>\n",
       "      <th>Prediction</th>\n",
       "      <th>Target</th>\n",
       "      <th>Residual</th>\n",
       "      <th>Difference%</th>\n",
       "    </tr>\n",
       "  </thead>\n",
       "  <tbody>\n",
       "    <tr>\n",
       "      <th>0</th>\n",
       "      <td>7.652823e+05</td>\n",
       "      <td>850000.0</td>\n",
       "      <td>84717.738639</td>\n",
       "      <td>9.966793</td>\n",
       "    </tr>\n",
       "    <tr>\n",
       "      <th>1</th>\n",
       "      <td>1.770248e+05</td>\n",
       "      <td>99000.0</td>\n",
       "      <td>-78024.848477</td>\n",
       "      <td>78.812978</td>\n",
       "    </tr>\n",
       "    <tr>\n",
       "      <th>2</th>\n",
       "      <td>2.136400e+05</td>\n",
       "      <td>199000.0</td>\n",
       "      <td>-14640.010365</td>\n",
       "      <td>7.356789</td>\n",
       "    </tr>\n",
       "    <tr>\n",
       "      <th>3</th>\n",
       "      <td>1.437882e+05</td>\n",
       "      <td>130000.0</td>\n",
       "      <td>-13788.225768</td>\n",
       "      <td>10.606328</td>\n",
       "    </tr>\n",
       "    <tr>\n",
       "      <th>4</th>\n",
       "      <td>3.948788e+05</td>\n",
       "      <td>395000.0</td>\n",
       "      <td>121.187970</td>\n",
       "      <td>0.030680</td>\n",
       "    </tr>\n",
       "    <tr>\n",
       "      <th>...</th>\n",
       "      <td>...</td>\n",
       "      <td>...</td>\n",
       "      <td>...</td>\n",
       "      <td>...</td>\n",
       "    </tr>\n",
       "    <tr>\n",
       "      <th>4113</th>\n",
       "      <td>5.583389e+05</td>\n",
       "      <td>414000.0</td>\n",
       "      <td>-144338.919648</td>\n",
       "      <td>34.864473</td>\n",
       "    </tr>\n",
       "    <tr>\n",
       "      <th>4114</th>\n",
       "      <td>1.781582e+05</td>\n",
       "      <td>149000.0</td>\n",
       "      <td>-29158.248936</td>\n",
       "      <td>19.569295</td>\n",
       "    </tr>\n",
       "    <tr>\n",
       "      <th>4115</th>\n",
       "      <td>8.386713e+05</td>\n",
       "      <td>725000.0</td>\n",
       "      <td>-113671.260048</td>\n",
       "      <td>15.678794</td>\n",
       "    </tr>\n",
       "    <tr>\n",
       "      <th>4116</th>\n",
       "      <td>1.509184e+05</td>\n",
       "      <td>159000.0</td>\n",
       "      <td>8081.553446</td>\n",
       "      <td>5.082738</td>\n",
       "    </tr>\n",
       "    <tr>\n",
       "      <th>4117</th>\n",
       "      <td>1.282590e+06</td>\n",
       "      <td>1700000.0</td>\n",
       "      <td>417410.388352</td>\n",
       "      <td>24.553552</td>\n",
       "    </tr>\n",
       "  </tbody>\n",
       "</table>\n",
       "<p>4118 rows × 4 columns</p>\n",
       "</div>"
      ],
      "text/plain": [
       "        Prediction     Target       Residual  Difference%\n",
       "0     7.652823e+05   850000.0   84717.738639     9.966793\n",
       "1     1.770248e+05    99000.0  -78024.848477    78.812978\n",
       "2     2.136400e+05   199000.0  -14640.010365     7.356789\n",
       "3     1.437882e+05   130000.0  -13788.225768    10.606328\n",
       "4     3.948788e+05   395000.0     121.187970     0.030680\n",
       "...            ...        ...            ...          ...\n",
       "4113  5.583389e+05   414000.0 -144338.919648    34.864473\n",
       "4114  1.781582e+05   149000.0  -29158.248936    19.569295\n",
       "4115  8.386713e+05   725000.0 -113671.260048    15.678794\n",
       "4116  1.509184e+05   159000.0    8081.553446     5.082738\n",
       "4117  1.282590e+06  1700000.0  417410.388352    24.553552\n",
       "\n",
       "[4118 rows x 4 columns]"
      ]
     },
     "execution_count": 39,
     "metadata": {},
     "output_type": "execute_result"
    }
   ],
   "source": [
    "# Finally, let's manually check these predictions\n",
    "# To obtain the actual prices, we take the exponential of the log_price\n",
    "df_pf = pd.DataFrame(np.exp(y_hat_test_OLS), columns=['Prediction'])\n",
    "\n",
    "# drop the old indexing\n",
    "y_test = y_test.reset_index(drop=True)\n",
    "\n",
    "df_pf['Target'] = np.exp(y_test)\n",
    "\n",
    "# Additionally, we can calculate the difference between the targets and the predictions\n",
    "df_pf['Residual'] = df_pf['Target'] - df_pf['Prediction']\n",
    "\n",
    "# Since OLS is basically an algorithm which minimizes the total sum of squared errors (residuals),\n",
    "# this comparison makes a lot of sense\n",
    "\n",
    "# Finally, it makes sense to see how far off we are from the result percentage-wise\n",
    "# Here, we take the absolute difference in %, so we can easily order the data frame\n",
    "df_pf['Difference%'] = np.absolute(df_pf['Residual']/df_pf['Target']*100)\n",
    "df_pf"
   ]
  },
  {
   "cell_type": "code",
   "execution_count": 40,
   "id": "40705f4e",
   "metadata": {
    "execution": {
     "iopub.execute_input": "2023-01-15T17:55:10.356485Z",
     "iopub.status.busy": "2023-01-15T17:55:10.356133Z",
     "iopub.status.idle": "2023-01-15T17:55:10.382248Z",
     "shell.execute_reply": "2023-01-15T17:55:10.381249Z"
    },
    "papermill": {
     "duration": 0.163762,
     "end_time": "2023-01-15T17:55:10.384618",
     "exception": false,
     "start_time": "2023-01-15T17:55:10.220856",
     "status": "completed"
    },
    "tags": []
   },
   "outputs": [
    {
     "data": {
      "text/html": [
       "<div>\n",
       "<style scoped>\n",
       "    .dataframe tbody tr th:only-of-type {\n",
       "        vertical-align: middle;\n",
       "    }\n",
       "\n",
       "    .dataframe tbody tr th {\n",
       "        vertical-align: top;\n",
       "    }\n",
       "\n",
       "    .dataframe thead th {\n",
       "        text-align: right;\n",
       "    }\n",
       "</style>\n",
       "<table border=\"1\" class=\"dataframe\">\n",
       "  <thead>\n",
       "    <tr style=\"text-align: right;\">\n",
       "      <th></th>\n",
       "      <th>Prediction</th>\n",
       "      <th>Target</th>\n",
       "      <th>Residual</th>\n",
       "      <th>Difference%</th>\n",
       "    </tr>\n",
       "  </thead>\n",
       "  <tbody>\n",
       "    <tr>\n",
       "      <th>count</th>\n",
       "      <td>4.118000e+03</td>\n",
       "      <td>4.118000e+03</td>\n",
       "      <td>4.118000e+03</td>\n",
       "      <td>4118.000000</td>\n",
       "    </tr>\n",
       "    <tr>\n",
       "      <th>mean</th>\n",
       "      <td>5.172369e+05</td>\n",
       "      <td>5.205846e+05</td>\n",
       "      <td>3.347673e+03</td>\n",
       "      <td>25.816590</td>\n",
       "    </tr>\n",
       "    <tr>\n",
       "      <th>std</th>\n",
       "      <td>6.471187e+05</td>\n",
       "      <td>4.511602e+05</td>\n",
       "      <td>4.676667e+05</td>\n",
       "      <td>31.417481</td>\n",
       "    </tr>\n",
       "    <tr>\n",
       "      <th>min</th>\n",
       "      <td>9.645060e+04</td>\n",
       "      <td>5.500000e+04</td>\n",
       "      <td>-1.216826e+07</td>\n",
       "      <td>0.001561</td>\n",
       "    </tr>\n",
       "    <tr>\n",
       "      <th>25%</th>\n",
       "      <td>2.053713e+05</td>\n",
       "      <td>1.940000e+05</td>\n",
       "      <td>-4.932932e+04</td>\n",
       "      <td>8.979438</td>\n",
       "    </tr>\n",
       "    <tr>\n",
       "      <th>50%</th>\n",
       "      <td>3.638375e+05</td>\n",
       "      <td>3.590000e+05</td>\n",
       "      <td>1.360977e+03</td>\n",
       "      <td>19.664583</td>\n",
       "    </tr>\n",
       "    <tr>\n",
       "      <th>75%</th>\n",
       "      <td>5.994009e+05</td>\n",
       "      <td>6.850000e+05</td>\n",
       "      <td>8.406754e+04</td>\n",
       "      <td>33.517688</td>\n",
       "    </tr>\n",
       "    <tr>\n",
       "      <th>max</th>\n",
       "      <td>1.416826e+07</td>\n",
       "      <td>2.190000e+06</td>\n",
       "      <td>1.533088e+06</td>\n",
       "      <td>610.078893</td>\n",
       "    </tr>\n",
       "  </tbody>\n",
       "</table>\n",
       "</div>"
      ],
      "text/plain": [
       "         Prediction        Target      Residual  Difference%\n",
       "count  4.118000e+03  4.118000e+03  4.118000e+03  4118.000000\n",
       "mean   5.172369e+05  5.205846e+05  3.347673e+03    25.816590\n",
       "std    6.471187e+05  4.511602e+05  4.676667e+05    31.417481\n",
       "min    9.645060e+04  5.500000e+04 -1.216826e+07     0.001561\n",
       "25%    2.053713e+05  1.940000e+05 -4.932932e+04     8.979438\n",
       "50%    3.638375e+05  3.590000e+05  1.360977e+03    19.664583\n",
       "75%    5.994009e+05  6.850000e+05  8.406754e+04    33.517688\n",
       "max    1.416826e+07  2.190000e+06  1.533088e+06   610.078893"
      ]
     },
     "execution_count": 40,
     "metadata": {},
     "output_type": "execute_result"
    }
   ],
   "source": [
    "# Exploring the descriptives here gives us additional insights\n",
    "df_pf.describe()"
   ]
  },
  {
   "cell_type": "code",
   "execution_count": 41,
   "id": "c1157de4",
   "metadata": {
    "execution": {
     "iopub.execute_input": "2023-01-15T17:55:10.652118Z",
     "iopub.status.busy": "2023-01-15T17:55:10.651535Z",
     "iopub.status.idle": "2023-01-15T17:55:10.665117Z",
     "shell.execute_reply": "2023-01-15T17:55:10.664359Z"
    },
    "papermill": {
     "duration": 0.149993,
     "end_time": "2023-01-15T17:55:10.667267",
     "exception": false,
     "start_time": "2023-01-15T17:55:10.517274",
     "status": "completed"
    },
    "tags": []
   },
   "outputs": [
    {
     "data": {
      "text/html": [
       "<div>\n",
       "<style scoped>\n",
       "    .dataframe tbody tr th:only-of-type {\n",
       "        vertical-align: middle;\n",
       "    }\n",
       "\n",
       "    .dataframe tbody tr th {\n",
       "        vertical-align: top;\n",
       "    }\n",
       "\n",
       "    .dataframe thead th {\n",
       "        text-align: right;\n",
       "    }\n",
       "</style>\n",
       "<table border=\"1\" class=\"dataframe\">\n",
       "  <thead>\n",
       "    <tr style=\"text-align: right;\">\n",
       "      <th></th>\n",
       "      <th>Prediction</th>\n",
       "      <th>Target</th>\n",
       "      <th>Residual</th>\n",
       "      <th>Difference%</th>\n",
       "    </tr>\n",
       "  </thead>\n",
       "  <tbody>\n",
       "    <tr>\n",
       "      <th>1790</th>\n",
       "      <td>14130569.96</td>\n",
       "      <td>1990000.00</td>\n",
       "      <td>-12140569.96</td>\n",
       "      <td>610.08</td>\n",
       "    </tr>\n",
       "    <tr>\n",
       "      <th>703</th>\n",
       "      <td>14168262.43</td>\n",
       "      <td>2000000.00</td>\n",
       "      <td>-12168262.43</td>\n",
       "      <td>608.41</td>\n",
       "    </tr>\n",
       "    <tr>\n",
       "      <th>3715</th>\n",
       "      <td>14168262.43</td>\n",
       "      <td>2000000.00</td>\n",
       "      <td>-12168262.43</td>\n",
       "      <td>608.41</td>\n",
       "    </tr>\n",
       "    <tr>\n",
       "      <th>2164</th>\n",
       "      <td>8417518.91</td>\n",
       "      <td>1350000.00</td>\n",
       "      <td>-7067518.91</td>\n",
       "      <td>523.52</td>\n",
       "    </tr>\n",
       "    <tr>\n",
       "      <th>3879</th>\n",
       "      <td>510942.16</td>\n",
       "      <td>99000.00</td>\n",
       "      <td>-411942.16</td>\n",
       "      <td>416.10</td>\n",
       "    </tr>\n",
       "    <tr>\n",
       "      <th>...</th>\n",
       "      <td>...</td>\n",
       "      <td>...</td>\n",
       "      <td>...</td>\n",
       "      <td>...</td>\n",
       "    </tr>\n",
       "    <tr>\n",
       "      <th>1673</th>\n",
       "      <td>130910.16</td>\n",
       "      <td>131000.00</td>\n",
       "      <td>89.84</td>\n",
       "      <td>0.07</td>\n",
       "    </tr>\n",
       "    <tr>\n",
       "      <th>2755</th>\n",
       "      <td>600281.44</td>\n",
       "      <td>600000.00</td>\n",
       "      <td>-281.44</td>\n",
       "      <td>0.05</td>\n",
       "    </tr>\n",
       "    <tr>\n",
       "      <th>4</th>\n",
       "      <td>394878.81</td>\n",
       "      <td>395000.00</td>\n",
       "      <td>121.19</td>\n",
       "      <td>0.03</td>\n",
       "    </tr>\n",
       "    <tr>\n",
       "      <th>2171</th>\n",
       "      <td>1495058.68</td>\n",
       "      <td>1495000.00</td>\n",
       "      <td>-58.68</td>\n",
       "      <td>0.00</td>\n",
       "    </tr>\n",
       "    <tr>\n",
       "      <th>1922</th>\n",
       "      <td>389006.07</td>\n",
       "      <td>389000.00</td>\n",
       "      <td>-6.07</td>\n",
       "      <td>0.00</td>\n",
       "    </tr>\n",
       "  </tbody>\n",
       "</table>\n",
       "<p>4118 rows × 4 columns</p>\n",
       "</div>"
      ],
      "text/plain": [
       "      Prediction     Target     Residual  Difference%\n",
       "1790 14130569.96 1990000.00 -12140569.96       610.08\n",
       "703  14168262.43 2000000.00 -12168262.43       608.41\n",
       "3715 14168262.43 2000000.00 -12168262.43       608.41\n",
       "2164  8417518.91 1350000.00  -7067518.91       523.52\n",
       "3879   510942.16   99000.00   -411942.16       416.10\n",
       "...          ...        ...          ...          ...\n",
       "1673   130910.16  131000.00        89.84         0.07\n",
       "2755   600281.44  600000.00      -281.44         0.05\n",
       "4      394878.81  395000.00       121.19         0.03\n",
       "2171  1495058.68 1495000.00       -58.68         0.00\n",
       "1922   389006.07  389000.00        -6.07         0.00\n",
       "\n",
       "[4118 rows x 4 columns]"
      ]
     },
     "execution_count": 41,
     "metadata": {},
     "output_type": "execute_result"
    }
   ],
   "source": [
    "pd.options.display.max_rows = 20\n",
    "# to make the dataset clear, we can display the result with only 2 digits after the dot \n",
    "pd.set_option('display.float_format', lambda x: '%.2f' % x)\n",
    "# Finally, we sort by difference in % and manually check the model\n",
    "df_pf.sort_values(by=['Difference%'], ascending = False)"
   ]
  },
  {
   "cell_type": "code",
   "execution_count": 42,
   "id": "659c3eff",
   "metadata": {
    "execution": {
     "iopub.execute_input": "2023-01-15T17:55:10.933173Z",
     "iopub.status.busy": "2023-01-15T17:55:10.932581Z",
     "iopub.status.idle": "2023-01-15T17:55:10.941828Z",
     "shell.execute_reply": "2023-01-15T17:55:10.941217Z"
    },
    "papermill": {
     "duration": 0.144212,
     "end_time": "2023-01-15T17:55:10.944606",
     "exception": false,
     "start_time": "2023-01-15T17:55:10.800394",
     "status": "completed"
    },
    "tags": []
   },
   "outputs": [
    {
     "name": "stdout",
     "output_type": "stream",
     "text": [
      "Mean Absolute Error: 0.2435289857989304\n",
      "Mean Squared Error: 0.1012714006526415\n",
      "Root Mean Squared Error: 0.31823167763854293\n",
      "R-squared score 0.81\n"
     ]
    }
   ],
   "source": [
    "#as a final check, import metrics module and check the following metrics\n",
    "from sklearn import metrics\n",
    "print('Mean Absolute Error:', metrics.mean_absolute_error(y_hat_test_OLS, y_test))\n",
    "print('Mean Squared Error:', metrics.mean_squared_error(y_hat_test_OLS, y_test))\n",
    "print('Root Mean Squared Error:', np.sqrt(metrics.mean_squared_error(y_hat_test_OLS, y_test)))\n",
    "\n",
    "from sklearn.metrics import r2_score\n",
    "r2_OLS = r2_score (y_hat_test_OLS, y_test)\n",
    "\n",
    "print ('R-squared score', round (r2_OLS,2))"
   ]
  },
  {
   "cell_type": "markdown",
   "id": "73c5bebe",
   "metadata": {
    "papermill": {
     "duration": 0.133619,
     "end_time": "2023-01-15T17:55:11.209548",
     "exception": false,
     "start_time": "2023-01-15T17:55:11.075929",
     "status": "completed"
    },
    "tags": []
   },
   "source": [
    "# Technique 2: Random forest regressor"
   ]
  },
  {
   "cell_type": "code",
   "execution_count": 43,
   "id": "753bd547",
   "metadata": {
    "execution": {
     "iopub.execute_input": "2023-01-15T17:55:11.471175Z",
     "iopub.status.busy": "2023-01-15T17:55:11.470887Z",
     "iopub.status.idle": "2023-01-15T17:55:11.615617Z",
     "shell.execute_reply": "2023-01-15T17:55:11.614602Z"
    },
    "id": "JCoNG7AYTPao",
    "papermill": {
     "duration": 0.278491,
     "end_time": "2023-01-15T17:55:11.618161",
     "exception": false,
     "start_time": "2023-01-15T17:55:11.339670",
     "status": "completed"
    },
    "tags": []
   },
   "outputs": [],
   "source": [
    "from sklearn.ensemble import RandomForestRegressor"
   ]
  },
  {
   "cell_type": "code",
   "execution_count": 44,
   "id": "9c81da4b",
   "metadata": {
    "execution": {
     "iopub.execute_input": "2023-01-15T17:55:11.884356Z",
     "iopub.status.busy": "2023-01-15T17:55:11.883914Z",
     "iopub.status.idle": "2023-01-15T17:55:11.888512Z",
     "shell.execute_reply": "2023-01-15T17:55:11.887750Z"
    },
    "id": "17NSEONGTPap",
    "papermill": {
     "duration": 0.13808,
     "end_time": "2023-01-15T17:55:11.890561",
     "exception": false,
     "start_time": "2023-01-15T17:55:11.752481",
     "status": "completed"
    },
    "tags": []
   },
   "outputs": [],
   "source": [
    "import time\n",
    "start = time.time()\n",
    "rf = RandomForestRegressor()"
   ]
  },
  {
   "cell_type": "code",
   "execution_count": 45,
   "id": "f965bbce",
   "metadata": {
    "execution": {
     "iopub.execute_input": "2023-01-15T17:55:12.156989Z",
     "iopub.status.busy": "2023-01-15T17:55:12.156655Z",
     "iopub.status.idle": "2023-01-15T17:55:34.147363Z",
     "shell.execute_reply": "2023-01-15T17:55:34.146205Z"
    },
    "id": "v7hNphyaTPaq",
    "outputId": "ea54c8ad-d4ea-43c9-964f-feb49c6e3e39",
    "papermill": {
     "duration": 22.127859,
     "end_time": "2023-01-15T17:55:34.149845",
     "exception": false,
     "start_time": "2023-01-15T17:55:12.021986",
     "status": "completed"
    },
    "scrolled": true,
    "tags": []
   },
   "outputs": [
    {
     "name": "stdout",
     "output_type": "stream",
     "text": [
      "Execution time RF: 22.26 seconds\n"
     ]
    }
   ],
   "source": [
    "rf.fit(x_train,y_train)\n",
    "end = time.time()\n",
    "diff_rf = end - start\n",
    "print ('Execution time RF:', round(diff_rf,2),'seconds')"
   ]
  },
  {
   "cell_type": "code",
   "execution_count": 46,
   "id": "30a29c5a",
   "metadata": {
    "execution": {
     "iopub.execute_input": "2023-01-15T17:55:34.419555Z",
     "iopub.status.busy": "2023-01-15T17:55:34.418595Z",
     "iopub.status.idle": "2023-01-15T17:55:35.053129Z",
     "shell.execute_reply": "2023-01-15T17:55:35.052322Z"
    },
    "papermill": {
     "duration": 0.770004,
     "end_time": "2023-01-15T17:55:35.055583",
     "exception": false,
     "start_time": "2023-01-15T17:55:34.285579",
     "status": "completed"
    },
    "tags": []
   },
   "outputs": [],
   "source": [
    "y_hat_rf = rf.predict(x_train)"
   ]
  },
  {
   "cell_type": "code",
   "execution_count": 47,
   "id": "bddc6d30",
   "metadata": {
    "execution": {
     "iopub.execute_input": "2023-01-15T17:55:35.331064Z",
     "iopub.status.busy": "2023-01-15T17:55:35.330758Z",
     "iopub.status.idle": "2023-01-15T17:55:35.630689Z",
     "shell.execute_reply": "2023-01-15T17:55:35.630051Z"
    },
    "papermill": {
     "duration": 0.442037,
     "end_time": "2023-01-15T17:55:35.632680",
     "exception": false,
     "start_time": "2023-01-15T17:55:35.190643",
     "status": "completed"
    },
    "tags": []
   },
   "outputs": [
    {
     "data": {
      "image/png": "[encoded data removed]",
      "text/plain": [
       "<Figure size 432x288 with 1 Axes>"
      ]
     },
     "metadata": {},
     "output_type": "display_data"
    }
   ],
   "source": [
    "plt.scatter(y_train, y_hat_rf)\n",
    "\n",
    "plt.xlabel('Targets (y_train)',size=18)\n",
    "plt.ylabel('Predictions (y_hat_rf)',size=18)\n",
    "\n",
    "\n",
    "plt.xlim(10,17)\n",
    "plt.ylim(10,17)\n",
    "plt.show()"
   ]
  },
  {
   "cell_type": "code",
   "execution_count": 48,
   "id": "1b15a44c",
   "metadata": {
    "execution": {
     "iopub.execute_input": "2023-01-15T17:55:35.918653Z",
     "iopub.status.busy": "2023-01-15T17:55:35.917897Z",
     "iopub.status.idle": "2023-01-15T17:55:36.721113Z",
     "shell.execute_reply": "2023-01-15T17:55:36.720253Z"
    },
    "papermill": {
     "duration": 0.946992,
     "end_time": "2023-01-15T17:55:36.723241",
     "exception": false,
     "start_time": "2023-01-15T17:55:35.776249",
     "status": "completed"
    },
    "tags": []
   },
   "outputs": [
    {
     "data": {
      "text/plain": [
       "Text(0.5, 1.0, 'Residuals PDF')"
      ]
     },
     "execution_count": 48,
     "metadata": {},
     "output_type": "execute_result"
    },
    {
     "data": {
      "image/png": "[encoded data removed]",
      "text/plain": [
       "<Figure size 432x288 with 1 Axes>"
      ]
     },
     "metadata": {},
     "output_type": "display_data"
    }
   ],
   "source": [
    "sns.histplot(y_train - y_hat_rf, kde=True, stat=\"density\", linewidth=0)\n",
    "\n",
    "plt.title(\"Residuals PDF\", size=18)"
   ]
  },
  {
   "cell_type": "code",
   "execution_count": 49,
   "id": "f42fcedb",
   "metadata": {
    "execution": {
     "iopub.execute_input": "2023-01-15T17:55:36.996819Z",
     "iopub.status.busy": "2023-01-15T17:55:36.996179Z",
     "iopub.status.idle": "2023-01-15T17:55:37.003370Z",
     "shell.execute_reply": "2023-01-15T17:55:37.002294Z"
    },
    "papermill": {
     "duration": 0.14962,
     "end_time": "2023-01-15T17:55:37.005334",
     "exception": false,
     "start_time": "2023-01-15T17:55:36.855714",
     "status": "completed"
    },
    "tags": []
   },
   "outputs": [
    {
     "name": "stdout",
     "output_type": "stream",
     "text": [
      "R-squared score 0.98\n"
     ]
    }
   ],
   "source": [
    "# Find the R-squared of the model\n",
    "from sklearn.metrics import r2_score\n",
    "\n",
    "r2 = r2_score (y_train, y_hat_rf)\n",
    "\n",
    "print ('R-squared score', round (r2,2))\n"
   ]
  },
  {
   "cell_type": "markdown",
   "id": "c1cf340a",
   "metadata": {
    "papermill": {
     "duration": 0.13323,
     "end_time": "2023-01-15T17:55:37.272180",
     "exception": false,
     "start_time": "2023-01-15T17:55:37.138950",
     "status": "completed"
    },
    "tags": []
   },
   "source": [
    "Let's try the model on the test values now. It's possible that the model has overfitted, so in order to test its true predictive ability, the model must be given a dataset it has not been trained on."
   ]
  },
  {
   "cell_type": "code",
   "execution_count": 50,
   "id": "22efd67f",
   "metadata": {
    "execution": {
     "iopub.execute_input": "2023-01-15T17:55:37.544873Z",
     "iopub.status.busy": "2023-01-15T17:55:37.543694Z",
     "iopub.status.idle": "2023-01-15T17:55:37.740237Z",
     "shell.execute_reply": "2023-01-15T17:55:37.739115Z"
    },
    "id": "IK-s2iMITPaq",
    "papermill": {
     "duration": 0.337323,
     "end_time": "2023-01-15T17:55:37.743054",
     "exception": false,
     "start_time": "2023-01-15T17:55:37.405731",
     "status": "completed"
    },
    "tags": []
   },
   "outputs": [],
   "source": [
    "y_hat_test_rf = rf.predict(x_test)"
   ]
  },
  {
   "cell_type": "code",
   "execution_count": 51,
   "id": "ccb696a0",
   "metadata": {
    "execution": {
     "iopub.execute_input": "2023-01-15T17:55:38.025813Z",
     "iopub.status.busy": "2023-01-15T17:55:38.025453Z",
     "iopub.status.idle": "2023-01-15T17:55:38.302828Z",
     "shell.execute_reply": "2023-01-15T17:55:38.301837Z"
    },
    "papermill": {
     "duration": 0.419228,
     "end_time": "2023-01-15T17:55:38.305257",
     "exception": false,
     "start_time": "2023-01-15T17:55:37.886029",
     "status": "completed"
    },
    "tags": []
   },
   "outputs": [
    {
     "data": {
      "image/png": "[encoded data removed]",
      "text/plain": [
       "<Figure size 432x288 with 1 Axes>"
      ]
     },
     "metadata": {},
     "output_type": "display_data"
    }
   ],
   "source": [
    "plt.scatter(y_test,y_hat_test_rf, alpha = 0.2)\n",
    "plt.xlabel('Targets (y_test)',size=18)\n",
    "plt.ylabel('Predictions (y_hat_test_rf)',size=18)\n",
    "plt.xlim(10,17)\n",
    "plt.ylim(10,17)\n",
    "plt.show()"
   ]
  },
  {
   "cell_type": "code",
   "execution_count": 52,
   "id": "11e3d704",
   "metadata": {
    "execution": {
     "iopub.execute_input": "2023-01-15T17:55:38.624603Z",
     "iopub.status.busy": "2023-01-15T17:55:38.623946Z",
     "iopub.status.idle": "2023-01-15T17:55:39.286254Z",
     "shell.execute_reply": "2023-01-15T17:55:39.285325Z"
    },
    "id": "LD93dp1wTPaq",
    "outputId": "cc4a59eb-2bc7-4018-bd08-1eecb1cfed15",
    "papermill": {
     "duration": 0.836876,
     "end_time": "2023-01-15T17:55:39.288736",
     "exception": false,
     "start_time": "2023-01-15T17:55:38.451860",
     "status": "completed"
    },
    "scrolled": true,
    "tags": []
   },
   "outputs": [
    {
     "data": {
      "text/plain": [
       "Text(0.5, 1.0, 'Residuals PDF')"
      ]
     },
     "execution_count": 52,
     "metadata": {},
     "output_type": "execute_result"
    },
    {
     "data": {
      "image/png": "[encoded data removed]",
      "text/plain": [
       "<Figure size 432x288 with 1 Axes>"
      ]
     },
     "metadata": {},
     "output_type": "display_data"
    }
   ],
   "source": [
    "sns.histplot(y_test-y_hat_test_rf, kde=True, stat=\"density\", linewidth=0)\n",
    "\n",
    "plt.title(\"Residuals PDF\", size=18)"
   ]
  },
  {
   "cell_type": "code",
   "execution_count": 53,
   "id": "ec1d0095",
   "metadata": {
    "execution": {
     "iopub.execute_input": "2023-01-15T17:55:39.571284Z",
     "iopub.status.busy": "2023-01-15T17:55:39.570411Z",
     "iopub.status.idle": "2023-01-15T17:55:39.591532Z",
     "shell.execute_reply": "2023-01-15T17:55:39.590567Z"
    },
    "papermill": {
     "duration": 0.163633,
     "end_time": "2023-01-15T17:55:39.593766",
     "exception": false,
     "start_time": "2023-01-15T17:55:39.430133",
     "status": "completed"
    },
    "tags": []
   },
   "outputs": [
    {
     "data": {
      "text/html": [
       "<div>\n",
       "<style scoped>\n",
       "    .dataframe tbody tr th:only-of-type {\n",
       "        vertical-align: middle;\n",
       "    }\n",
       "\n",
       "    .dataframe tbody tr th {\n",
       "        vertical-align: top;\n",
       "    }\n",
       "\n",
       "    .dataframe thead th {\n",
       "        text-align: right;\n",
       "    }\n",
       "</style>\n",
       "<table border=\"1\" class=\"dataframe\">\n",
       "  <thead>\n",
       "    <tr style=\"text-align: right;\">\n",
       "      <th></th>\n",
       "      <th>Prediction</th>\n",
       "      <th>Target</th>\n",
       "      <th>Residual</th>\n",
       "      <th>Difference%</th>\n",
       "    </tr>\n",
       "  </thead>\n",
       "  <tbody>\n",
       "    <tr>\n",
       "      <th>0</th>\n",
       "      <td>669887.67</td>\n",
       "      <td>850000.00</td>\n",
       "      <td>180112.33</td>\n",
       "      <td>21.19</td>\n",
       "    </tr>\n",
       "    <tr>\n",
       "      <th>1</th>\n",
       "      <td>205539.58</td>\n",
       "      <td>99000.00</td>\n",
       "      <td>-106539.58</td>\n",
       "      <td>107.62</td>\n",
       "    </tr>\n",
       "    <tr>\n",
       "      <th>2</th>\n",
       "      <td>189083.14</td>\n",
       "      <td>199000.00</td>\n",
       "      <td>9916.86</td>\n",
       "      <td>4.98</td>\n",
       "    </tr>\n",
       "    <tr>\n",
       "      <th>3</th>\n",
       "      <td>126248.81</td>\n",
       "      <td>130000.00</td>\n",
       "      <td>3751.19</td>\n",
       "      <td>2.89</td>\n",
       "    </tr>\n",
       "    <tr>\n",
       "      <th>4</th>\n",
       "      <td>364050.91</td>\n",
       "      <td>395000.00</td>\n",
       "      <td>30949.09</td>\n",
       "      <td>7.84</td>\n",
       "    </tr>\n",
       "    <tr>\n",
       "      <th>...</th>\n",
       "      <td>...</td>\n",
       "      <td>...</td>\n",
       "      <td>...</td>\n",
       "      <td>...</td>\n",
       "    </tr>\n",
       "    <tr>\n",
       "      <th>4113</th>\n",
       "      <td>518394.02</td>\n",
       "      <td>414000.00</td>\n",
       "      <td>-104394.02</td>\n",
       "      <td>25.22</td>\n",
       "    </tr>\n",
       "    <tr>\n",
       "      <th>4114</th>\n",
       "      <td>224242.50</td>\n",
       "      <td>149000.00</td>\n",
       "      <td>-75242.50</td>\n",
       "      <td>50.50</td>\n",
       "    </tr>\n",
       "    <tr>\n",
       "      <th>4115</th>\n",
       "      <td>915771.09</td>\n",
       "      <td>725000.00</td>\n",
       "      <td>-190771.09</td>\n",
       "      <td>26.31</td>\n",
       "    </tr>\n",
       "    <tr>\n",
       "      <th>4116</th>\n",
       "      <td>143455.35</td>\n",
       "      <td>159000.00</td>\n",
       "      <td>15544.65</td>\n",
       "      <td>9.78</td>\n",
       "    </tr>\n",
       "    <tr>\n",
       "      <th>4117</th>\n",
       "      <td>1639017.47</td>\n",
       "      <td>1700000.00</td>\n",
       "      <td>60982.53</td>\n",
       "      <td>3.59</td>\n",
       "    </tr>\n",
       "  </tbody>\n",
       "</table>\n",
       "<p>4118 rows × 4 columns</p>\n",
       "</div>"
      ],
      "text/plain": [
       "      Prediction     Target   Residual  Difference%\n",
       "0      669887.67  850000.00  180112.33        21.19\n",
       "1      205539.58   99000.00 -106539.58       107.62\n",
       "2      189083.14  199000.00    9916.86         4.98\n",
       "3      126248.81  130000.00    3751.19         2.89\n",
       "4      364050.91  395000.00   30949.09         7.84\n",
       "...          ...        ...        ...          ...\n",
       "4113   518394.02  414000.00 -104394.02        25.22\n",
       "4114   224242.50  149000.00  -75242.50        50.50\n",
       "4115   915771.09  725000.00 -190771.09        26.31\n",
       "4116   143455.35  159000.00   15544.65         9.78\n",
       "4117  1639017.47 1700000.00   60982.53         3.59\n",
       "\n",
       "[4118 rows x 4 columns]"
      ]
     },
     "execution_count": 53,
     "metadata": {},
     "output_type": "execute_result"
    }
   ],
   "source": [
    "df_pf = pd.DataFrame(np.exp(y_hat_test_rf), columns=['Prediction'])\n",
    "y_test = y_test.reset_index(drop=True)\n",
    "df_pf['Target'] = np.exp(y_test)\n",
    "df_pf['Residual'] = df_pf['Target'] - df_pf['Prediction']\n",
    "df_pf['Difference%'] = np.absolute(df_pf['Residual']/df_pf['Target']*100)\n",
    "df_pf"
   ]
  },
  {
   "cell_type": "code",
   "execution_count": 54,
   "id": "918d379f",
   "metadata": {
    "execution": {
     "iopub.execute_input": "2023-01-15T17:55:39.880309Z",
     "iopub.status.busy": "2023-01-15T17:55:39.880019Z",
     "iopub.status.idle": "2023-01-15T17:55:39.901222Z",
     "shell.execute_reply": "2023-01-15T17:55:39.900202Z"
    },
    "papermill": {
     "duration": 0.16396,
     "end_time": "2023-01-15T17:55:39.903557",
     "exception": false,
     "start_time": "2023-01-15T17:55:39.739597",
     "status": "completed"
    },
    "scrolled": true,
    "tags": []
   },
   "outputs": [
    {
     "data": {
      "text/html": [
       "<div>\n",
       "<style scoped>\n",
       "    .dataframe tbody tr th:only-of-type {\n",
       "        vertical-align: middle;\n",
       "    }\n",
       "\n",
       "    .dataframe tbody tr th {\n",
       "        vertical-align: top;\n",
       "    }\n",
       "\n",
       "    .dataframe thead th {\n",
       "        text-align: right;\n",
       "    }\n",
       "</style>\n",
       "<table border=\"1\" class=\"dataframe\">\n",
       "  <thead>\n",
       "    <tr style=\"text-align: right;\">\n",
       "      <th></th>\n",
       "      <th>Prediction</th>\n",
       "      <th>Target</th>\n",
       "      <th>Residual</th>\n",
       "      <th>Difference%</th>\n",
       "    </tr>\n",
       "  </thead>\n",
       "  <tbody>\n",
       "    <tr>\n",
       "      <th>count</th>\n",
       "      <td>4118.00</td>\n",
       "      <td>4118.00</td>\n",
       "      <td>4118.00</td>\n",
       "      <td>4118.00</td>\n",
       "    </tr>\n",
       "    <tr>\n",
       "      <th>mean</th>\n",
       "      <td>512999.56</td>\n",
       "      <td>520584.60</td>\n",
       "      <td>7585.03</td>\n",
       "      <td>19.39</td>\n",
       "    </tr>\n",
       "    <tr>\n",
       "      <th>std</th>\n",
       "      <td>425647.42</td>\n",
       "      <td>451160.18</td>\n",
       "      <td>162135.32</td>\n",
       "      <td>25.34</td>\n",
       "    </tr>\n",
       "    <tr>\n",
       "      <th>min</th>\n",
       "      <td>57030.05</td>\n",
       "      <td>55000.00</td>\n",
       "      <td>-1175918.41</td>\n",
       "      <td>0.00</td>\n",
       "    </tr>\n",
       "    <tr>\n",
       "      <th>25%</th>\n",
       "      <td>198650.52</td>\n",
       "      <td>194000.00</td>\n",
       "      <td>-38561.65</td>\n",
       "      <td>5.41</td>\n",
       "    </tr>\n",
       "    <tr>\n",
       "      <th>50%</th>\n",
       "      <td>350030.81</td>\n",
       "      <td>359000.00</td>\n",
       "      <td>942.72</td>\n",
       "      <td>12.79</td>\n",
       "    </tr>\n",
       "    <tr>\n",
       "      <th>75%</th>\n",
       "      <td>697046.87</td>\n",
       "      <td>685000.00</td>\n",
       "      <td>48429.40</td>\n",
       "      <td>25.21</td>\n",
       "    </tr>\n",
       "    <tr>\n",
       "      <th>max</th>\n",
       "      <td>2089505.13</td>\n",
       "      <td>2190000.00</td>\n",
       "      <td>1051470.24</td>\n",
       "      <td>522.63</td>\n",
       "    </tr>\n",
       "  </tbody>\n",
       "</table>\n",
       "</div>"
      ],
      "text/plain": [
       "       Prediction     Target    Residual  Difference%\n",
       "count     4118.00    4118.00     4118.00      4118.00\n",
       "mean    512999.56  520584.60     7585.03        19.39\n",
       "std     425647.42  451160.18   162135.32        25.34\n",
       "min      57030.05   55000.00 -1175918.41         0.00\n",
       "25%     198650.52  194000.00   -38561.65         5.41\n",
       "50%     350030.81  359000.00      942.72        12.79\n",
       "75%     697046.87  685000.00    48429.40        25.21\n",
       "max    2089505.13 2190000.00  1051470.24       522.63"
      ]
     },
     "execution_count": 54,
     "metadata": {},
     "output_type": "execute_result"
    }
   ],
   "source": [
    "df_pf.describe()"
   ]
  },
  {
   "cell_type": "code",
   "execution_count": 55,
   "id": "32ab04bf",
   "metadata": {
    "execution": {
     "iopub.execute_input": "2023-01-15T17:55:40.208197Z",
     "iopub.status.busy": "2023-01-15T17:55:40.207609Z",
     "iopub.status.idle": "2023-01-15T17:55:40.224529Z",
     "shell.execute_reply": "2023-01-15T17:55:40.223262Z"
    },
    "papermill": {
     "duration": 0.174998,
     "end_time": "2023-01-15T17:55:40.226911",
     "exception": false,
     "start_time": "2023-01-15T17:55:40.051913",
     "status": "completed"
    },
    "tags": []
   },
   "outputs": [
    {
     "data": {
      "text/html": [
       "<div>\n",
       "<style scoped>\n",
       "    .dataframe tbody tr th:only-of-type {\n",
       "        vertical-align: middle;\n",
       "    }\n",
       "\n",
       "    .dataframe tbody tr th {\n",
       "        vertical-align: top;\n",
       "    }\n",
       "\n",
       "    .dataframe thead th {\n",
       "        text-align: right;\n",
       "    }\n",
       "</style>\n",
       "<table border=\"1\" class=\"dataframe\">\n",
       "  <thead>\n",
       "    <tr style=\"text-align: right;\">\n",
       "      <th></th>\n",
       "      <th>Prediction</th>\n",
       "      <th>Target</th>\n",
       "      <th>Residual</th>\n",
       "      <th>Difference%</th>\n",
       "    </tr>\n",
       "  </thead>\n",
       "  <tbody>\n",
       "    <tr>\n",
       "      <th>3914</th>\n",
       "      <td>1400918.41</td>\n",
       "      <td>225000.00</td>\n",
       "      <td>-1175918.41</td>\n",
       "      <td>522.63</td>\n",
       "    </tr>\n",
       "    <tr>\n",
       "      <th>1139</th>\n",
       "      <td>924584.50</td>\n",
       "      <td>190000.00</td>\n",
       "      <td>-734584.50</td>\n",
       "      <td>386.62</td>\n",
       "    </tr>\n",
       "    <tr>\n",
       "      <th>2299</th>\n",
       "      <td>608895.05</td>\n",
       "      <td>130000.00</td>\n",
       "      <td>-478895.05</td>\n",
       "      <td>368.38</td>\n",
       "    </tr>\n",
       "    <tr>\n",
       "      <th>3879</th>\n",
       "      <td>387193.23</td>\n",
       "      <td>99000.00</td>\n",
       "      <td>-288193.23</td>\n",
       "      <td>291.10</td>\n",
       "    </tr>\n",
       "    <tr>\n",
       "      <th>797</th>\n",
       "      <td>535972.68</td>\n",
       "      <td>145000.00</td>\n",
       "      <td>-390972.68</td>\n",
       "      <td>269.64</td>\n",
       "    </tr>\n",
       "    <tr>\n",
       "      <th>...</th>\n",
       "      <td>...</td>\n",
       "      <td>...</td>\n",
       "      <td>...</td>\n",
       "      <td>...</td>\n",
       "    </tr>\n",
       "    <tr>\n",
       "      <th>2540</th>\n",
       "      <td>1599000.00</td>\n",
       "      <td>1599000.00</td>\n",
       "      <td>-0.00</td>\n",
       "      <td>0.00</td>\n",
       "    </tr>\n",
       "    <tr>\n",
       "      <th>346</th>\n",
       "      <td>540000.00</td>\n",
       "      <td>540000.00</td>\n",
       "      <td>-0.00</td>\n",
       "      <td>0.00</td>\n",
       "    </tr>\n",
       "    <tr>\n",
       "      <th>2714</th>\n",
       "      <td>540000.00</td>\n",
       "      <td>540000.00</td>\n",
       "      <td>-0.00</td>\n",
       "      <td>0.00</td>\n",
       "    </tr>\n",
       "    <tr>\n",
       "      <th>1188</th>\n",
       "      <td>305000.00</td>\n",
       "      <td>305000.00</td>\n",
       "      <td>-0.00</td>\n",
       "      <td>0.00</td>\n",
       "    </tr>\n",
       "    <tr>\n",
       "      <th>2832</th>\n",
       "      <td>325000.00</td>\n",
       "      <td>325000.00</td>\n",
       "      <td>0.00</td>\n",
       "      <td>0.00</td>\n",
       "    </tr>\n",
       "  </tbody>\n",
       "</table>\n",
       "<p>4118 rows × 4 columns</p>\n",
       "</div>"
      ],
      "text/plain": [
       "      Prediction     Target    Residual  Difference%\n",
       "3914  1400918.41  225000.00 -1175918.41       522.63\n",
       "1139   924584.50  190000.00  -734584.50       386.62\n",
       "2299   608895.05  130000.00  -478895.05       368.38\n",
       "3879   387193.23   99000.00  -288193.23       291.10\n",
       "797    535972.68  145000.00  -390972.68       269.64\n",
       "...          ...        ...         ...          ...\n",
       "2540  1599000.00 1599000.00       -0.00         0.00\n",
       "346    540000.00  540000.00       -0.00         0.00\n",
       "2714   540000.00  540000.00       -0.00         0.00\n",
       "1188   305000.00  305000.00       -0.00         0.00\n",
       "2832   325000.00  325000.00        0.00         0.00\n",
       "\n",
       "[4118 rows x 4 columns]"
      ]
     },
     "execution_count": 55,
     "metadata": {},
     "output_type": "execute_result"
    }
   ],
   "source": [
    "pd.set_option('display.float_format', lambda x: '%.2f' % x)\n",
    "df_pf.sort_values(by=['Difference%'], ascending = False)"
   ]
  },
  {
   "cell_type": "code",
   "execution_count": 56,
   "id": "a12bd398",
   "metadata": {
    "execution": {
     "iopub.execute_input": "2023-01-15T17:55:40.507459Z",
     "iopub.status.busy": "2023-01-15T17:55:40.507136Z",
     "iopub.status.idle": "2023-01-15T17:55:40.519663Z",
     "shell.execute_reply": "2023-01-15T17:55:40.518564Z"
    },
    "id": "0SBstjpCTPar",
    "outputId": "426702d7-fc96-43cf-c82b-6fba260143d4",
    "papermill": {
     "duration": 0.155391,
     "end_time": "2023-01-15T17:55:40.522011",
     "exception": false,
     "start_time": "2023-01-15T17:55:40.366620",
     "status": "completed"
    },
    "scrolled": true,
    "tags": []
   },
   "outputs": [
    {
     "name": "stdout",
     "output_type": "stream",
     "text": [
      "Mean Absolute Error: 0.18333320549391605\n",
      "Mean Squared Error: 0.06706482972333436\n",
      "Root Mean Squared Error: 0.25896878136820733\n",
      "R-squared score 0.89\n"
     ]
    }
   ],
   "source": [
    "print('Mean Absolute Error:', metrics.mean_absolute_error(y_hat_test_rf, y_test))\n",
    "print('Mean Squared Error:', metrics.mean_squared_error(y_hat_test_rf, y_test))\n",
    "print('Root Mean Squared Error:', np.sqrt(metrics.mean_squared_error(y_hat_test_rf, y_test)))\n",
    "\n",
    "r2_rf = r2_score (y_hat_test_rf, y_test)\n",
    "\n",
    "print ('R-squared score', round (r2_rf,2))"
   ]
  },
  {
   "cell_type": "markdown",
   "id": "d5d2806b",
   "metadata": {
    "id": "5H3vtnogTPat",
    "papermill": {
     "duration": 0.150413,
     "end_time": "2023-01-15T17:55:40.823950",
     "exception": false,
     "start_time": "2023-01-15T17:55:40.673537",
     "status": "completed"
    },
    "tags": []
   },
   "source": [
    "# Technique 3: Catboost Regresssor"
   ]
  },
  {
   "cell_type": "code",
   "execution_count": 57,
   "id": "3d4399c1",
   "metadata": {
    "execution": {
     "iopub.execute_input": "2023-01-15T17:55:41.120577Z",
     "iopub.status.busy": "2023-01-15T17:55:41.120303Z",
     "iopub.status.idle": "2023-01-15T17:55:41.503110Z",
     "shell.execute_reply": "2023-01-15T17:55:41.502141Z"
    },
    "id": "rMubU6LwTPat",
    "papermill": {
     "duration": 0.535659,
     "end_time": "2023-01-15T17:55:41.505662",
     "exception": false,
     "start_time": "2023-01-15T17:55:40.970003",
     "status": "completed"
    },
    "tags": []
   },
   "outputs": [],
   "source": [
    "from catboost import CatBoostRegressor"
   ]
  },
  {
   "cell_type": "code",
   "execution_count": 58,
   "id": "54efdf0e",
   "metadata": {
    "execution": {
     "iopub.execute_input": "2023-01-15T17:55:41.796452Z",
     "iopub.status.busy": "2023-01-15T17:55:41.795479Z",
     "iopub.status.idle": "2023-01-15T17:55:41.805127Z",
     "shell.execute_reply": "2023-01-15T17:55:41.804190Z"
    },
    "id": "DB9DAaL8TPat",
    "papermill": {
     "duration": 0.152718,
     "end_time": "2023-01-15T17:55:41.807477",
     "exception": false,
     "start_time": "2023-01-15T17:55:41.654759",
     "status": "completed"
    },
    "tags": []
   },
   "outputs": [],
   "source": [
    "start = time.time()\n",
    "cb=CatBoostRegressor()"
   ]
  },
  {
   "cell_type": "code",
   "execution_count": 59,
   "id": "11bc61b2",
   "metadata": {
    "execution": {
     "iopub.execute_input": "2023-01-15T17:55:42.089185Z",
     "iopub.status.busy": "2023-01-15T17:55:42.088882Z",
     "iopub.status.idle": "2023-01-15T17:55:45.878066Z",
     "shell.execute_reply": "2023-01-15T17:55:45.876889Z"
    },
    "id": "Hr4GFkDqTPau",
    "outputId": "904787f8-575b-4d94-c67d-30e1db5517f9",
    "papermill": {
     "duration": 3.932391,
     "end_time": "2023-01-15T17:55:45.880706",
     "exception": false,
     "start_time": "2023-01-15T17:55:41.948315",
     "status": "completed"
    },
    "tags": []
   },
   "outputs": [
    {
     "name": "stdout",
     "output_type": "stream",
     "text": [
      "Execution time for CB: 4.08 seconds\n"
     ]
    }
   ],
   "source": [
    "cb.fit(x_train,y_train, verbose = False)\n",
    "end = time.time()\n",
    "diff_cb = end - start\n",
    "print ('Execution time for CB:', round(diff_cb,2), 'seconds')"
   ]
  },
  {
   "cell_type": "code",
   "execution_count": 60,
   "id": "9ecbb4ec",
   "metadata": {
    "execution": {
     "iopub.execute_input": "2023-01-15T17:55:46.165769Z",
     "iopub.status.busy": "2023-01-15T17:55:46.165387Z",
     "iopub.status.idle": "2023-01-15T17:55:46.975140Z",
     "shell.execute_reply": "2023-01-15T17:55:46.974217Z"
    },
    "papermill": {
     "duration": 0.956795,
     "end_time": "2023-01-15T17:55:46.977743",
     "exception": false,
     "start_time": "2023-01-15T17:55:46.020948",
     "status": "completed"
    },
    "tags": []
   },
   "outputs": [],
   "source": [
    "y_hat_cb = cb.predict(x_train)"
   ]
  },
  {
   "cell_type": "code",
   "execution_count": 61,
   "id": "6f34a74e",
   "metadata": {
    "execution": {
     "iopub.execute_input": "2023-01-15T17:55:47.267851Z",
     "iopub.status.busy": "2023-01-15T17:55:47.267523Z",
     "iopub.status.idle": "2023-01-15T17:55:47.564303Z",
     "shell.execute_reply": "2023-01-15T17:55:47.563254Z"
    },
    "papermill": {
     "duration": 0.445881,
     "end_time": "2023-01-15T17:55:47.566952",
     "exception": false,
     "start_time": "2023-01-15T17:55:47.121071",
     "status": "completed"
    },
    "tags": []
   },
   "outputs": [
    {
     "data": {
      "image/png": "[encoded data removed]",
      "text/plain": [
       "<Figure size 432x288 with 1 Axes>"
      ]
     },
     "metadata": {},
     "output_type": "display_data"
    }
   ],
   "source": [
    "plt.scatter(y_train, y_hat_cb)\n",
    "\n",
    "plt.xlabel('Targets (y_train)',size=18)\n",
    "plt.ylabel('Predictions (y_hat_cb)',size=18)\n",
    "\n",
    "\n",
    "plt.xlim(10,17)\n",
    "plt.ylim(10,17)\n",
    "plt.show()"
   ]
  },
  {
   "cell_type": "code",
   "execution_count": 62,
   "id": "5fe1703f",
   "metadata": {
    "execution": {
     "iopub.execute_input": "2023-01-15T17:55:47.863967Z",
     "iopub.status.busy": "2023-01-15T17:55:47.863350Z",
     "iopub.status.idle": "2023-01-15T17:55:48.480927Z",
     "shell.execute_reply": "2023-01-15T17:55:48.480224Z"
    },
    "papermill": {
     "duration": 0.770808,
     "end_time": "2023-01-15T17:55:48.483124",
     "exception": false,
     "start_time": "2023-01-15T17:55:47.712316",
     "status": "completed"
    },
    "tags": []
   },
   "outputs": [
    {
     "data": {
      "text/plain": [
       "Text(0.5, 1.0, 'Residuals PDF')"
      ]
     },
     "execution_count": 62,
     "metadata": {},
     "output_type": "execute_result"
    },
    {
     "data": {
      "image/png": "[encoded data removed]",
      "text/plain": [
       "<Figure size 432x288 with 1 Axes>"
      ]
     },
     "metadata": {},
     "output_type": "display_data"
    }
   ],
   "source": [
    "sns.histplot(y_train - y_hat_cb, kde=True, stat=\"density\", linewidth=0)\n",
    "\n",
    "plt.title(\"Residuals PDF\", size=18)\n"
   ]
  },
  {
   "cell_type": "code",
   "execution_count": 63,
   "id": "ad94c3d0",
   "metadata": {
    "execution": {
     "iopub.execute_input": "2023-01-15T17:55:48.774885Z",
     "iopub.status.busy": "2023-01-15T17:55:48.774315Z",
     "iopub.status.idle": "2023-01-15T17:55:48.781710Z",
     "shell.execute_reply": "2023-01-15T17:55:48.780587Z"
    },
    "papermill": {
     "duration": 0.154243,
     "end_time": "2023-01-15T17:55:48.784315",
     "exception": false,
     "start_time": "2023-01-15T17:55:48.630072",
     "status": "completed"
    },
    "tags": []
   },
   "outputs": [
    {
     "name": "stdout",
     "output_type": "stream",
     "text": [
      "R-squared score 0.93\n"
     ]
    }
   ],
   "source": [
    "r2 = r2_score (y_train, y_hat_cb)\n",
    "\n",
    "print ('R-squared score', round (r2,2))"
   ]
  },
  {
   "cell_type": "markdown",
   "id": "19ab9206",
   "metadata": {
    "papermill": {
     "duration": 0.14286,
     "end_time": "2023-01-15T17:55:49.071256",
     "exception": false,
     "start_time": "2023-01-15T17:55:48.928396",
     "status": "completed"
    },
    "tags": []
   },
   "source": [
    "let's try the model on the test values now"
   ]
  },
  {
   "cell_type": "code",
   "execution_count": 64,
   "id": "7f356447",
   "metadata": {
    "execution": {
     "iopub.execute_input": "2023-01-15T17:55:49.374471Z",
     "iopub.status.busy": "2023-01-15T17:55:49.373477Z",
     "iopub.status.idle": "2023-01-15T17:55:49.599447Z",
     "shell.execute_reply": "2023-01-15T17:55:49.598668Z"
    },
    "id": "iWB2k2MwTPau",
    "papermill": {
     "duration": 0.37821,
     "end_time": "2023-01-15T17:55:49.601909",
     "exception": false,
     "start_time": "2023-01-15T17:55:49.223699",
     "status": "completed"
    },
    "tags": []
   },
   "outputs": [],
   "source": [
    "y_hat_test_cb=cb.predict(x_test)"
   ]
  },
  {
   "cell_type": "code",
   "execution_count": 65,
   "id": "0f8c4fd1",
   "metadata": {
    "execution": {
     "iopub.execute_input": "2023-01-15T17:55:49.899321Z",
     "iopub.status.busy": "2023-01-15T17:55:49.898971Z",
     "iopub.status.idle": "2023-01-15T17:55:50.293424Z",
     "shell.execute_reply": "2023-01-15T17:55:50.292527Z"
    },
    "id": "_tR7wJU_TPav",
    "outputId": "449cd8ff-defb-4e61-d891-c63dafe795ef",
    "papermill": {
     "duration": 0.542083,
     "end_time": "2023-01-15T17:55:50.295770",
     "exception": false,
     "start_time": "2023-01-15T17:55:49.753687",
     "status": "completed"
    },
    "tags": []
   },
   "outputs": [
    {
     "data": {
      "text/plain": [
       "<AxesSubplot:xlabel='log_price', ylabel='Density'>"
      ]
     },
     "execution_count": 65,
     "metadata": {},
     "output_type": "execute_result"
    },
    {
     "data": {
      "image/png": "[encoded data removed]",
      "text/plain": [
       "<Figure size 432x288 with 1 Axes>"
      ]
     },
     "metadata": {},
     "output_type": "display_data"
    }
   ],
   "source": [
    "sns.histplot(y_test-y_hat_test_cb, kde=True, stat=\"density\", linewidth=0)"
   ]
  },
  {
   "cell_type": "code",
   "execution_count": 66,
   "id": "5f50b2e2",
   "metadata": {
    "execution": {
     "iopub.execute_input": "2023-01-15T17:55:50.590067Z",
     "iopub.status.busy": "2023-01-15T17:55:50.589590Z",
     "iopub.status.idle": "2023-01-15T17:55:50.799054Z",
     "shell.execute_reply": "2023-01-15T17:55:50.797942Z"
    },
    "id": "D_5-zLbjTPav",
    "outputId": "50f012d0-948f-45fe-ae6e-6421a936e9fa",
    "papermill": {
     "duration": 0.36108,
     "end_time": "2023-01-15T17:55:50.801510",
     "exception": false,
     "start_time": "2023-01-15T17:55:50.440430",
     "status": "completed"
    },
    "scrolled": true,
    "tags": []
   },
   "outputs": [
    {
     "data": {
      "image/png": "[encoded data removed]",
      "text/plain": [
       "<Figure size 432x288 with 1 Axes>"
      ]
     },
     "metadata": {},
     "output_type": "display_data"
    }
   ],
   "source": [
    "plt.scatter(y_test,y_hat_test_cb, alpha = 0.2)\n",
    "plt.xlabel('Targets (y_test)',size=18)\n",
    "plt.ylabel('Predictions (y_hat_test_cb)',size=18)\n",
    "plt.xlim(10,17)\n",
    "plt.ylim(10,17)\n",
    "plt.show()"
   ]
  },
  {
   "cell_type": "code",
   "execution_count": 67,
   "id": "d4155630",
   "metadata": {
    "execution": {
     "iopub.execute_input": "2023-01-15T17:55:51.095605Z",
     "iopub.status.busy": "2023-01-15T17:55:51.095292Z",
     "iopub.status.idle": "2023-01-15T17:55:51.113801Z",
     "shell.execute_reply": "2023-01-15T17:55:51.112919Z"
    },
    "papermill": {
     "duration": 0.168239,
     "end_time": "2023-01-15T17:55:51.116306",
     "exception": false,
     "start_time": "2023-01-15T17:55:50.948067",
     "status": "completed"
    },
    "tags": []
   },
   "outputs": [
    {
     "data": {
      "text/html": [
       "<div>\n",
       "<style scoped>\n",
       "    .dataframe tbody tr th:only-of-type {\n",
       "        vertical-align: middle;\n",
       "    }\n",
       "\n",
       "    .dataframe tbody tr th {\n",
       "        vertical-align: top;\n",
       "    }\n",
       "\n",
       "    .dataframe thead th {\n",
       "        text-align: right;\n",
       "    }\n",
       "</style>\n",
       "<table border=\"1\" class=\"dataframe\">\n",
       "  <thead>\n",
       "    <tr style=\"text-align: right;\">\n",
       "      <th></th>\n",
       "      <th>Prediction</th>\n",
       "      <th>Target</th>\n",
       "      <th>Residual</th>\n",
       "      <th>Difference%</th>\n",
       "    </tr>\n",
       "  </thead>\n",
       "  <tbody>\n",
       "    <tr>\n",
       "      <th>0</th>\n",
       "      <td>684102.69</td>\n",
       "      <td>850000.00</td>\n",
       "      <td>165897.31</td>\n",
       "      <td>19.52</td>\n",
       "    </tr>\n",
       "    <tr>\n",
       "      <th>1</th>\n",
       "      <td>180999.98</td>\n",
       "      <td>99000.00</td>\n",
       "      <td>-81999.98</td>\n",
       "      <td>82.83</td>\n",
       "    </tr>\n",
       "    <tr>\n",
       "      <th>2</th>\n",
       "      <td>192253.88</td>\n",
       "      <td>199000.00</td>\n",
       "      <td>6746.12</td>\n",
       "      <td>3.39</td>\n",
       "    </tr>\n",
       "    <tr>\n",
       "      <th>3</th>\n",
       "      <td>131520.02</td>\n",
       "      <td>130000.00</td>\n",
       "      <td>-1520.02</td>\n",
       "      <td>1.17</td>\n",
       "    </tr>\n",
       "    <tr>\n",
       "      <th>4</th>\n",
       "      <td>314067.27</td>\n",
       "      <td>395000.00</td>\n",
       "      <td>80932.73</td>\n",
       "      <td>20.49</td>\n",
       "    </tr>\n",
       "    <tr>\n",
       "      <th>...</th>\n",
       "      <td>...</td>\n",
       "      <td>...</td>\n",
       "      <td>...</td>\n",
       "      <td>...</td>\n",
       "    </tr>\n",
       "    <tr>\n",
       "      <th>4113</th>\n",
       "      <td>497042.20</td>\n",
       "      <td>414000.00</td>\n",
       "      <td>-83042.20</td>\n",
       "      <td>20.06</td>\n",
       "    </tr>\n",
       "    <tr>\n",
       "      <th>4114</th>\n",
       "      <td>208453.00</td>\n",
       "      <td>149000.00</td>\n",
       "      <td>-59453.00</td>\n",
       "      <td>39.90</td>\n",
       "    </tr>\n",
       "    <tr>\n",
       "      <th>4115</th>\n",
       "      <td>1013722.29</td>\n",
       "      <td>725000.00</td>\n",
       "      <td>-288722.29</td>\n",
       "      <td>39.82</td>\n",
       "    </tr>\n",
       "    <tr>\n",
       "      <th>4116</th>\n",
       "      <td>170177.51</td>\n",
       "      <td>159000.00</td>\n",
       "      <td>-11177.51</td>\n",
       "      <td>7.03</td>\n",
       "    </tr>\n",
       "    <tr>\n",
       "      <th>4117</th>\n",
       "      <td>1565080.95</td>\n",
       "      <td>1700000.00</td>\n",
       "      <td>134919.05</td>\n",
       "      <td>7.94</td>\n",
       "    </tr>\n",
       "  </tbody>\n",
       "</table>\n",
       "<p>4118 rows × 4 columns</p>\n",
       "</div>"
      ],
      "text/plain": [
       "      Prediction     Target   Residual  Difference%\n",
       "0      684102.69  850000.00  165897.31        19.52\n",
       "1      180999.98   99000.00  -81999.98        82.83\n",
       "2      192253.88  199000.00    6746.12         3.39\n",
       "3      131520.02  130000.00   -1520.02         1.17\n",
       "4      314067.27  395000.00   80932.73        20.49\n",
       "...          ...        ...        ...          ...\n",
       "4113   497042.20  414000.00  -83042.20        20.06\n",
       "4114   208453.00  149000.00  -59453.00        39.90\n",
       "4115  1013722.29  725000.00 -288722.29        39.82\n",
       "4116   170177.51  159000.00  -11177.51         7.03\n",
       "4117  1565080.95 1700000.00  134919.05         7.94\n",
       "\n",
       "[4118 rows x 4 columns]"
      ]
     },
     "execution_count": 67,
     "metadata": {},
     "output_type": "execute_result"
    }
   ],
   "source": [
    "df_pf = pd.DataFrame(np.exp(y_hat_test_cb), columns=['Prediction'])\n",
    "\n",
    "y_test = y_test.reset_index(drop=True)\n",
    "\n",
    "df_pf['Target'] = np.exp(y_test)\n",
    "\n",
    "df_pf['Residual'] = df_pf['Target'] - df_pf['Prediction']\n",
    "\n",
    "\n",
    "df_pf['Difference%'] = np.absolute(df_pf['Residual']/df_pf['Target']*100)\n",
    "df_pf"
   ]
  },
  {
   "cell_type": "code",
   "execution_count": 68,
   "id": "78d92441",
   "metadata": {
    "execution": {
     "iopub.execute_input": "2023-01-15T17:55:51.420006Z",
     "iopub.status.busy": "2023-01-15T17:55:51.419688Z",
     "iopub.status.idle": "2023-01-15T17:55:51.444183Z",
     "shell.execute_reply": "2023-01-15T17:55:51.443257Z"
    },
    "papermill": {
     "duration": 0.17525,
     "end_time": "2023-01-15T17:55:51.446599",
     "exception": false,
     "start_time": "2023-01-15T17:55:51.271349",
     "status": "completed"
    },
    "tags": []
   },
   "outputs": [
    {
     "data": {
      "text/html": [
       "<div>\n",
       "<style scoped>\n",
       "    .dataframe tbody tr th:only-of-type {\n",
       "        vertical-align: middle;\n",
       "    }\n",
       "\n",
       "    .dataframe tbody tr th {\n",
       "        vertical-align: top;\n",
       "    }\n",
       "\n",
       "    .dataframe thead th {\n",
       "        text-align: right;\n",
       "    }\n",
       "</style>\n",
       "<table border=\"1\" class=\"dataframe\">\n",
       "  <thead>\n",
       "    <tr style=\"text-align: right;\">\n",
       "      <th></th>\n",
       "      <th>Prediction</th>\n",
       "      <th>Target</th>\n",
       "      <th>Residual</th>\n",
       "      <th>Difference%</th>\n",
       "    </tr>\n",
       "  </thead>\n",
       "  <tbody>\n",
       "    <tr>\n",
       "      <th>count</th>\n",
       "      <td>4118.00</td>\n",
       "      <td>4118.00</td>\n",
       "      <td>4118.00</td>\n",
       "      <td>4118.00</td>\n",
       "    </tr>\n",
       "    <tr>\n",
       "      <th>mean</th>\n",
       "      <td>502723.29</td>\n",
       "      <td>520584.60</td>\n",
       "      <td>17861.31</td>\n",
       "      <td>18.28</td>\n",
       "    </tr>\n",
       "    <tr>\n",
       "      <th>std</th>\n",
       "      <td>403694.87</td>\n",
       "      <td>451160.18</td>\n",
       "      <td>159048.29</td>\n",
       "      <td>18.05</td>\n",
       "    </tr>\n",
       "    <tr>\n",
       "      <th>min</th>\n",
       "      <td>77405.42</td>\n",
       "      <td>55000.00</td>\n",
       "      <td>-767463.37</td>\n",
       "      <td>0.02</td>\n",
       "    </tr>\n",
       "    <tr>\n",
       "      <th>25%</th>\n",
       "      <td>201774.29</td>\n",
       "      <td>194000.00</td>\n",
       "      <td>-39749.21</td>\n",
       "      <td>6.57</td>\n",
       "    </tr>\n",
       "    <tr>\n",
       "      <th>50%</th>\n",
       "      <td>345507.19</td>\n",
       "      <td>359000.00</td>\n",
       "      <td>1442.16</td>\n",
       "      <td>13.93</td>\n",
       "    </tr>\n",
       "    <tr>\n",
       "      <th>75%</th>\n",
       "      <td>684128.26</td>\n",
       "      <td>685000.00</td>\n",
       "      <td>56572.74</td>\n",
       "      <td>24.54</td>\n",
       "    </tr>\n",
       "    <tr>\n",
       "      <th>max</th>\n",
       "      <td>2184401.63</td>\n",
       "      <td>2190000.00</td>\n",
       "      <td>1411497.37</td>\n",
       "      <td>280.94</td>\n",
       "    </tr>\n",
       "  </tbody>\n",
       "</table>\n",
       "</div>"
      ],
      "text/plain": [
       "       Prediction     Target   Residual  Difference%\n",
       "count     4118.00    4118.00    4118.00      4118.00\n",
       "mean    502723.29  520584.60   17861.31        18.28\n",
       "std     403694.87  451160.18  159048.29        18.05\n",
       "min      77405.42   55000.00 -767463.37         0.02\n",
       "25%     201774.29  194000.00  -39749.21         6.57\n",
       "50%     345507.19  359000.00    1442.16        13.93\n",
       "75%     684128.26  685000.00   56572.74        24.54\n",
       "max    2184401.63 2190000.00 1411497.37       280.94"
      ]
     },
     "execution_count": 68,
     "metadata": {},
     "output_type": "execute_result"
    }
   ],
   "source": [
    "df_pf.describe()"
   ]
  },
  {
   "cell_type": "code",
   "execution_count": 69,
   "id": "33e2571d",
   "metadata": {
    "execution": {
     "iopub.execute_input": "2023-01-15T17:55:51.747143Z",
     "iopub.status.busy": "2023-01-15T17:55:51.746810Z",
     "iopub.status.idle": "2023-01-15T17:55:51.761450Z",
     "shell.execute_reply": "2023-01-15T17:55:51.760477Z"
    },
    "papermill": {
     "duration": 0.165293,
     "end_time": "2023-01-15T17:55:51.764026",
     "exception": false,
     "start_time": "2023-01-15T17:55:51.598733",
     "status": "completed"
    },
    "tags": []
   },
   "outputs": [
    {
     "data": {
      "text/html": [
       "<div>\n",
       "<style scoped>\n",
       "    .dataframe tbody tr th:only-of-type {\n",
       "        vertical-align: middle;\n",
       "    }\n",
       "\n",
       "    .dataframe tbody tr th {\n",
       "        vertical-align: top;\n",
       "    }\n",
       "\n",
       "    .dataframe thead th {\n",
       "        text-align: right;\n",
       "    }\n",
       "</style>\n",
       "<table border=\"1\" class=\"dataframe\">\n",
       "  <thead>\n",
       "    <tr style=\"text-align: right;\">\n",
       "      <th></th>\n",
       "      <th>Prediction</th>\n",
       "      <th>Target</th>\n",
       "      <th>Residual</th>\n",
       "      <th>Difference%</th>\n",
       "    </tr>\n",
       "  </thead>\n",
       "  <tbody>\n",
       "    <tr>\n",
       "      <th>3879</th>\n",
       "      <td>377128.97</td>\n",
       "      <td>99000.00</td>\n",
       "      <td>-278128.97</td>\n",
       "      <td>280.94</td>\n",
       "    </tr>\n",
       "    <tr>\n",
       "      <th>2628</th>\n",
       "      <td>1044912.78</td>\n",
       "      <td>300000.00</td>\n",
       "      <td>-744912.78</td>\n",
       "      <td>248.30</td>\n",
       "    </tr>\n",
       "    <tr>\n",
       "      <th>3914</th>\n",
       "      <td>640955.69</td>\n",
       "      <td>225000.00</td>\n",
       "      <td>-415955.69</td>\n",
       "      <td>184.87</td>\n",
       "    </tr>\n",
       "    <tr>\n",
       "      <th>2299</th>\n",
       "      <td>352275.43</td>\n",
       "      <td>130000.00</td>\n",
       "      <td>-222275.43</td>\n",
       "      <td>170.98</td>\n",
       "    </tr>\n",
       "    <tr>\n",
       "      <th>191</th>\n",
       "      <td>328973.43</td>\n",
       "      <td>123000.00</td>\n",
       "      <td>-205973.43</td>\n",
       "      <td>167.46</td>\n",
       "    </tr>\n",
       "    <tr>\n",
       "      <th>...</th>\n",
       "      <td>...</td>\n",
       "      <td>...</td>\n",
       "      <td>...</td>\n",
       "      <td>...</td>\n",
       "    </tr>\n",
       "    <tr>\n",
       "      <th>1338</th>\n",
       "      <td>620319.98</td>\n",
       "      <td>620000.00</td>\n",
       "      <td>-319.98</td>\n",
       "      <td>0.05</td>\n",
       "    </tr>\n",
       "    <tr>\n",
       "      <th>1444</th>\n",
       "      <td>319838.32</td>\n",
       "      <td>320000.00</td>\n",
       "      <td>161.68</td>\n",
       "      <td>0.05</td>\n",
       "    </tr>\n",
       "    <tr>\n",
       "      <th>998</th>\n",
       "      <td>177072.59</td>\n",
       "      <td>177000.00</td>\n",
       "      <td>-72.59</td>\n",
       "      <td>0.04</td>\n",
       "    </tr>\n",
       "    <tr>\n",
       "      <th>472</th>\n",
       "      <td>570129.60</td>\n",
       "      <td>570000.00</td>\n",
       "      <td>-129.60</td>\n",
       "      <td>0.02</td>\n",
       "    </tr>\n",
       "    <tr>\n",
       "      <th>3934</th>\n",
       "      <td>1100197.64</td>\n",
       "      <td>1100000.00</td>\n",
       "      <td>-197.64</td>\n",
       "      <td>0.02</td>\n",
       "    </tr>\n",
       "  </tbody>\n",
       "</table>\n",
       "<p>4118 rows × 4 columns</p>\n",
       "</div>"
      ],
      "text/plain": [
       "      Prediction     Target   Residual  Difference%\n",
       "3879   377128.97   99000.00 -278128.97       280.94\n",
       "2628  1044912.78  300000.00 -744912.78       248.30\n",
       "3914   640955.69  225000.00 -415955.69       184.87\n",
       "2299   352275.43  130000.00 -222275.43       170.98\n",
       "191    328973.43  123000.00 -205973.43       167.46\n",
       "...          ...        ...        ...          ...\n",
       "1338   620319.98  620000.00    -319.98         0.05\n",
       "1444   319838.32  320000.00     161.68         0.05\n",
       "998    177072.59  177000.00     -72.59         0.04\n",
       "472    570129.60  570000.00    -129.60         0.02\n",
       "3934  1100197.64 1100000.00    -197.64         0.02\n",
       "\n",
       "[4118 rows x 4 columns]"
      ]
     },
     "execution_count": 69,
     "metadata": {},
     "output_type": "execute_result"
    }
   ],
   "source": [
    "pd.set_option('display.float_format', lambda x: '%.2f' % x)\n",
    "df_pf.sort_values(by=['Difference%'], ascending = False)"
   ]
  },
  {
   "cell_type": "code",
   "execution_count": 70,
   "id": "9650b0d7",
   "metadata": {
    "execution": {
     "iopub.execute_input": "2023-01-15T17:55:52.064051Z",
     "iopub.status.busy": "2023-01-15T17:55:52.063060Z",
     "iopub.status.idle": "2023-01-15T17:55:52.073496Z",
     "shell.execute_reply": "2023-01-15T17:55:52.072309Z"
    },
    "id": "0SBstjpCTPar",
    "outputId": "426702d7-fc96-43cf-c82b-6fba260143d4",
    "papermill": {
     "duration": 0.161485,
     "end_time": "2023-01-15T17:55:52.075929",
     "exception": false,
     "start_time": "2023-01-15T17:55:51.914444",
     "status": "completed"
    },
    "tags": []
   },
   "outputs": [
    {
     "name": "stdout",
     "output_type": "stream",
     "text": [
      "Mean Absolute Error: 0.1776194502154222\n",
      "Mean Squared Error: 0.054320890154407324\n",
      "Root Mean Squared Error: 0.2330684237609362\n",
      "R-squared score 0.91\n"
     ]
    }
   ],
   "source": [
    "print('Mean Absolute Error:', metrics.mean_absolute_error(y_hat_test_cb, y_test))\n",
    "print('Mean Squared Error:', metrics.mean_squared_error(y_hat_test_cb, y_test))\n",
    "print('Root Mean Squared Error:', np.sqrt(metrics.mean_squared_error(y_hat_test_cb, y_test)))\n",
    "\n",
    "r2_cb = r2_score (y_hat_test_cb, y_test)\n",
    "\n",
    "print ('R-squared score', round (r2_cb,2))"
   ]
  },
  {
   "cell_type": "markdown",
   "id": "a9a841e0",
   "metadata": {
    "papermill": {
     "duration": 0.149768,
     "end_time": "2023-01-15T17:55:52.379746",
     "exception": false,
     "start_time": "2023-01-15T17:55:52.229978",
     "status": "completed"
    },
    "tags": []
   },
   "source": [
    "# Technique 4: LGBM Regressor"
   ]
  },
  {
   "cell_type": "code",
   "execution_count": 71,
   "id": "dcf76c76",
   "metadata": {
    "execution": {
     "iopub.execute_input": "2023-01-15T17:55:52.682197Z",
     "iopub.status.busy": "2023-01-15T17:55:52.681619Z",
     "iopub.status.idle": "2023-01-15T17:55:53.696824Z",
     "shell.execute_reply": "2023-01-15T17:55:53.695803Z"
    },
    "papermill": {
     "duration": 1.167058,
     "end_time": "2023-01-15T17:55:53.699482",
     "exception": false,
     "start_time": "2023-01-15T17:55:52.532424",
     "status": "completed"
    },
    "tags": []
   },
   "outputs": [
    {
     "data": {
      "text/html": [
       "<style type='text/css'>\n",
       ".datatable table.frame { margin-bottom: 0; }\n",
       ".datatable table.frame thead { border-bottom: none; }\n",
       ".datatable table.frame tr.coltypes td {  color: #FFFFFF;  line-height: 6px;  padding: 0 0.5em;}\n",
       ".datatable .bool    { background: #DDDD99; }\n",
       ".datatable .object  { background: #565656; }\n",
       ".datatable .int     { background: #5D9E5D; }\n",
       ".datatable .float   { background: #4040CC; }\n",
       ".datatable .str     { background: #CC4040; }\n",
       ".datatable .time    { background: #40CC40; }\n",
       ".datatable .row_index {  background: var(--jp-border-color3);  border-right: 1px solid var(--jp-border-color0);  color: var(--jp-ui-font-color3);  font-size: 9px;}\n",
       ".datatable .frame tbody td { text-align: left; }\n",
       ".datatable .frame tr.coltypes .row_index {  background: var(--jp-border-color0);}\n",
       ".datatable th:nth-child(2) { padding-left: 12px; }\n",
       ".datatable .hellipsis {  color: var(--jp-cell-editor-border-color);}\n",
       ".datatable .vellipsis {  background: var(--jp-layout-color0);  color: var(--jp-cell-editor-border-color);}\n",
       ".datatable .na {  color: var(--jp-cell-editor-border-color);  font-size: 80%;}\n",
       ".datatable .sp {  opacity: 0.25;}\n",
       ".datatable .footer { font-size: 9px; }\n",
       ".datatable .frame_dimensions {  background: var(--jp-border-color3);  border-top: 1px solid var(--jp-border-color0);  color: var(--jp-ui-font-color3);  display: inline-block;  opacity: 0.6;  padding: 1px 10px 1px 5px;}\n",
       "</style>\n"
      ],
      "text/plain": [
       "<IPython.core.display.HTML object>"
      ]
     },
     "metadata": {},
     "output_type": "display_data"
    }
   ],
   "source": [
    "from lightgbm import LGBMRegressor"
   ]
  },
  {
   "cell_type": "code",
   "execution_count": 72,
   "id": "f92a3d85",
   "metadata": {
    "execution": {
     "iopub.execute_input": "2023-01-15T17:55:54.002576Z",
     "iopub.status.busy": "2023-01-15T17:55:54.002292Z",
     "iopub.status.idle": "2023-01-15T17:55:54.442514Z",
     "shell.execute_reply": "2023-01-15T17:55:54.441735Z"
    },
    "papermill": {
     "duration": 0.595668,
     "end_time": "2023-01-15T17:55:54.445055",
     "exception": false,
     "start_time": "2023-01-15T17:55:53.849387",
     "status": "completed"
    },
    "tags": []
   },
   "outputs": [
    {
     "name": "stdout",
     "output_type": "stream",
     "text": [
      "Execution time for LGBM: 0.43 seconds\n"
     ]
    }
   ],
   "source": [
    "start = time.time()\n",
    "lb=LGBMRegressor()  \n",
    "lb.fit(x_train,y_train)\n",
    "end = time.time()\n",
    "diff_lb_def = end - start\n",
    "print ('Execution time for LGBM:', round(diff_lb_def,2), 'seconds')"
   ]
  },
  {
   "cell_type": "code",
   "execution_count": 73,
   "id": "7436a7f9",
   "metadata": {
    "execution": {
     "iopub.execute_input": "2023-01-15T17:55:54.760391Z",
     "iopub.status.busy": "2023-01-15T17:55:54.760102Z",
     "iopub.status.idle": "2023-01-15T17:55:54.829945Z",
     "shell.execute_reply": "2023-01-15T17:55:54.829183Z"
    },
    "papermill": {
     "duration": 0.226621,
     "end_time": "2023-01-15T17:55:54.832360",
     "exception": false,
     "start_time": "2023-01-15T17:55:54.605739",
     "status": "completed"
    },
    "tags": []
   },
   "outputs": [],
   "source": [
    "y_hat_lb_def = lb.predict(x_train)"
   ]
  },
  {
   "cell_type": "code",
   "execution_count": 74,
   "id": "a7ff7abc",
   "metadata": {
    "execution": {
     "iopub.execute_input": "2023-01-15T17:55:55.136475Z",
     "iopub.status.busy": "2023-01-15T17:55:55.136187Z",
     "iopub.status.idle": "2023-01-15T17:55:55.438581Z",
     "shell.execute_reply": "2023-01-15T17:55:55.437601Z"
    },
    "papermill": {
     "duration": 0.457183,
     "end_time": "2023-01-15T17:55:55.440769",
     "exception": false,
     "start_time": "2023-01-15T17:55:54.983586",
     "status": "completed"
    },
    "scrolled": true,
    "tags": []
   },
   "outputs": [
    {
     "data": {
      "image/png": "[encoded data removed]",
      "text/plain": [
       "<Figure size 432x288 with 1 Axes>"
      ]
     },
     "metadata": {},
     "output_type": "display_data"
    }
   ],
   "source": [
    "plt.scatter(y_train, y_hat_lb_def)\n",
    "\n",
    "plt.xlabel('Targets (y_train)',size=18)\n",
    "plt.ylabel('Predictions (y_hat_lb)',size=18)\n",
    "\n",
    "\n",
    "plt.xlim(10,17)\n",
    "plt.ylim(10,17)\n",
    "plt.show()"
   ]
  },
  {
   "cell_type": "code",
   "execution_count": 75,
   "id": "f3df9908",
   "metadata": {
    "execution": {
     "iopub.execute_input": "2023-01-15T17:55:55.747348Z",
     "iopub.status.busy": "2023-01-15T17:55:55.747026Z",
     "iopub.status.idle": "2023-01-15T17:55:56.448783Z",
     "shell.execute_reply": "2023-01-15T17:55:56.447883Z"
    },
    "papermill": {
     "duration": 0.858173,
     "end_time": "2023-01-15T17:55:56.451173",
     "exception": false,
     "start_time": "2023-01-15T17:55:55.593000",
     "status": "completed"
    },
    "scrolled": true,
    "tags": []
   },
   "outputs": [
    {
     "data": {
      "text/plain": [
       "Text(0.5, 1.0, 'Residuals PDF')"
      ]
     },
     "execution_count": 75,
     "metadata": {},
     "output_type": "execute_result"
    },
    {
     "data": {
      "image/png": "[encoded data removed]",
      "text/plain": [
       "<Figure size 432x288 with 1 Axes>"
      ]
     },
     "metadata": {},
     "output_type": "display_data"
    }
   ],
   "source": [
    "sns.histplot(y_train - y_hat_lb_def, kde=True, stat=\"density\", linewidth=0)\n",
    "\n",
    "plt.title(\"Residuals PDF\", size=18)"
   ]
  },
  {
   "cell_type": "code",
   "execution_count": 76,
   "id": "2f83cc9f",
   "metadata": {
    "execution": {
     "iopub.execute_input": "2023-01-15T17:55:56.760489Z",
     "iopub.status.busy": "2023-01-15T17:55:56.759930Z",
     "iopub.status.idle": "2023-01-15T17:55:56.767109Z",
     "shell.execute_reply": "2023-01-15T17:55:56.765660Z"
    },
    "papermill": {
     "duration": 0.166882,
     "end_time": "2023-01-15T17:55:56.770223",
     "exception": false,
     "start_time": "2023-01-15T17:55:56.603341",
     "status": "completed"
    },
    "tags": []
   },
   "outputs": [
    {
     "name": "stdout",
     "output_type": "stream",
     "text": [
      "R-squared score 0.92\n"
     ]
    }
   ],
   "source": [
    "r2 = r2_score (y_train, y_hat_lb_def)\n",
    "\n",
    "print ('R-squared score', round (r2,2))"
   ]
  },
  {
   "cell_type": "code",
   "execution_count": 77,
   "id": "32e1dcdc",
   "metadata": {
    "execution": {
     "iopub.execute_input": "2023-01-15T17:55:57.083955Z",
     "iopub.status.busy": "2023-01-15T17:55:57.083654Z",
     "iopub.status.idle": "2023-01-15T17:55:57.106528Z",
     "shell.execute_reply": "2023-01-15T17:55:57.105486Z"
    },
    "papermill": {
     "duration": 0.182594,
     "end_time": "2023-01-15T17:55:57.109425",
     "exception": false,
     "start_time": "2023-01-15T17:55:56.926831",
     "status": "completed"
    },
    "tags": []
   },
   "outputs": [],
   "source": [
    "y_hat_test_lb_def=lb.predict(x_test)"
   ]
  },
  {
   "cell_type": "code",
   "execution_count": 78,
   "id": "d34e2ac3",
   "metadata": {
    "execution": {
     "iopub.execute_input": "2023-01-15T17:55:57.424814Z",
     "iopub.status.busy": "2023-01-15T17:55:57.424523Z",
     "iopub.status.idle": "2023-01-15T17:55:57.862356Z",
     "shell.execute_reply": "2023-01-15T17:55:57.861293Z"
    },
    "papermill": {
     "duration": 0.593276,
     "end_time": "2023-01-15T17:55:57.864609",
     "exception": false,
     "start_time": "2023-01-15T17:55:57.271333",
     "status": "completed"
    },
    "tags": []
   },
   "outputs": [
    {
     "data": {
      "text/plain": [
       "<AxesSubplot:xlabel='log_price', ylabel='Density'>"
      ]
     },
     "execution_count": 78,
     "metadata": {},
     "output_type": "execute_result"
    },
    {
     "data": {
      "image/png": "[encoded data removed]",
      "text/plain": [
       "<Figure size 432x288 with 1 Axes>"
      ]
     },
     "metadata": {},
     "output_type": "display_data"
    }
   ],
   "source": [
    "sns.histplot(y_test-y_hat_test_lb_def, kde=True, stat=\"density\", linewidth=0)"
   ]
  },
  {
   "cell_type": "code",
   "execution_count": 79,
   "id": "5dceb198",
   "metadata": {
    "execution": {
     "iopub.execute_input": "2023-01-15T17:55:58.252219Z",
     "iopub.status.busy": "2023-01-15T17:55:58.251939Z",
     "iopub.status.idle": "2023-01-15T17:55:58.526768Z",
     "shell.execute_reply": "2023-01-15T17:55:58.525726Z"
    },
    "papermill": {
     "duration": 0.507623,
     "end_time": "2023-01-15T17:55:58.528962",
     "exception": false,
     "start_time": "2023-01-15T17:55:58.021339",
     "status": "completed"
    },
    "tags": []
   },
   "outputs": [
    {
     "data": {
      "image/png": "[encoded data removed]",
      "text/plain": [
       "<Figure size 432x288 with 1 Axes>"
      ]
     },
     "metadata": {},
     "output_type": "display_data"
    }
   ],
   "source": [
    "plt.scatter(y_test,y_hat_test_lb_def, alpha = 0.2)\n",
    "plt.xlabel('Targets (y_test)',size=18)\n",
    "plt.ylabel('Predictions (y_hat_test_lb_def)',size=18)\n",
    "plt.xlim(10,17)\n",
    "plt.ylim(10,17)\n",
    "plt.show()"
   ]
  },
  {
   "cell_type": "code",
   "execution_count": 80,
   "id": "3c939a3a",
   "metadata": {
    "execution": {
     "iopub.execute_input": "2023-01-15T17:55:58.841713Z",
     "iopub.status.busy": "2023-01-15T17:55:58.840774Z",
     "iopub.status.idle": "2023-01-15T17:55:58.860747Z",
     "shell.execute_reply": "2023-01-15T17:55:58.859856Z"
    },
    "papermill": {
     "duration": 0.178491,
     "end_time": "2023-01-15T17:55:58.863410",
     "exception": false,
     "start_time": "2023-01-15T17:55:58.684919",
     "status": "completed"
    },
    "tags": []
   },
   "outputs": [
    {
     "data": {
      "text/html": [
       "<div>\n",
       "<style scoped>\n",
       "    .dataframe tbody tr th:only-of-type {\n",
       "        vertical-align: middle;\n",
       "    }\n",
       "\n",
       "    .dataframe tbody tr th {\n",
       "        vertical-align: top;\n",
       "    }\n",
       "\n",
       "    .dataframe thead th {\n",
       "        text-align: right;\n",
       "    }\n",
       "</style>\n",
       "<table border=\"1\" class=\"dataframe\">\n",
       "  <thead>\n",
       "    <tr style=\"text-align: right;\">\n",
       "      <th></th>\n",
       "      <th>Prediction</th>\n",
       "      <th>Target</th>\n",
       "      <th>Residual</th>\n",
       "      <th>Difference%</th>\n",
       "    </tr>\n",
       "  </thead>\n",
       "  <tbody>\n",
       "    <tr>\n",
       "      <th>0</th>\n",
       "      <td>651462.57</td>\n",
       "      <td>850000.00</td>\n",
       "      <td>198537.43</td>\n",
       "      <td>23.36</td>\n",
       "    </tr>\n",
       "    <tr>\n",
       "      <th>1</th>\n",
       "      <td>187125.19</td>\n",
       "      <td>99000.00</td>\n",
       "      <td>-88125.19</td>\n",
       "      <td>89.02</td>\n",
       "    </tr>\n",
       "    <tr>\n",
       "      <th>2</th>\n",
       "      <td>203981.83</td>\n",
       "      <td>199000.00</td>\n",
       "      <td>-4981.83</td>\n",
       "      <td>2.50</td>\n",
       "    </tr>\n",
       "    <tr>\n",
       "      <th>3</th>\n",
       "      <td>129729.78</td>\n",
       "      <td>130000.00</td>\n",
       "      <td>270.22</td>\n",
       "      <td>0.21</td>\n",
       "    </tr>\n",
       "    <tr>\n",
       "      <th>4</th>\n",
       "      <td>334638.57</td>\n",
       "      <td>395000.00</td>\n",
       "      <td>60361.43</td>\n",
       "      <td>15.28</td>\n",
       "    </tr>\n",
       "    <tr>\n",
       "      <th>...</th>\n",
       "      <td>...</td>\n",
       "      <td>...</td>\n",
       "      <td>...</td>\n",
       "      <td>...</td>\n",
       "    </tr>\n",
       "    <tr>\n",
       "      <th>4113</th>\n",
       "      <td>521018.00</td>\n",
       "      <td>414000.00</td>\n",
       "      <td>-107018.00</td>\n",
       "      <td>25.85</td>\n",
       "    </tr>\n",
       "    <tr>\n",
       "      <th>4114</th>\n",
       "      <td>210907.82</td>\n",
       "      <td>149000.00</td>\n",
       "      <td>-61907.82</td>\n",
       "      <td>41.55</td>\n",
       "    </tr>\n",
       "    <tr>\n",
       "      <th>4115</th>\n",
       "      <td>1003274.51</td>\n",
       "      <td>725000.00</td>\n",
       "      <td>-278274.51</td>\n",
       "      <td>38.38</td>\n",
       "    </tr>\n",
       "    <tr>\n",
       "      <th>4116</th>\n",
       "      <td>162154.33</td>\n",
       "      <td>159000.00</td>\n",
       "      <td>-3154.33</td>\n",
       "      <td>1.98</td>\n",
       "    </tr>\n",
       "    <tr>\n",
       "      <th>4117</th>\n",
       "      <td>1561762.04</td>\n",
       "      <td>1700000.00</td>\n",
       "      <td>138237.96</td>\n",
       "      <td>8.13</td>\n",
       "    </tr>\n",
       "  </tbody>\n",
       "</table>\n",
       "<p>4118 rows × 4 columns</p>\n",
       "</div>"
      ],
      "text/plain": [
       "      Prediction     Target   Residual  Difference%\n",
       "0      651462.57  850000.00  198537.43        23.36\n",
       "1      187125.19   99000.00  -88125.19        89.02\n",
       "2      203981.83  199000.00   -4981.83         2.50\n",
       "3      129729.78  130000.00     270.22         0.21\n",
       "4      334638.57  395000.00   60361.43        15.28\n",
       "...          ...        ...        ...          ...\n",
       "4113   521018.00  414000.00 -107018.00        25.85\n",
       "4114   210907.82  149000.00  -61907.82        41.55\n",
       "4115  1003274.51  725000.00 -278274.51        38.38\n",
       "4116   162154.33  159000.00   -3154.33         1.98\n",
       "4117  1561762.04 1700000.00  138237.96         8.13\n",
       "\n",
       "[4118 rows x 4 columns]"
      ]
     },
     "execution_count": 80,
     "metadata": {},
     "output_type": "execute_result"
    }
   ],
   "source": [
    "df_pf = pd.DataFrame(np.exp(y_hat_test_lb_def), columns=['Prediction'])\n",
    "\n",
    "y_test = y_test.reset_index(drop=True)\n",
    "\n",
    "df_pf['Target'] = np.exp(y_test)\n",
    "\n",
    "df_pf['Residual'] = df_pf['Target'] - df_pf['Prediction']\n",
    "\n",
    "df_pf['Difference%'] = np.absolute(df_pf['Residual']/df_pf['Target']*100)\n",
    "df_pf"
   ]
  },
  {
   "cell_type": "code",
   "execution_count": 81,
   "id": "e9b85187",
   "metadata": {
    "execution": {
     "iopub.execute_input": "2023-01-15T17:55:59.176960Z",
     "iopub.status.busy": "2023-01-15T17:55:59.176370Z",
     "iopub.status.idle": "2023-01-15T17:55:59.200663Z",
     "shell.execute_reply": "2023-01-15T17:55:59.199418Z"
    },
    "papermill": {
     "duration": 0.185733,
     "end_time": "2023-01-15T17:55:59.203352",
     "exception": false,
     "start_time": "2023-01-15T17:55:59.017619",
     "status": "completed"
    },
    "tags": []
   },
   "outputs": [
    {
     "data": {
      "text/html": [
       "<div>\n",
       "<style scoped>\n",
       "    .dataframe tbody tr th:only-of-type {\n",
       "        vertical-align: middle;\n",
       "    }\n",
       "\n",
       "    .dataframe tbody tr th {\n",
       "        vertical-align: top;\n",
       "    }\n",
       "\n",
       "    .dataframe thead th {\n",
       "        text-align: right;\n",
       "    }\n",
       "</style>\n",
       "<table border=\"1\" class=\"dataframe\">\n",
       "  <thead>\n",
       "    <tr style=\"text-align: right;\">\n",
       "      <th></th>\n",
       "      <th>Prediction</th>\n",
       "      <th>Target</th>\n",
       "      <th>Residual</th>\n",
       "      <th>Difference%</th>\n",
       "    </tr>\n",
       "  </thead>\n",
       "  <tbody>\n",
       "    <tr>\n",
       "      <th>count</th>\n",
       "      <td>4118.00</td>\n",
       "      <td>4118.00</td>\n",
       "      <td>4118.00</td>\n",
       "      <td>4118.00</td>\n",
       "    </tr>\n",
       "    <tr>\n",
       "      <th>mean</th>\n",
       "      <td>501811.67</td>\n",
       "      <td>520584.60</td>\n",
       "      <td>18772.93</td>\n",
       "      <td>19.21</td>\n",
       "    </tr>\n",
       "    <tr>\n",
       "      <th>std</th>\n",
       "      <td>400218.47</td>\n",
       "      <td>451160.18</td>\n",
       "      <td>163698.16</td>\n",
       "      <td>19.90</td>\n",
       "    </tr>\n",
       "    <tr>\n",
       "      <th>min</th>\n",
       "      <td>81058.52</td>\n",
       "      <td>55000.00</td>\n",
       "      <td>-839214.23</td>\n",
       "      <td>0.00</td>\n",
       "    </tr>\n",
       "    <tr>\n",
       "      <th>25%</th>\n",
       "      <td>200149.72</td>\n",
       "      <td>194000.00</td>\n",
       "      <td>-39685.57</td>\n",
       "      <td>6.66</td>\n",
       "    </tr>\n",
       "    <tr>\n",
       "      <th>50%</th>\n",
       "      <td>349624.77</td>\n",
       "      <td>359000.00</td>\n",
       "      <td>1812.34</td>\n",
       "      <td>14.39</td>\n",
       "    </tr>\n",
       "    <tr>\n",
       "      <th>75%</th>\n",
       "      <td>674798.58</td>\n",
       "      <td>685000.00</td>\n",
       "      <td>60190.78</td>\n",
       "      <td>25.84</td>\n",
       "    </tr>\n",
       "    <tr>\n",
       "      <th>max</th>\n",
       "      <td>1996549.16</td>\n",
       "      <td>2190000.00</td>\n",
       "      <td>1427091.25</td>\n",
       "      <td>319.19</td>\n",
       "    </tr>\n",
       "  </tbody>\n",
       "</table>\n",
       "</div>"
      ],
      "text/plain": [
       "       Prediction     Target   Residual  Difference%\n",
       "count     4118.00    4118.00    4118.00      4118.00\n",
       "mean    501811.67  520584.60   18772.93        19.21\n",
       "std     400218.47  451160.18  163698.16        19.90\n",
       "min      81058.52   55000.00 -839214.23         0.00\n",
       "25%     200149.72  194000.00  -39685.57         6.66\n",
       "50%     349624.77  359000.00    1812.34        14.39\n",
       "75%     674798.58  685000.00   60190.78        25.84\n",
       "max    1996549.16 2190000.00 1427091.25       319.19"
      ]
     },
     "execution_count": 81,
     "metadata": {},
     "output_type": "execute_result"
    }
   ],
   "source": [
    "df_pf.describe()"
   ]
  },
  {
   "cell_type": "code",
   "execution_count": 82,
   "id": "8b80b7ae",
   "metadata": {
    "execution": {
     "iopub.execute_input": "2023-01-15T17:55:59.531291Z",
     "iopub.status.busy": "2023-01-15T17:55:59.531004Z",
     "iopub.status.idle": "2023-01-15T17:55:59.544647Z",
     "shell.execute_reply": "2023-01-15T17:55:59.543783Z"
    },
    "papermill": {
     "duration": 0.17735,
     "end_time": "2023-01-15T17:55:59.546692",
     "exception": false,
     "start_time": "2023-01-15T17:55:59.369342",
     "status": "completed"
    },
    "tags": []
   },
   "outputs": [
    {
     "data": {
      "text/html": [
       "<div>\n",
       "<style scoped>\n",
       "    .dataframe tbody tr th:only-of-type {\n",
       "        vertical-align: middle;\n",
       "    }\n",
       "\n",
       "    .dataframe tbody tr th {\n",
       "        vertical-align: top;\n",
       "    }\n",
       "\n",
       "    .dataframe thead th {\n",
       "        text-align: right;\n",
       "    }\n",
       "</style>\n",
       "<table border=\"1\" class=\"dataframe\">\n",
       "  <thead>\n",
       "    <tr style=\"text-align: right;\">\n",
       "      <th></th>\n",
       "      <th>Prediction</th>\n",
       "      <th>Target</th>\n",
       "      <th>Residual</th>\n",
       "      <th>Difference%</th>\n",
       "    </tr>\n",
       "  </thead>\n",
       "  <tbody>\n",
       "    <tr>\n",
       "      <th>3879</th>\n",
       "      <td>414994.07</td>\n",
       "      <td>99000.00</td>\n",
       "      <td>-315994.07</td>\n",
       "      <td>319.19</td>\n",
       "    </tr>\n",
       "    <tr>\n",
       "      <th>3914</th>\n",
       "      <td>824660.09</td>\n",
       "      <td>225000.00</td>\n",
       "      <td>-599660.09</td>\n",
       "      <td>266.52</td>\n",
       "    </tr>\n",
       "    <tr>\n",
       "      <th>2299</th>\n",
       "      <td>435157.42</td>\n",
       "      <td>130000.00</td>\n",
       "      <td>-305157.42</td>\n",
       "      <td>234.74</td>\n",
       "    </tr>\n",
       "    <tr>\n",
       "      <th>2628</th>\n",
       "      <td>985176.36</td>\n",
       "      <td>300000.00</td>\n",
       "      <td>-685176.36</td>\n",
       "      <td>228.39</td>\n",
       "    </tr>\n",
       "    <tr>\n",
       "      <th>191</th>\n",
       "      <td>386879.18</td>\n",
       "      <td>123000.00</td>\n",
       "      <td>-263879.18</td>\n",
       "      <td>214.54</td>\n",
       "    </tr>\n",
       "    <tr>\n",
       "      <th>...</th>\n",
       "      <td>...</td>\n",
       "      <td>...</td>\n",
       "      <td>...</td>\n",
       "      <td>...</td>\n",
       "    </tr>\n",
       "    <tr>\n",
       "      <th>717</th>\n",
       "      <td>619903.79</td>\n",
       "      <td>620000.00</td>\n",
       "      <td>96.21</td>\n",
       "      <td>0.02</td>\n",
       "    </tr>\n",
       "    <tr>\n",
       "      <th>2606</th>\n",
       "      <td>160011.95</td>\n",
       "      <td>160000.00</td>\n",
       "      <td>-11.95</td>\n",
       "      <td>0.01</td>\n",
       "    </tr>\n",
       "    <tr>\n",
       "      <th>280</th>\n",
       "      <td>234983.99</td>\n",
       "      <td>235000.00</td>\n",
       "      <td>16.01</td>\n",
       "      <td>0.01</td>\n",
       "    </tr>\n",
       "    <tr>\n",
       "      <th>393</th>\n",
       "      <td>1179964.16</td>\n",
       "      <td>1180000.00</td>\n",
       "      <td>35.84</td>\n",
       "      <td>0.00</td>\n",
       "    </tr>\n",
       "    <tr>\n",
       "      <th>3822</th>\n",
       "      <td>123997.25</td>\n",
       "      <td>124000.00</td>\n",
       "      <td>2.75</td>\n",
       "      <td>0.00</td>\n",
       "    </tr>\n",
       "  </tbody>\n",
       "</table>\n",
       "<p>4118 rows × 4 columns</p>\n",
       "</div>"
      ],
      "text/plain": [
       "      Prediction     Target   Residual  Difference%\n",
       "3879   414994.07   99000.00 -315994.07       319.19\n",
       "3914   824660.09  225000.00 -599660.09       266.52\n",
       "2299   435157.42  130000.00 -305157.42       234.74\n",
       "2628   985176.36  300000.00 -685176.36       228.39\n",
       "191    386879.18  123000.00 -263879.18       214.54\n",
       "...          ...        ...        ...          ...\n",
       "717    619903.79  620000.00      96.21         0.02\n",
       "2606   160011.95  160000.00     -11.95         0.01\n",
       "280    234983.99  235000.00      16.01         0.01\n",
       "393   1179964.16 1180000.00      35.84         0.00\n",
       "3822   123997.25  124000.00       2.75         0.00\n",
       "\n",
       "[4118 rows x 4 columns]"
      ]
     },
     "execution_count": 82,
     "metadata": {},
     "output_type": "execute_result"
    }
   ],
   "source": [
    "pd.set_option('display.float_format', lambda x: '%.2f' % x)\n",
    "df_pf.sort_values(by=['Difference%'], ascending = False)"
   ]
  },
  {
   "cell_type": "code",
   "execution_count": 83,
   "id": "31cb7909",
   "metadata": {
    "execution": {
     "iopub.execute_input": "2023-01-15T17:55:59.872259Z",
     "iopub.status.busy": "2023-01-15T17:55:59.871918Z",
     "iopub.status.idle": "2023-01-15T17:55:59.882702Z",
     "shell.execute_reply": "2023-01-15T17:55:59.881285Z"
    },
    "papermill": {
     "duration": 0.177044,
     "end_time": "2023-01-15T17:55:59.885046",
     "exception": false,
     "start_time": "2023-01-15T17:55:59.708002",
     "status": "completed"
    },
    "tags": []
   },
   "outputs": [
    {
     "name": "stdout",
     "output_type": "stream",
     "text": [
      "Mean Absolute Error: 0.18554628404109294\n",
      "Mean Squared Error: 0.05993169412091412\n",
      "Root Mean Squared Error: 0.2448095057813608\n",
      "R-squared score 0.896\n"
     ]
    }
   ],
   "source": [
    "print('Mean Absolute Error:', metrics.mean_absolute_error(y_hat_test_lb_def, y_test))\n",
    "print('Mean Squared Error:', metrics.mean_squared_error(y_hat_test_lb_def, y_test))\n",
    "print('Root Mean Squared Error:', np.sqrt(metrics.mean_squared_error(y_hat_test_lb_def, y_test)))\n",
    "\n",
    "r2_lb_def = r2_score (y_hat_test_lb_def, y_test)\n",
    "\n",
    "print ('R-squared score', round (r2_lb_def,3))"
   ]
  },
  {
   "cell_type": "markdown",
   "id": "4b460765",
   "metadata": {
    "id": "qkGut2_3jPct",
    "papermill": {
     "duration": 0.160805,
     "end_time": "2023-01-15T17:56:00.203879",
     "exception": false,
     "start_time": "2023-01-15T17:56:00.043074",
     "status": "completed"
    },
    "tags": []
   },
   "source": [
    "# Technique 5: Hyperparameter-tuned LGBM Regressor"
   ]
  },
  {
   "cell_type": "code",
   "execution_count": 84,
   "id": "e3cb1f52",
   "metadata": {
    "execution": {
     "iopub.execute_input": "2023-01-15T17:56:00.530142Z",
     "iopub.status.busy": "2023-01-15T17:56:00.529289Z",
     "iopub.status.idle": "2023-01-15T17:56:00.534875Z",
     "shell.execute_reply": "2023-01-15T17:56:00.533538Z"
    },
    "id": "OYKOu696jKvZ",
    "papermill": {
     "duration": 0.171921,
     "end_time": "2023-01-15T17:56:00.537843",
     "exception": false,
     "start_time": "2023-01-15T17:56:00.365922",
     "status": "completed"
    },
    "tags": []
   },
   "outputs": [],
   "source": [
    "start = time.time()\n",
    "lb=LGBMRegressor()  "
   ]
  },
  {
   "cell_type": "code",
   "execution_count": 85,
   "id": "39d91cf8",
   "metadata": {
    "execution": {
     "iopub.execute_input": "2023-01-15T17:56:00.879610Z",
     "iopub.status.busy": "2023-01-15T17:56:00.879146Z",
     "iopub.status.idle": "2023-01-15T17:56:00.885874Z",
     "shell.execute_reply": "2023-01-15T17:56:00.884890Z"
    },
    "papermill": {
     "duration": 0.171215,
     "end_time": "2023-01-15T17:56:00.888214",
     "exception": false,
     "start_time": "2023-01-15T17:56:00.716999",
     "status": "completed"
    },
    "tags": []
   },
   "outputs": [],
   "source": [
    "# hyperparameter tuning will only be performed on LGBM because it is a very quick algorithm\n",
    "# and the iterations will not significantly slow down running the entire script\n",
    "from sklearn.model_selection import RandomizedSearchCV\n",
    "\n",
    "# these parameters would change depending on dataset size\n",
    "params = {\n",
    "    \"learning_rate\": (0.01, 0.03, 0.1, 0.3, 0.5), # default 0.1 \n",
    "    \"max_depth\": (1, 2, 3, 4, 5, 6), # default 3\n",
    "    \"n_estimators\": (50, 100, 150, 200), # default 100\n",
    "    \"subsample\": (0.1, 0.3, 0.5, 1)\n",
    "}\n",
    "\n",
    "lb = RandomizedSearchCV(estimator = lb, param_distributions = params,\n",
    "                        scoring='neg_mean_squared_error', n_iter = 50, cv = 5, \n",
    "                        verbose=False, random_state=42, n_jobs = -1)"
   ]
  },
  {
   "cell_type": "code",
   "execution_count": 86,
   "id": "433bbb6e",
   "metadata": {
    "execution": {
     "iopub.execute_input": "2023-01-15T17:56:01.209328Z",
     "iopub.status.busy": "2023-01-15T17:56:01.209006Z",
     "iopub.status.idle": "2023-01-15T17:56:39.385487Z",
     "shell.execute_reply": "2023-01-15T17:56:39.384680Z"
    },
    "id": "2MZbGyb7i5N4",
    "outputId": "5319a548-e5d6-48d2-d51c-955faab768d1",
    "papermill": {
     "duration": 38.500207,
     "end_time": "2023-01-15T17:56:39.547987",
     "exception": false,
     "start_time": "2023-01-15T17:56:01.047780",
     "status": "completed"
    },
    "scrolled": true,
    "tags": []
   },
   "outputs": [
    {
     "name": "stdout",
     "output_type": "stream",
     "text": [
      "Execution time for LGBM: 38.85 seconds\n"
     ]
    }
   ],
   "source": [
    "lb.fit(x_train,y_train)\n",
    "end = time.time()\n",
    "diff_lb = end - start\n",
    "print ('Execution time for LGBM:', round(diff_lb,2), 'seconds')"
   ]
  },
  {
   "cell_type": "code",
   "execution_count": 87,
   "id": "1e6b8022",
   "metadata": {
    "execution": {
     "iopub.execute_input": "2023-01-15T17:56:39.865191Z",
     "iopub.status.busy": "2023-01-15T17:56:39.864620Z",
     "iopub.status.idle": "2023-01-15T17:56:39.870914Z",
     "shell.execute_reply": "2023-01-15T17:56:39.870193Z"
    },
    "papermill": {
     "duration": 0.166831,
     "end_time": "2023-01-15T17:56:39.872781",
     "exception": false,
     "start_time": "2023-01-15T17:56:39.705950",
     "status": "completed"
    },
    "tags": []
   },
   "outputs": [
    {
     "data": {
      "text/plain": [
       "{'subsample': 0.1, 'n_estimators': 200, 'max_depth': 6, 'learning_rate': 0.3}"
      ]
     },
     "execution_count": 87,
     "metadata": {},
     "output_type": "execute_result"
    }
   ],
   "source": [
    "lb.best_params_"
   ]
  },
  {
   "cell_type": "code",
   "execution_count": 88,
   "id": "82b69047",
   "metadata": {
    "execution": {
     "iopub.execute_input": "2023-01-15T17:56:40.193757Z",
     "iopub.status.busy": "2023-01-15T17:56:40.193402Z",
     "iopub.status.idle": "2023-01-15T17:56:40.258782Z",
     "shell.execute_reply": "2023-01-15T17:56:40.258028Z"
    },
    "papermill": {
     "duration": 0.228125,
     "end_time": "2023-01-15T17:56:40.261297",
     "exception": false,
     "start_time": "2023-01-15T17:56:40.033172",
     "status": "completed"
    },
    "tags": []
   },
   "outputs": [],
   "source": [
    "y_hat_lb = lb.predict(x_train)"
   ]
  },
  {
   "cell_type": "code",
   "execution_count": 89,
   "id": "9b3a8c1b",
   "metadata": {
    "execution": {
     "iopub.execute_input": "2023-01-15T17:56:40.591717Z",
     "iopub.status.busy": "2023-01-15T17:56:40.591389Z",
     "iopub.status.idle": "2023-01-15T17:56:40.888388Z",
     "shell.execute_reply": "2023-01-15T17:56:40.887411Z"
    },
    "papermill": {
     "duration": 0.464888,
     "end_time": "2023-01-15T17:56:40.890900",
     "exception": false,
     "start_time": "2023-01-15T17:56:40.426012",
     "status": "completed"
    },
    "tags": []
   },
   "outputs": [
    {
     "data": {
      "image/png": "[encoded data removed]",
      "text/plain": [
       "<Figure size 432x288 with 1 Axes>"
      ]
     },
     "metadata": {},
     "output_type": "display_data"
    }
   ],
   "source": [
    "plt.scatter(y_train, y_hat_lb)\n",
    "\n",
    "plt.xlabel('Targets (y_train)',size=18)\n",
    "plt.ylabel('Predictions (y_hat_lb)',size=18)\n",
    "\n",
    "\n",
    "plt.xlim(10,17)\n",
    "plt.ylim(10,17)\n",
    "plt.show()"
   ]
  },
  {
   "cell_type": "code",
   "execution_count": 90,
   "id": "f80003ef",
   "metadata": {
    "execution": {
     "iopub.execute_input": "2023-01-15T17:56:41.218582Z",
     "iopub.status.busy": "2023-01-15T17:56:41.218291Z",
     "iopub.status.idle": "2023-01-15T17:56:42.125684Z",
     "shell.execute_reply": "2023-01-15T17:56:42.124965Z"
    },
    "papermill": {
     "duration": 1.074517,
     "end_time": "2023-01-15T17:56:42.127728",
     "exception": false,
     "start_time": "2023-01-15T17:56:41.053211",
     "status": "completed"
    },
    "tags": []
   },
   "outputs": [
    {
     "data": {
      "text/plain": [
       "Text(0.5, 1.0, 'Residuals PDF')"
      ]
     },
     "execution_count": 90,
     "metadata": {},
     "output_type": "execute_result"
    },
    {
     "data": {
      "image/png": "[encoded data removed]",
      "text/plain": [
       "<Figure size 432x288 with 1 Axes>"
      ]
     },
     "metadata": {},
     "output_type": "display_data"
    }
   ],
   "source": [
    "sns.histplot(y_train - y_hat_lb, kde=True, stat=\"density\", linewidth=0)\n",
    "\n",
    "plt.title(\"Residuals PDF\", size=18)"
   ]
  },
  {
   "cell_type": "code",
   "execution_count": 91,
   "id": "768cfa00",
   "metadata": {
    "execution": {
     "iopub.execute_input": "2023-01-15T17:56:42.459188Z",
     "iopub.status.busy": "2023-01-15T17:56:42.458300Z",
     "iopub.status.idle": "2023-01-15T17:56:42.464777Z",
     "shell.execute_reply": "2023-01-15T17:56:42.463435Z"
    },
    "papermill": {
     "duration": 0.17218,
     "end_time": "2023-01-15T17:56:42.467181",
     "exception": false,
     "start_time": "2023-01-15T17:56:42.295001",
     "status": "completed"
    },
    "scrolled": true,
    "tags": []
   },
   "outputs": [
    {
     "name": "stdout",
     "output_type": "stream",
     "text": [
      "R-squared score 0.93\n"
     ]
    }
   ],
   "source": [
    "r2 = r2_score (y_train, y_hat_lb)\n",
    "\n",
    "print ('R-squared score', round (r2,2))"
   ]
  },
  {
   "cell_type": "markdown",
   "id": "10ca5c8a",
   "metadata": {
    "papermill": {
     "duration": 0.160849,
     "end_time": "2023-01-15T17:56:42.792661",
     "exception": false,
     "start_time": "2023-01-15T17:56:42.631812",
     "status": "completed"
    },
    "tags": []
   },
   "source": [
    "let's try the model on the test values now"
   ]
  },
  {
   "cell_type": "code",
   "execution_count": 92,
   "id": "3061d16a",
   "metadata": {
    "execution": {
     "iopub.execute_input": "2023-01-15T17:56:43.120936Z",
     "iopub.status.busy": "2023-01-15T17:56:43.120602Z",
     "iopub.status.idle": "2023-01-15T17:56:43.140918Z",
     "shell.execute_reply": "2023-01-15T17:56:43.140171Z"
    },
    "id": "kvMiK_RRiRnd",
    "papermill": {
     "duration": 0.187922,
     "end_time": "2023-01-15T17:56:43.144043",
     "exception": false,
     "start_time": "2023-01-15T17:56:42.956121",
     "status": "completed"
    },
    "tags": []
   },
   "outputs": [],
   "source": [
    "y_hat_test_lb=lb.predict(x_test)"
   ]
  },
  {
   "cell_type": "code",
   "execution_count": 93,
   "id": "57000224",
   "metadata": {
    "execution": {
     "iopub.execute_input": "2023-01-15T17:56:43.480404Z",
     "iopub.status.busy": "2023-01-15T17:56:43.479561Z",
     "iopub.status.idle": "2023-01-15T17:56:43.897680Z",
     "shell.execute_reply": "2023-01-15T17:56:43.896567Z"
    },
    "id": "i_1_uD1bioBg",
    "outputId": "d3281f10-fb7c-4094-8d07-4b9530d39299",
    "papermill": {
     "duration": 0.584585,
     "end_time": "2023-01-15T17:56:43.900333",
     "exception": false,
     "start_time": "2023-01-15T17:56:43.315748",
     "status": "completed"
    },
    "tags": []
   },
   "outputs": [
    {
     "data": {
      "text/plain": [
       "<AxesSubplot:xlabel='log_price', ylabel='Density'>"
      ]
     },
     "execution_count": 93,
     "metadata": {},
     "output_type": "execute_result"
    },
    {
     "data": {
      "image/png": "[encoded data removed]",
      "text/plain": [
       "<Figure size 432x288 with 1 Axes>"
      ]
     },
     "metadata": {},
     "output_type": "display_data"
    }
   ],
   "source": [
    "sns.histplot(y_test-y_hat_test_lb, kde=True, stat=\"density\", linewidth=0)"
   ]
  },
  {
   "cell_type": "code",
   "execution_count": 94,
   "id": "b4d872be",
   "metadata": {
    "execution": {
     "iopub.execute_input": "2023-01-15T17:56:44.242389Z",
     "iopub.status.busy": "2023-01-15T17:56:44.242058Z",
     "iopub.status.idle": "2023-01-15T17:56:44.532301Z",
     "shell.execute_reply": "2023-01-15T17:56:44.530700Z"
    },
    "id": "pGOacEstisnQ",
    "outputId": "c875380e-4ccd-44c8-b03f-37d303634ada",
    "papermill": {
     "duration": 0.467655,
     "end_time": "2023-01-15T17:56:44.535134",
     "exception": false,
     "start_time": "2023-01-15T17:56:44.067479",
     "status": "completed"
    },
    "tags": []
   },
   "outputs": [
    {
     "data": {
      "image/png": "[encoded data removed]",
      "text/plain": [
       "<Figure size 432x288 with 1 Axes>"
      ]
     },
     "metadata": {},
     "output_type": "display_data"
    }
   ],
   "source": [
    "plt.scatter(y_test,y_hat_test_lb, alpha = 0.2)\n",
    "plt.xlabel('Targets (y_test)',size=18)\n",
    "plt.ylabel('Predictions (y_hat_test_lb)',size=18)\n",
    "plt.xlim(10,17)\n",
    "plt.ylim(10,17)\n",
    "plt.show()"
   ]
  },
  {
   "cell_type": "code",
   "execution_count": 95,
   "id": "ee696184",
   "metadata": {
    "execution": {
     "iopub.execute_input": "2023-01-15T17:56:44.896810Z",
     "iopub.status.busy": "2023-01-15T17:56:44.896153Z",
     "iopub.status.idle": "2023-01-15T17:56:44.915088Z",
     "shell.execute_reply": "2023-01-15T17:56:44.914026Z"
    },
    "papermill": {
     "duration": 0.189704,
     "end_time": "2023-01-15T17:56:44.917304",
     "exception": false,
     "start_time": "2023-01-15T17:56:44.727600",
     "status": "completed"
    },
    "tags": []
   },
   "outputs": [
    {
     "data": {
      "text/html": [
       "<div>\n",
       "<style scoped>\n",
       "    .dataframe tbody tr th:only-of-type {\n",
       "        vertical-align: middle;\n",
       "    }\n",
       "\n",
       "    .dataframe tbody tr th {\n",
       "        vertical-align: top;\n",
       "    }\n",
       "\n",
       "    .dataframe thead th {\n",
       "        text-align: right;\n",
       "    }\n",
       "</style>\n",
       "<table border=\"1\" class=\"dataframe\">\n",
       "  <thead>\n",
       "    <tr style=\"text-align: right;\">\n",
       "      <th></th>\n",
       "      <th>Prediction</th>\n",
       "      <th>Target</th>\n",
       "      <th>Residual</th>\n",
       "      <th>Difference%</th>\n",
       "    </tr>\n",
       "  </thead>\n",
       "  <tbody>\n",
       "    <tr>\n",
       "      <th>0</th>\n",
       "      <td>629147.49</td>\n",
       "      <td>850000.00</td>\n",
       "      <td>220852.51</td>\n",
       "      <td>25.98</td>\n",
       "    </tr>\n",
       "    <tr>\n",
       "      <th>1</th>\n",
       "      <td>185783.74</td>\n",
       "      <td>99000.00</td>\n",
       "      <td>-86783.74</td>\n",
       "      <td>87.66</td>\n",
       "    </tr>\n",
       "    <tr>\n",
       "      <th>2</th>\n",
       "      <td>199086.65</td>\n",
       "      <td>199000.00</td>\n",
       "      <td>-86.65</td>\n",
       "      <td>0.04</td>\n",
       "    </tr>\n",
       "    <tr>\n",
       "      <th>3</th>\n",
       "      <td>130691.70</td>\n",
       "      <td>130000.00</td>\n",
       "      <td>-691.70</td>\n",
       "      <td>0.53</td>\n",
       "    </tr>\n",
       "    <tr>\n",
       "      <th>4</th>\n",
       "      <td>352999.46</td>\n",
       "      <td>395000.00</td>\n",
       "      <td>42000.54</td>\n",
       "      <td>10.63</td>\n",
       "    </tr>\n",
       "    <tr>\n",
       "      <th>...</th>\n",
       "      <td>...</td>\n",
       "      <td>...</td>\n",
       "      <td>...</td>\n",
       "      <td>...</td>\n",
       "    </tr>\n",
       "    <tr>\n",
       "      <th>4113</th>\n",
       "      <td>506797.33</td>\n",
       "      <td>414000.00</td>\n",
       "      <td>-92797.33</td>\n",
       "      <td>22.41</td>\n",
       "    </tr>\n",
       "    <tr>\n",
       "      <th>4114</th>\n",
       "      <td>212088.05</td>\n",
       "      <td>149000.00</td>\n",
       "      <td>-63088.05</td>\n",
       "      <td>42.34</td>\n",
       "    </tr>\n",
       "    <tr>\n",
       "      <th>4115</th>\n",
       "      <td>1005535.72</td>\n",
       "      <td>725000.00</td>\n",
       "      <td>-280535.72</td>\n",
       "      <td>38.69</td>\n",
       "    </tr>\n",
       "    <tr>\n",
       "      <th>4116</th>\n",
       "      <td>164949.94</td>\n",
       "      <td>159000.00</td>\n",
       "      <td>-5949.94</td>\n",
       "      <td>3.74</td>\n",
       "    </tr>\n",
       "    <tr>\n",
       "      <th>4117</th>\n",
       "      <td>1613606.91</td>\n",
       "      <td>1700000.00</td>\n",
       "      <td>86393.09</td>\n",
       "      <td>5.08</td>\n",
       "    </tr>\n",
       "  </tbody>\n",
       "</table>\n",
       "<p>4118 rows × 4 columns</p>\n",
       "</div>"
      ],
      "text/plain": [
       "      Prediction     Target   Residual  Difference%\n",
       "0      629147.49  850000.00  220852.51        25.98\n",
       "1      185783.74   99000.00  -86783.74        87.66\n",
       "2      199086.65  199000.00     -86.65         0.04\n",
       "3      130691.70  130000.00    -691.70         0.53\n",
       "4      352999.46  395000.00   42000.54        10.63\n",
       "...          ...        ...        ...          ...\n",
       "4113   506797.33  414000.00  -92797.33        22.41\n",
       "4114   212088.05  149000.00  -63088.05        42.34\n",
       "4115  1005535.72  725000.00 -280535.72        38.69\n",
       "4116   164949.94  159000.00   -5949.94         3.74\n",
       "4117  1613606.91 1700000.00   86393.09         5.08\n",
       "\n",
       "[4118 rows x 4 columns]"
      ]
     },
     "execution_count": 95,
     "metadata": {},
     "output_type": "execute_result"
    }
   ],
   "source": [
    "df_pf = pd.DataFrame(np.exp(y_hat_test_lb), columns=['Prediction'])\n",
    "\n",
    "y_test = y_test.reset_index(drop=True)\n",
    "\n",
    "df_pf['Target'] = np.exp(y_test)\n",
    "\n",
    "df_pf['Residual'] = df_pf['Target'] - df_pf['Prediction']\n",
    "\n",
    "df_pf['Difference%'] = np.absolute(df_pf['Residual']/df_pf['Target']*100)\n",
    "df_pf"
   ]
  },
  {
   "cell_type": "code",
   "execution_count": 96,
   "id": "abb6447c",
   "metadata": {
    "execution": {
     "iopub.execute_input": "2023-01-15T17:56:45.263169Z",
     "iopub.status.busy": "2023-01-15T17:56:45.262873Z",
     "iopub.status.idle": "2023-01-15T17:56:45.286146Z",
     "shell.execute_reply": "2023-01-15T17:56:45.285449Z"
    },
    "papermill": {
     "duration": 0.200635,
     "end_time": "2023-01-15T17:56:45.288052",
     "exception": false,
     "start_time": "2023-01-15T17:56:45.087417",
     "status": "completed"
    },
    "tags": []
   },
   "outputs": [
    {
     "data": {
      "text/html": [
       "<div>\n",
       "<style scoped>\n",
       "    .dataframe tbody tr th:only-of-type {\n",
       "        vertical-align: middle;\n",
       "    }\n",
       "\n",
       "    .dataframe tbody tr th {\n",
       "        vertical-align: top;\n",
       "    }\n",
       "\n",
       "    .dataframe thead th {\n",
       "        text-align: right;\n",
       "    }\n",
       "</style>\n",
       "<table border=\"1\" class=\"dataframe\">\n",
       "  <thead>\n",
       "    <tr style=\"text-align: right;\">\n",
       "      <th></th>\n",
       "      <th>Prediction</th>\n",
       "      <th>Target</th>\n",
       "      <th>Residual</th>\n",
       "      <th>Difference%</th>\n",
       "    </tr>\n",
       "  </thead>\n",
       "  <tbody>\n",
       "    <tr>\n",
       "      <th>count</th>\n",
       "      <td>4118.00</td>\n",
       "      <td>4118.00</td>\n",
       "      <td>4118.00</td>\n",
       "      <td>4118.00</td>\n",
       "    </tr>\n",
       "    <tr>\n",
       "      <th>mean</th>\n",
       "      <td>505896.13</td>\n",
       "      <td>520584.60</td>\n",
       "      <td>14688.47</td>\n",
       "      <td>18.13</td>\n",
       "    </tr>\n",
       "    <tr>\n",
       "      <th>std</th>\n",
       "      <td>411114.88</td>\n",
       "      <td>451160.18</td>\n",
       "      <td>155334.96</td>\n",
       "      <td>18.30</td>\n",
       "    </tr>\n",
       "    <tr>\n",
       "      <th>min</th>\n",
       "      <td>69287.02</td>\n",
       "      <td>55000.00</td>\n",
       "      <td>-1071619.13</td>\n",
       "      <td>0.00</td>\n",
       "    </tr>\n",
       "    <tr>\n",
       "      <th>25%</th>\n",
       "      <td>198262.47</td>\n",
       "      <td>194000.00</td>\n",
       "      <td>-38792.08</td>\n",
       "      <td>6.30</td>\n",
       "    </tr>\n",
       "    <tr>\n",
       "      <th>50%</th>\n",
       "      <td>348168.33</td>\n",
       "      <td>359000.00</td>\n",
       "      <td>1437.42</td>\n",
       "      <td>13.70</td>\n",
       "    </tr>\n",
       "    <tr>\n",
       "      <th>75%</th>\n",
       "      <td>682821.50</td>\n",
       "      <td>685000.00</td>\n",
       "      <td>54361.85</td>\n",
       "      <td>24.11</td>\n",
       "    </tr>\n",
       "    <tr>\n",
       "      <th>max</th>\n",
       "      <td>2371619.13</td>\n",
       "      <td>2190000.00</td>\n",
       "      <td>1311787.17</td>\n",
       "      <td>289.80</td>\n",
       "    </tr>\n",
       "  </tbody>\n",
       "</table>\n",
       "</div>"
      ],
      "text/plain": [
       "       Prediction     Target    Residual  Difference%\n",
       "count     4118.00    4118.00     4118.00      4118.00\n",
       "mean    505896.13  520584.60    14688.47        18.13\n",
       "std     411114.88  451160.18   155334.96        18.30\n",
       "min      69287.02   55000.00 -1071619.13         0.00\n",
       "25%     198262.47  194000.00   -38792.08         6.30\n",
       "50%     348168.33  359000.00     1437.42        13.70\n",
       "75%     682821.50  685000.00    54361.85        24.11\n",
       "max    2371619.13 2190000.00  1311787.17       289.80"
      ]
     },
     "execution_count": 96,
     "metadata": {},
     "output_type": "execute_result"
    }
   ],
   "source": [
    "df_pf.describe()"
   ]
  },
  {
   "cell_type": "code",
   "execution_count": 97,
   "id": "f5fe73ac",
   "metadata": {
    "execution": {
     "iopub.execute_input": "2023-01-15T17:56:45.636888Z",
     "iopub.status.busy": "2023-01-15T17:56:45.636277Z",
     "iopub.status.idle": "2023-01-15T17:56:45.649362Z",
     "shell.execute_reply": "2023-01-15T17:56:45.648757Z"
    },
    "papermill": {
     "duration": 0.189363,
     "end_time": "2023-01-15T17:56:45.651212",
     "exception": false,
     "start_time": "2023-01-15T17:56:45.461849",
     "status": "completed"
    },
    "tags": []
   },
   "outputs": [
    {
     "data": {
      "text/html": [
       "<div>\n",
       "<style scoped>\n",
       "    .dataframe tbody tr th:only-of-type {\n",
       "        vertical-align: middle;\n",
       "    }\n",
       "\n",
       "    .dataframe tbody tr th {\n",
       "        vertical-align: top;\n",
       "    }\n",
       "\n",
       "    .dataframe thead th {\n",
       "        text-align: right;\n",
       "    }\n",
       "</style>\n",
       "<table border=\"1\" class=\"dataframe\">\n",
       "  <thead>\n",
       "    <tr style=\"text-align: right;\">\n",
       "      <th></th>\n",
       "      <th>Prediction</th>\n",
       "      <th>Target</th>\n",
       "      <th>Residual</th>\n",
       "      <th>Difference%</th>\n",
       "    </tr>\n",
       "  </thead>\n",
       "  <tbody>\n",
       "    <tr>\n",
       "      <th>3879</th>\n",
       "      <td>385899.33</td>\n",
       "      <td>99000.00</td>\n",
       "      <td>-286899.33</td>\n",
       "      <td>289.80</td>\n",
       "    </tr>\n",
       "    <tr>\n",
       "      <th>2628</th>\n",
       "      <td>898916.11</td>\n",
       "      <td>300000.00</td>\n",
       "      <td>-598916.11</td>\n",
       "      <td>199.64</td>\n",
       "    </tr>\n",
       "    <tr>\n",
       "      <th>3914</th>\n",
       "      <td>636580.51</td>\n",
       "      <td>225000.00</td>\n",
       "      <td>-411580.51</td>\n",
       "      <td>182.92</td>\n",
       "    </tr>\n",
       "    <tr>\n",
       "      <th>2984</th>\n",
       "      <td>434793.91</td>\n",
       "      <td>160000.00</td>\n",
       "      <td>-274793.91</td>\n",
       "      <td>171.75</td>\n",
       "    </tr>\n",
       "    <tr>\n",
       "      <th>3279</th>\n",
       "      <td>151398.41</td>\n",
       "      <td>61000.00</td>\n",
       "      <td>-90398.41</td>\n",
       "      <td>148.19</td>\n",
       "    </tr>\n",
       "    <tr>\n",
       "      <th>...</th>\n",
       "      <td>...</td>\n",
       "      <td>...</td>\n",
       "      <td>...</td>\n",
       "      <td>...</td>\n",
       "    </tr>\n",
       "    <tr>\n",
       "      <th>2</th>\n",
       "      <td>199086.65</td>\n",
       "      <td>199000.00</td>\n",
       "      <td>-86.65</td>\n",
       "      <td>0.04</td>\n",
       "    </tr>\n",
       "    <tr>\n",
       "      <th>3418</th>\n",
       "      <td>130040.68</td>\n",
       "      <td>130000.00</td>\n",
       "      <td>-40.68</td>\n",
       "      <td>0.03</td>\n",
       "    </tr>\n",
       "    <tr>\n",
       "      <th>3054</th>\n",
       "      <td>179942.72</td>\n",
       "      <td>179999.00</td>\n",
       "      <td>56.28</td>\n",
       "      <td>0.03</td>\n",
       "    </tr>\n",
       "    <tr>\n",
       "      <th>3364</th>\n",
       "      <td>445133.86</td>\n",
       "      <td>445000.00</td>\n",
       "      <td>-133.86</td>\n",
       "      <td>0.03</td>\n",
       "    </tr>\n",
       "    <tr>\n",
       "      <th>1244</th>\n",
       "      <td>145993.32</td>\n",
       "      <td>146000.00</td>\n",
       "      <td>6.68</td>\n",
       "      <td>0.00</td>\n",
       "    </tr>\n",
       "  </tbody>\n",
       "</table>\n",
       "<p>4118 rows × 4 columns</p>\n",
       "</div>"
      ],
      "text/plain": [
       "      Prediction    Target   Residual  Difference%\n",
       "3879   385899.33  99000.00 -286899.33       289.80\n",
       "2628   898916.11 300000.00 -598916.11       199.64\n",
       "3914   636580.51 225000.00 -411580.51       182.92\n",
       "2984   434793.91 160000.00 -274793.91       171.75\n",
       "3279   151398.41  61000.00  -90398.41       148.19\n",
       "...          ...       ...        ...          ...\n",
       "2      199086.65 199000.00     -86.65         0.04\n",
       "3418   130040.68 130000.00     -40.68         0.03\n",
       "3054   179942.72 179999.00      56.28         0.03\n",
       "3364   445133.86 445000.00    -133.86         0.03\n",
       "1244   145993.32 146000.00       6.68         0.00\n",
       "\n",
       "[4118 rows x 4 columns]"
      ]
     },
     "execution_count": 97,
     "metadata": {},
     "output_type": "execute_result"
    }
   ],
   "source": [
    "pd.set_option('display.float_format', lambda x: '%.2f' % x)\n",
    "df_pf.sort_values(by=['Difference%'], ascending = False)"
   ]
  },
  {
   "cell_type": "code",
   "execution_count": 98,
   "id": "8493fa40",
   "metadata": {
    "execution": {
     "iopub.execute_input": "2023-01-15T17:56:45.986870Z",
     "iopub.status.busy": "2023-01-15T17:56:45.986330Z",
     "iopub.status.idle": "2023-01-15T17:56:45.995549Z",
     "shell.execute_reply": "2023-01-15T17:56:45.994879Z"
    },
    "id": "0SBstjpCTPar",
    "outputId": "426702d7-fc96-43cf-c82b-6fba260143d4",
    "papermill": {
     "duration": 0.179523,
     "end_time": "2023-01-15T17:56:45.997676",
     "exception": false,
     "start_time": "2023-01-15T17:56:45.818153",
     "status": "completed"
    },
    "scrolled": true,
    "tags": []
   },
   "outputs": [
    {
     "name": "stdout",
     "output_type": "stream",
     "text": [
      "Mean Absolute Error: 0.17581263131575178\n",
      "Mean Squared Error: 0.054198405230949015\n",
      "Root Mean Squared Error: 0.23280550945144965\n",
      "R-squared score 0.91\n"
     ]
    }
   ],
   "source": [
    "print('Mean Absolute Error:', metrics.mean_absolute_error(y_hat_test_lb, y_test))\n",
    "print('Mean Squared Error:', metrics.mean_squared_error(y_hat_test_lb, y_test))\n",
    "print('Root Mean Squared Error:', np.sqrt(metrics.mean_squared_error(y_hat_test_lb, y_test)))\n",
    "\n",
    "r2_lb = r2_score (y_hat_test_lb, y_test)\n",
    "\n",
    "print ('R-squared score', round (r2_lb,2))"
   ]
  },
  {
   "cell_type": "markdown",
   "id": "52607990",
   "metadata": {
    "papermill": {
     "duration": 0.172483,
     "end_time": "2023-01-15T17:56:46.342103",
     "exception": false,
     "start_time": "2023-01-15T17:56:46.169620",
     "status": "completed"
    },
    "tags": []
   },
   "source": [
    "# Model comparison"
   ]
  },
  {
   "cell_type": "markdown",
   "id": "a005904c",
   "metadata": {
    "papermill": {
     "duration": 0.165859,
     "end_time": "2023-01-15T17:56:46.677541",
     "exception": false,
     "start_time": "2023-01-15T17:56:46.511682",
     "status": "completed"
    },
    "tags": []
   },
   "source": [
    "The linear OLS regression will not be considered further as it was obvious that both its graphs and metrics were much worse than the other techniques. The most likely reason is that the nature of the dataset is that there are many outliers and OLS has a very hard time dealing with outliers, leading to a high accumulated error and low R-squared value. "
   ]
  },
  {
   "cell_type": "markdown",
   "id": "46f823d5",
   "metadata": {
    "papermill": {
     "duration": 0.165629,
     "end_time": "2023-01-15T17:56:47.008672",
     "exception": false,
     "start_time": "2023-01-15T17:56:46.843043",
     "status": "completed"
    },
    "tags": []
   },
   "source": [
    "Furthermore, graphs will not be shown either as they are too similar and will not provide value to the comparison."
   ]
  },
  {
   "cell_type": "code",
   "execution_count": 99,
   "id": "def7c419",
   "metadata": {
    "execution": {
     "iopub.execute_input": "2023-01-15T17:56:47.349428Z",
     "iopub.status.busy": "2023-01-15T17:56:47.348977Z",
     "iopub.status.idle": "2023-01-15T17:56:47.371707Z",
     "shell.execute_reply": "2023-01-15T17:56:47.370401Z"
    },
    "papermill": {
     "duration": 0.195476,
     "end_time": "2023-01-15T17:56:47.373917",
     "exception": false,
     "start_time": "2023-01-15T17:56:47.178441",
     "status": "completed"
    },
    "tags": []
   },
   "outputs": [
    {
     "name": "stdout",
     "output_type": "stream",
     "text": [
      "Parameter                 Lin.reg OLS          RandomForest    Catboost    LGBM       Tuned LGBM\n",
      "------------------------  -------------------  --------------  ----------  ---------  ------------\n",
      "Mean Absolute Error       0.2435289857989304   0.183333        0.177619    0.185546   0.175813\n",
      "Mean Squared Error        0.1012714006526415   0.0670648       0.0543209   0.0599317  0.0541984\n",
      "Root Mean Squared Error   0.31823167763854293  0.258969        0.233068    0.24481    0.232806\n",
      "R-squared score           0.814                0.89            0.906       0.896      0.908\n",
      "Execution time (seconds)  -                    22.26           4.08        0.43       38.85\n"
     ]
    }
   ],
   "source": [
    "from tabulate import tabulate\n",
    "\n",
    "table = [[\"Mean Absolute Error\", metrics.mean_absolute_error(y_hat_test_OLS, y_test),\n",
    "          metrics.mean_absolute_error(y_hat_test_rf, y_test),\n",
    "          metrics.mean_absolute_error(y_hat_test_cb, y_test),\n",
    "          metrics.mean_absolute_error(y_hat_test_lb_def, y_test),\n",
    "          metrics.mean_absolute_error(y_hat_test_lb, y_test)], \n",
    "         \n",
    "        [\"Mean Squared Error\", metrics.mean_squared_error(y_hat_test_OLS,y_test),\n",
    "        metrics.mean_squared_error(y_hat_test_rf, y_test),\n",
    "        metrics.mean_squared_error(y_hat_test_cb, y_test),\n",
    "        metrics.mean_squared_error(y_hat_test_lb_def, y_test),\n",
    "        metrics.mean_squared_error(y_hat_test_lb, y_test)],\n",
    "         \n",
    "        ['Root Mean Squared Error', np.sqrt(metrics.mean_squared_error(y_hat_test_OLS,y_test)),\n",
    "        np.sqrt(metrics.mean_squared_error(y_hat_test_rf, y_test)),\n",
    "        np.sqrt(metrics.mean_squared_error(y_hat_test_cb, y_test)),\n",
    "        np.sqrt(metrics.mean_squared_error(y_hat_test_lb_def, y_test)),\n",
    "        np.sqrt(metrics.mean_squared_error(y_hat_test_lb, y_test)) ],\n",
    "         \n",
    "        ['R-squared score', round(r2_OLS,3), round (r2_rf,3), round (r2_cb,3), round(r2_lb_def, 3),\n",
    "         round (r2_lb,3)],\n",
    "                  \n",
    "        ['Execution time (seconds)', '-', round(diff_rf,2), round(diff_cb,2), round(diff_lb_def,2), \n",
    "         round(diff_lb,2)]]\n",
    "\n",
    "\n",
    "print(tabulate(table, headers=[\"Parameter\", \"Lin.reg OLS\", \"RandomForest\",\"Catboost\",\"LGBM\", \"Tuned LGBM\"], \n",
    "               numalign = \"left\"))"
   ]
  },
  {
   "cell_type": "markdown",
   "id": "62899674",
   "metadata": {
    "papermill": {
     "duration": 0.16736,
     "end_time": "2023-01-15T17:56:47.710455",
     "exception": false,
     "start_time": "2023-01-15T17:56:47.543095",
     "status": "completed"
    },
    "tags": []
   },
   "source": [
    "Hyperparameter-tuned LGBM provides the best results in all metrics, with the minimal result in all 3 error metrics and the maximum result in R-squared score. It is noteable that RandomForest, Catboost and LGBM performed similarly and outperformed OLS significantly (~10% better R-squared score). This is likely due to the dataset containing numerous outliers, which OLS struggles with inherently.\n",
    "\n",
    "In order to get the best possible predictive power out of the algorithms, hyperparameter tuning is necessary. This is a caveat due to the fact that it increases the time needed for computing, and the tuning itself is different for each dataset and the parameters have to be adjusted iteratively, until a satisfactory result is present. Hyperparameter tuning was only performed on LGBM, since it is the quickest algorithm in general and applying the tuning doesn't affect its speed significantly. To note is that all three algorithms performed well without tuning.\n",
    "\n",
    "A separate script was run with hyperparameter tuning for RF and Catboost but the results were not significantly improved, while computing time increased exponentially.\n",
    "\n",
    "In conclusion, the hyperparameter tuning in this project did not manage to significantly improve results and if training speed is desired, the default parameters set by each technique can be employed with a good amount of result accuracy. The Catboost regression model was able to correctly predict 91% of the real estate test dataset's price correctly, which is a significant improvement on the previous version of the project (82% R-squared). The inclusion of the location feature (in the dataset, 'subtitle' column) is attributed with this performance increase."
   ]
  }
 ],
 "metadata": {
  "kernelspec": {
   "display_name": "Python 3",
   "language": "python",
   "name": "python3"
  },
  "language_info": {
   "codemirror_mode": {
    "name": "ipython",
    "version": 3
   },
   "file_extension": ".py",
   "mimetype": "text/x-python",
   "name": "python",
   "nbconvert_exporter": "python",
   "pygments_lexer": "ipython3",
   "version": "3.7.12"
  },
  "papermill": {
   "default_parameters": {},
   "duration": 136.3659,
   "end_time": "2023-01-15T17:56:50.500328",
   "environment_variables": {},
   "exception": null,
   "input_path": "__notebook__.ipynb",
   "output_path": "__notebook__.ipynb",
   "parameters": {},
   "start_time": "2023-01-15T17:54:34.134428",
   "version": "2.3.4"
  }
 },
 "nbformat": 4,
 "nbformat_minor": 5
}
